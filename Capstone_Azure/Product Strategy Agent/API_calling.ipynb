{
 "cells": [
  {
   "cell_type": "markdown",
   "id": "bfa63b39",
   "metadata": {},
   "source": [
    "# Product Strategy Agent API Usage\n",
    "\n",
    "This notebook demonstrates how to use Reddit API, NewsAPI and Tavily Search using Python."
   ]
  },
  {
   "cell_type": "markdown",
   "id": "aeb948a9",
   "metadata": {},
   "source": [
    "# 1. Reddit API\n",
    "\n",
    "Posts and comments from target subreddits like r/beverages, r/CPG, \n",
    "r/healthydrinks. "
   ]
  },
  {
   "cell_type": "code",
   "execution_count": null,
   "id": "11b22c3b",
   "metadata": {},
   "outputs": [
    {
     "data": {
      "text/plain": [
       "[Document(metadata={'post_subreddit': 'r/investing', 'post_category': 'new', 'post_title': 'From $20 to $1,100/day- didn’t expect this to work', 'post_score': 7, 'post_id': '1l7ydqk', 'post_url': 'https://www.reddit.com/r/investing/comments/1l7ydqk/from_20_to_1100day_didnt_expect_this_to_work/', 'post_author': Redditor(name='Julefifou')}, page_content='H\\u200cey e\\u200cvery\\u200cone – just a qui\\u200cck sh\\u200care.  \\nA f\\u200cew da\\u200cys ago, I s\\u200ctumbled on a co\\u200cmment fr\\u200com redit user\\xa0*9000sins*\\xa0me\\u200cntioning a l\\u200cittle-te\\u200csted m\\u200cetho\\u200cd for ge\\u200ctting st\\u200cable daily ret\\u200curns.\\n\\nI tr\\u200cied it with $20 at fi\\u200crst – now I’m d\\u200coing aro\\u200cund $1100 e\\u200cvery da\\u200cy with the s\\u200came st\\u200ceps. N\\u200co weird apps, no l\\u200cogins – just tran\\u200csfers throu\\u200cgh regul\\u200car exch\\u200canges.\\n\\nHe alr\\u200ceady sha\\u200cred a fu\\u200cll guid\\u200ce fo\\u200cr fr\\u200cee, so I wo\\u200cn’t repe\\u200cat it h\\u200cere – but h\\u200conestly, wo\\u200crth a lo\\u200cok if you’re al\\u200cready tr\\u200cading or h\\u200colding c\\u200crypto.\\n\\nJu\\u200cst pa\\u200cssing this on – gr\\u200cateful to who\\u200cever f\\u200cound it fir\\u200cst. Th\\u200canks for r\\u200ceading!'),\n",
       " Document(metadata={'post_subreddit': 'r/investing', 'post_category': 'new', 'post_title': 'Should we use Voya’s Professional Management for our 401k?', 'post_score': 1, 'post_id': '1l7y706', 'post_url': 'https://www.reddit.com/r/investing/comments/1l7y706/should_we_use_voyas_professional_management_for/', 'post_author': Redditor(name='Fit_Establishment537')}, page_content='Does anyone have any experience/guidance on whether we should just keep contributing to a State Street Target Fund vs using the Professional Management? Fees are 0.2% of balance. We are 43/39 and have a balance of $439K. \\n\\nAre they really going to outperform the market? '),\n",
       " Document(metadata={'post_subreddit': 'r/investing', 'post_category': 'new', 'post_title': 'Comparative Analysis of the Four Most Promising AI Companies | PLTR | SNOW | CRWV | BGM', 'post_score': 0, 'post_id': '1l7y2k1', 'post_url': 'https://www.reddit.com/r/investing/comments/1l7y2k1/comparative_analysis_of_the_four_most_promising/', 'post_author': Redditor(name='FreeCelery8496')}, page_content='As AI technology rapidly evolves in 2025, identifying the long-term winners in the AI wave requires a clear understanding of each company\\'s position in the value chain, their technological core, and their competitive moat. This article compares four high-potential U.S. companies across the AI stack—from upstream compute infrastructure, to midstream data platforms, and downstream applications and accessibility.\\n\\nRoles of the Four Companies in the AI Value Chain:\\n\\n**CoreWeave — \"AI Cloud Compute Provider\" (Upstream)**\\n\\nKey Functions: Provides GPU infrastructure for AI model training and inference (supports H100/A100)\\n\\nRelationship with NVIDIA: A top-tier partner with early access to NVIDIA’s latest chips\\n\\nCompetitive Advantages: Specializes in infrastructure scheduling for AI training\\n\\n30–80% lower cost compared to AWS/GCP, with more flexible and customizable deployment options\\n\\nEssential Role: Acts as a \"GPU power plant\" for AI models\\n\\n**Snowflake — \"Data & Model Collaboration Platform\" (Midstream)**\\n\\nKey Functions: Builds a unified data platform that integrates structured, unstructured, and streaming data\\n\\nFeatures built-in AI environments (Snowpark + Cortex), supporting BYOM (Bring Your Own Model)\\n\\nAdvantages: SQL-driven, low technical barrier for enterprises\\n\\nA preferred platform for AI data modeling among large corporations\\n\\nEssential Role: Provides a \"data goldmine\" and model execution platform—serving as the \"operating system for AI\"\\n\\n**Palantir (PLTR) — \"AI Application Enablement System\" (Downstream)**\\n\\nKey Functions: Foundry + AIP integrates AI into workflows and business operations\\n\\nSupports natural language-driven decision-making, excels in managing complex processes\\n\\nTypical Clients: Governments, defense, energy, and manufacturing sectors\\n\\nMoat: High-level security; deeply embedded with governments and major enterprises\\n\\nEssential Role: Functions as the \"AI strategist\" for enterprises\\n\\n**BGM Group (BGM) — \"AI Productivity & Accessibility Platform\" (Connector / Emerging Downstream)**\\n\\nKey Functions: Develops replicable \"AI agents\" to help startups and small businesses deploy AI capabilities\\n\\nOffers low-code platform + industry knowledge bases to lower the barrier to AI development\\n\\nProvides intelligent solutions across marketing, finance, legal, healthcare, and more\\n\\nBusiness Model: Acquires industry know-how → modularizes it → integrates into a unified platform → scales via platform sales\\n\\nRevenue from platform usage + enterprise deployment fees + Agent marketplace commissions\\n\\nCompetitive Advantages: Acquisition-led integration (has acquired 6 core AI companies)\\n\\nPost-integration revenue doubling and margin expansion; rapid platform growth\\n\\nTargets the \"last mile of AI\" users—non-technical teams, creators, and small businesses\\n\\nEssential Role: Builds an “AI toolbox for everyone,” serving as the gateway to accessible AI\\n\\nThis content is for educational and informational purposes only and does not constitute investment advice. Markets involve risks—invest wisely.'),\n",
       " Document(metadata={'post_subreddit': 'r/investing', 'post_category': 'new', 'post_title': 'When whales are selling off, how does anybody know who it is?', 'post_score': 0, 'post_id': '1l7xi5d', 'post_url': 'https://www.reddit.com/r/investing/comments/1l7xi5d/when_whales_are_selling_off_how_does_anybody_know/', 'post_author': Redditor(name='whatchagonadot')}, page_content='Often someone on the investment channels or in the newspaper announces that billionaire XYZ or investor such and such, add a name here, has been selling such and such stocks or buying a specific equity. \\n\\nHow would anyone know who was selling what? I always thought it was going through a brokerage, and it was anonymous?'),\n",
       " Document(metadata={'post_subreddit': 'r/investing', 'post_category': 'new', 'post_title': 'How much do ethics factor into your investing decisions?', 'post_score': 0, 'post_id': '1l7wm5k', 'post_url': 'https://www.reddit.com/r/investing/comments/1l7wm5k/how_much_do_ethics_factor_into_your_investing/', 'post_author': Redditor(name='Odd-Record-1041')}, page_content='A conversation on a previous post got me thinking, do you consider a company’s ethical track record or the impact of their products when deciding to invest? And if that company is part of an ETF you like, would that stop you from investing in the ETF altogether?')]"
      ]
     },
     "execution_count": 10,
     "metadata": {},
     "output_type": "execute_result"
    }
   ],
   "source": [
    "from langchain_community.document_loaders import RedditPostsLoader\n",
    "\n",
    "# Install praw if needed\n",
    "# !pip install praw\n",
    "\n",
    "# load using 'subreddit' mode\n",
    "loader = RedditPostsLoader(\n",
    "    client_id=\"jqvxxx\",\n",
    "    client_secret=\"NyGVxxx\",\n",
    "    user_agent=\"extractor by u/Master_Ocelot8179\",\n",
    "    categories=[\"new\", \"hot\"],  # List of categories to load posts from\n",
    "    mode=\"subreddit\",\n",
    "    search_queries=[\n",
    "        \"investing\",\n",
    "        \"wallstreetbets\",\n",
    "    ],  # List of subreddits to load posts from\n",
    "    number_posts=20,  # Default value is 10\n",
    ")\n",
    "documents = loader.load()\n",
    "documents[:5]"
   ]
  },
  {
   "cell_type": "markdown",
   "id": "3bcc37a9",
   "metadata": {},
   "source": [
    "# 2. NewsAPI\n",
    "\n",
    "Real-time and historical articles from global and niche publications. "
   ]
  },
  {
   "cell_type": "code",
   "execution_count": null,
   "id": "916fd68d",
   "metadata": {},
   "outputs": [
    {
     "name": "stdout",
     "output_type": "stream",
     "text": [
      "✅ API Key is working!\n",
      "Total articles found: 148\n",
      "\n",
      "==================================================\n",
      "LATEST NEWS ARTICLES:\n",
      "==================================================\n",
      "\n",
      "1. Battle to eradicate invasive pythons in Florida achieves stunning milestone\n",
      "   Source: Phys.org - News And Articles On Science And Technology\n",
      "   Published: 2025-06-10T12:44:02+00:00\n",
      "   URL: https://phys.org/news/2025-06-eradicate-invasive-pythons-florida-stunning.html\n",
      "\n",
      "2. Taller gratuito para entender cómo Python puede transformar el trabajo en los negocios: Así te puedes inscribir\n",
      "   Source: enter\n",
      "   Published: 2025-06-09T17:16:47+00:00\n",
      "   URL: https://www.enter.co/especiales/dev/taller-gratuito-para-entender-como-python-puede-transformar-el-trabajo-en-los-negocios-asi-te-puedes-inscribir/\n",
      "\n",
      "3. PyCon Colombia 2025: la cita imperdible del ecosistema Python\n",
      "   Source: enter\n",
      "   Published: 2025-06-05T19:26:37+00:00\n",
      "   URL: https://www.enter.co/chips-bits/pycon-colombia-2025-la-cita-imperdible-del-ecosistema-python/\n",
      "\n",
      "4. Mistral Announces Agents API, with Code Execution, Search, and MCP Support\n",
      "   Source: iblnews\n",
      "   Published: 2025-06-05T04:00:37+00:00\n",
      "   URL: https://iblnews.org/mistral-announces-agents-api-with-code-execution-search-and-mcp-support/\n",
      "\n",
      "5. Así es el juego gratuito de Steam que te enseña Python con acción y misiones intensas\n",
      "   Source: enter\n",
      "   Published: 2025-06-04T21:27:51+00:00\n",
      "   URL: https://www.enter.co/cultura-digital/videojuegos/asi-es-el-juego-gratuito-de-steam-que-te-ensena-python-con-accion-y-misiones-intensas/\n"
     ]
    }
   ],
   "source": [
    "import requests\n",
    "import json\n",
    "\n",
    "# Replace with your actual MediaStack API key\n",
    "API_KEY = \"e150xxx\"\n",
    "\n",
    "# MediaStack API endpoint\n",
    "url = \"http://api.mediastack.com/v1/news\"\n",
    "\n",
    "# Parameters for the API request\n",
    "params = {\n",
    "    'access_key': API_KEY,\n",
    "    'keywords': 'python',  # Search for news about Python\n",
    "    'limit': 5  # Get only 5 articles\n",
    "}\n",
    "\n",
    "# Make the API request\n",
    "response = requests.get(url, params=params)\n",
    "\n",
    "# Check if request was successful\n",
    "if response.status_code == 200:\n",
    "    data = response.json()\n",
    "    \n",
    "    print(\"✅ API Key is working!\")\n",
    "    print(f\"Total articles found: {data.get('pagination', {}).get('total', 0)}\")\n",
    "    print(\"\\n\" + \"=\"*50)\n",
    "    print(\"LATEST NEWS ARTICLES:\")\n",
    "    print(\"=\"*50)\n",
    "    \n",
    "    # Display the articles\n",
    "    for i, article in enumerate(data.get('data', []), 1):\n",
    "        print(f\"\\n{i}. {article.get('title', 'No title')}\")\n",
    "        print(f\"   Source: {article.get('source', 'Unknown')}\")\n",
    "        print(f\"   Published: {article.get('published_at', 'Unknown date')}\")\n",
    "        print(f\"   URL: {article.get('url', 'No URL')}\")\n",
    "            \n",
    "        "
   ]
  },
  {
   "cell_type": "markdown",
   "id": "9e8a9835",
   "metadata": {},
   "source": [
    "# 3. Tavily Search API \n",
    "\n",
    "Curated search insights for trend summarization and clustering. "
   ]
  },
  {
   "cell_type": "code",
   "execution_count": null,
   "id": "da4cec1e",
   "metadata": {},
   "outputs": [
    {
     "name": "stdout",
     "output_type": "stream",
     "text": [
      "{'query': 'Write about Latest innovation in AI', 'follow_up_questions': None, 'answer': None, 'images': [], 'results': [{'title': '10 Latest Innovations in Artificial Intelligence (AI)', 'url': 'https://www.analyticssteps.com/blogs/10-latest-innovations-artificial-intelligence-ai', 'content': 'Let us look at the Top 10 latest innovations in the field of Artificial Intelligence that are currently trending in 2021. Top innovations in Artificial Intelligence . Intelligent Process Automation (IPA) Companies may automate the processing of unstructured data using a feature called Intelligent Process Automation in Artificial Intelligence.', 'score': 0.7420672, 'raw_content': None}, {'title': 'The Latest AI Breakthroughs and Innovations-2025 | News', 'url': 'https://www.crescendo.ai/news/new-ai-technologies-and-breakthroughs', 'content': \"These new AI breakthroughs and technologies offer valuable benefits for individuals, professionals, and businesses alike. Let's explore. AI breakthroughs and Innovations: The latest AI technology shaping 2025 These latest AI technologies have transformed business analytics, customer service, healthcare, content creation, photography, and more.\", 'score': 0.6501347, 'raw_content': None}, {'title': 'Artificial Intelligence News - Innovation, Trends & Predictions - Forbes', 'url': 'https://www.forbes.com/topics/artificial-intelligence/', 'content': \"New Study Reveals AI's Blind Spot: Children. New Turing Institute & LEGO study finds 1 in 5 UK kids aged 8-12 are using generative AI, some weekly. The research reveals what no one's been\", 'score': 0.2969401, 'raw_content': None}, {'title': 'AI for everything: 10 Breakthrough Technologies 2024', 'url': 'https://www.technologyreview.com/2024/01/08/1085096/artificial-intelligence-generative-ai-chatgpt-open-ai-breakthrough-technologies', 'content': 'Generative AI tools like ChatGPT reached mass adoption in record time, and reset the course of an entire industry. Google, Meta, Microsoft, OpenAI Now When OpenAI launched a free web app called', 'score': 0.28130242, 'raw_content': None}, {'title': 'The Top Artificial Intelligence Trends | IBM', 'url': 'https://www.ibm.com/think/insights/artificial-intelligence-trends', 'content': \"Though the concept behind mixture of experts (MoE) models dates back to 1991, it didn't enter mainstream natural language processing (NLP) or generative AI until Mistral AI's release of its Mixtral model in late 2023. 6 Though the model and its architecture received a great deal of attention—and OpenAI's GPT-4 was rumored (albeit never confirmed) to be an MoE upon release—it largely\", 'score': 0.21153119, 'raw_content': None}], 'response_time': 2.05}\n"
     ]
    }
   ],
   "source": [
    "from tavily import TavilyClient\n",
    "\n",
    "# Install tavily if needed\n",
    "# !pip install tavily-python\n",
    "\n",
    "tavily_client = TavilyClient(api_key=\"tvly-dev-D3wxxx\")\n",
    "response = tavily_client.search(\"Write about Latest innovation in AI\")\n",
    "\n",
    "print(response)"
   ]
  }
 ],
 "metadata": {
  "kernelspec": {
   "display_name": "Python 3",
   "language": "python",
   "name": "python3"
  },
  "language_info": {
   "codemirror_mode": {
    "name": "ipython",
    "version": 3
   },
   "file_extension": ".py",
   "mimetype": "text/x-python",
   "name": "python",
   "nbconvert_exporter": "python",
   "pygments_lexer": "ipython3",
   "version": "3.10.4"
  }
 },
 "nbformat": 4,
 "nbformat_minor": 5
}
