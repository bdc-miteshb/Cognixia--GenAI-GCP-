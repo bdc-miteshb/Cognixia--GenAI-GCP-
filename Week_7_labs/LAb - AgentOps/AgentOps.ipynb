{
  "cells": [
    {
      "cell_type": "markdown",
      "id": "wOaPQMa1kvvp",
      "metadata": {
        "id": "wOaPQMa1kvvp"
      },
      "source": [
        "## AgentOps Integration Guide - Step by Step\n",
        "### Overview\n",
        "This notebook demonstrates how to integrate AgentOps with OpenAI's API to track and monitor AI agent interactions. AgentOps provides observability for AI agents, allowing you to monitor performance, costs, and agent behaviors.\n",
        "\n",
        "## What is AgentOps?\n",
        "AgentOps is a comprehensive monitoring and observability platform specifically designed for AI agents and multi-agent systems. It acts as a \"mission control\" for your AI applications, providing real-time insights into how your agents are performing, what they're doing, and how much they're costing you.\n",
        "\n",
        "## Why Use AgentOps?\n",
        "Without AgentOps, when you deploy AI agents, you're essentially flying blind:\n",
        "\n",
        "* ❌ No visibility into agent decision-making processes\n",
        "* ❌ No cost tracking across multiple API calls\n",
        "* ❌ Difficult to debug when agents fail or behave unexpectedly\n",
        "* ❌ No performance metrics to optimize your agents\n",
        "* ❌ Hard to track which agent did what in multi-agent scenarios\n",
        "\n",
        "With AgentOps, you get complete visibility:\n",
        "\n",
        "* ✅ Real-time Monitoring: See exactly what your agents are doing as they do it\n",
        "* ✅ Cost Tracking: Monitor token usage and costs across all your AI interactions\n",
        "* ✅ Performance Analytics: Track response times, success rates, and error patterns\n",
        "* ✅ Agent Attribution: Know which specific agent performed each action\n",
        "* ✅ Session Management: Group related agent activities for easier analysis\n",
        "* ✅ Debugging Tools: Detailed logs and traces for troubleshooting\n",
        "\n",
        "## Step 1: Installation and Dependencies"
      ]
    },
    {
      "cell_type": "code",
      "execution_count": 15,
      "id": "mC8aPuumkvRJ",
      "metadata": {
        "id": "mC8aPuumkvRJ"
      },
      "outputs": [],
      "source": [
        "!pip install agentops openai python-dotenv"
      ]
    },
    {
      "cell_type": "markdown",
      "id": "mylnnvQMk_-h",
      "metadata": {
        "id": "mylnnvQMk_-h"
      },
      "source": [
        "### Purpose: Install the required packages:\n",
        "\n",
        "agentops: The main monitoring and observability library\n",
        "openai: OpenAI's official Python client\n",
        "python-dotenv: For loading environment variables from .env files"
      ]
    },
    {
      "cell_type": "markdown",
      "id": "VEIOV8UilEgZ",
      "metadata": {
        "id": "VEIOV8UilEgZ"
      },
      "source": [
        "## Step 2: Import Required Libraries"
      ]
    },
    {
      "cell_type": "code",
      "execution_count": null,
      "id": "aNfGnwjsksiK",
      "metadata": {
        "id": "aNfGnwjsksiK"
      },
      "outputs": [],
      "source": [
        "import agentops\n",
        "from agentops.sdk.decorators import agent, operation\n",
        "from openai import OpenAI\n",
        "import os\n",
        "from dotenv import load_dotenv\n",
        "import logging\n",
        "from IPython.display import display, Markdown"
      ]
    },
    {
      "cell_type": "markdown",
      "id": "gGfOkravlHIp",
      "metadata": {
        "id": "gGfOkravlHIp"
      },
      "source": [
        "## Step 3: Environment Setup and Configuration"
      ]
    },
    {
      "cell_type": "code",
      "execution_count": 3,
      "id": "20de779e",
      "metadata": {
        "id": "20de779e"
      },
      "outputs": [],
      "source": [
        "load_dotenv()\n",
        "OPENAI_API_KEY = \"Your_Opean_AI_API_Key\"\n",
        "AGENTOPS_API_KEY = \"Your_AGENTOPS_API\"\n",
        "logging.basicConfig(\n",
        "    level=logging.DEBUG\n",
        ")"
      ]
    },
    {
      "cell_type": "markdown",
      "id": "n1HkBQ3MlUKh",
      "metadata": {
        "id": "n1HkBQ3MlUKh"
      },
      "source": [
        "## Step 4: Initialize Services"
      ]
    },
    {
      "cell_type": "code",
      "execution_count": 4,
      "id": "08cc7ad8",
      "metadata": {
        "colab": {
          "base_uri": "https://localhost:8080/"
        },
        "id": "08cc7ad8",
        "outputId": "726c20d2-00a5-4c68-adbc-cbd289eb8ebb"
      },
      "outputs": [
        {
          "name": "stderr",
          "output_type": "stream",
          "text": [
            "🖇 AgentOps: [OPENAI INSTRUMENTOR] Error setting up OpenAI streaming wrappers: No module named 'openai.resources.beta.chat'\n",
            "🖇 AgentOps: AgentOps: Successfully instrumented 'OpenaiInstrumentor' for package 'agentops.instrumentation.providers.openai'.\n"
          ]
        },
        {
          "name": "stdout",
          "output_type": "stream",
          "text": [
            "✅ Setup complete!\n"
          ]
        }
      ],
      "source": [
        "openai = OpenAI(api_key=OPENAI_API_KEY)\n",
        "agentops.init(AGENTOPS_API_KEY, tags=[\"openai-gpt-notebook\"])\n",
        "print(\"✅ Setup complete!\")"
      ]
    },
    {
      "cell_type": "markdown",
      "id": "nlsrjQvel7sx",
      "metadata": {
        "id": "nlsrjQvel7sx"
      },
      "source": [
        "## Step 5: Basic OpenAI API Call with Monitoring"
      ]
    },
    {
      "cell_type": "code",
      "execution_count": 5,
      "id": "c24a119f",
      "metadata": {
        "colab": {
          "base_uri": "https://localhost:8080/"
        },
        "id": "c24a119f",
        "outputId": "0d732954-690f-4a18-a7b0-6c8bb5422b23"
      },
      "outputs": [
        {
          "name": "stdout",
          "output_type": "stream",
          "text": [
            "Shadows in the night, whispers in the dark, secret agents embark.\n"
          ]
        }
      ],
      "source": [
        "message = [{\"role\": \"user\", \"content\": \"Write a 12 word poem about secret agents.\"}]\n",
        "response = openai.chat.completions.create(\n",
        "    model=\"gpt-3.5-turbo\", messages=message, temperature=0.5, stream=False\n",
        ")\n",
        "print(response.choices[0].message.content)"
      ]
    },
    {
      "cell_type": "markdown",
      "id": "2uBfIebVl-Wg",
      "metadata": {
        "id": "2uBfIebVl-Wg"
      },
      "source": [
        "## Step 6: End Session"
      ]
    },
    {
      "cell_type": "code",
      "execution_count": 6,
      "id": "a611e48f",
      "metadata": {
        "colab": {
          "base_uri": "https://localhost:8080/"
        },
        "id": "a611e48f",
        "outputId": "1907da93-65de-48f4-9517-61f8ce461c61"
      },
      "outputs": [
        {
          "name": "stderr",
          "output_type": "stream",
          "text": [
            "🖇 AgentOps: end_session() is deprecated and will be removed in v4 in the future. Use agentops.end_trace() instead.\n",
            "🖇 AgentOps: end_session called but no active trace context found.\n"
          ]
        }
      ],
      "source": [
        "agentops.end_session(\"Success\")"
      ]
    },
    {
      "cell_type": "markdown",
      "id": "R5fErYYYmA0R",
      "metadata": {
        "id": "R5fErYYYmA0R"
      },
      "source": [
        "## Step 7: Multi-Agent Architecture Setup\n",
        "### Initialize New Session"
      ]
    },
    {
      "cell_type": "code",
      "execution_count": 7,
      "id": "bedaf7af",
      "metadata": {
        "id": "bedaf7af"
      },
      "outputs": [],
      "source": [
        "agentops.init(AGENTOPS_API_KEY, tags=[\"multi-agent-notebook\"])\n",
        "openai_client = OpenAI(api_key=OPENAI_API_KEY)"
      ]
    },
    {
      "cell_type": "markdown",
      "id": "cI_veTrimEcZ",
      "metadata": {
        "id": "cI_veTrimEcZ"
      },
      "source": [
        "## Create QA Agent Class"
      ]
    },
    {
      "cell_type": "code",
      "execution_count": 8,
      "id": "0d2ed064",
      "metadata": {
        "id": "0d2ed064"
      },
      "outputs": [],
      "source": [
        "@agent(name=\"qa\")\n",
        "class QaAgent:\n",
        "    def __init__(self):\n",
        "        pass\n",
        "\n",
        "    @operation\n",
        "    def completion(self, prompt: str):\n",
        "        res = openai_client.chat.completions.create(\n",
        "            model=\"gpt-3.5-turbo\",\n",
        "            messages=[\n",
        "                {\n",
        "                    \"role\": \"system\",\n",
        "                    \"content\": \"You are a qa engineer and only output python code, no markdown tags.\",\n",
        "                },\n",
        "                {\"role\": \"user\", \"content\": prompt},\n",
        "            ],\n",
        "            temperature=0.5,\n",
        "        )\n",
        "        return res.choices[0].message.content\n"
      ]
    },
    {
      "cell_type": "markdown",
      "id": "2H4rJ0KCmT9h",
      "metadata": {
        "id": "2H4rJ0KCmT9h"
      },
      "source": [
        "## Create Engineer Agent Class"
      ]
    },
    {
      "cell_type": "code",
      "execution_count": 9,
      "id": "646a5ef9",
      "metadata": {
        "id": "646a5ef9"
      },
      "outputs": [],
      "source": [
        "@agent(name=\"engineer\")\n",
        "class EngineerAgent:\n",
        "    def __init__(self):\n",
        "        pass\n",
        "\n",
        "    @operation\n",
        "    def completion(self, prompt: str):\n",
        "        res = openai_client.chat.completions.create(\n",
        "            model=\"gpt-3.5-turbo\",\n",
        "            messages=[\n",
        "                {\n",
        "                    \"role\": \"system\",\n",
        "                    \"content\": \"You are a software engineer and only output python code, no markdown tags.\",\n",
        "                },\n",
        "                {\"role\": \"user\", \"content\": prompt},\n",
        "            ],\n",
        "            temperature=0.5,\n",
        "        )\n",
        "        return res.choices[0].message.content"
      ]
    },
    {
      "cell_type": "markdown",
      "id": "x2imtG8vmW2B",
      "metadata": {
        "id": "x2imtG8vmW2B"
      },
      "source": [
        "## Step 8: Instantiate Agents"
      ]
    },
    {
      "cell_type": "code",
      "execution_count": 10,
      "id": "fa4936db",
      "metadata": {
        "id": "fa4936db"
      },
      "outputs": [],
      "source": [
        "qa = QaAgent()\n",
        "engineer = EngineerAgent()"
      ]
    },
    {
      "cell_type": "markdown",
      "id": "-BEs2u64mYwp",
      "metadata": {
        "id": "-BEs2u64mYwp"
      },
      "source": [
        "## Step 9: Generate Code with Engineer Agent"
      ]
    },
    {
      "cell_type": "code",
      "execution_count": 11,
      "id": "14620b54",
      "metadata": {
        "id": "14620b54"
      },
      "outputs": [],
      "source": [
        "generated_func = engineer.completion(\"python function to test prime number\")"
      ]
    },
    {
      "cell_type": "markdown",
      "id": "CjUZWSbPmawQ",
      "metadata": {
        "id": "CjUZWSbPmawQ"
      },
      "source": [
        "## Step 10: Display Generated Code"
      ]
    },
    {
      "cell_type": "code",
      "execution_count": 12,
      "id": "eedb4dcb",
      "metadata": {
        "colab": {
          "base_uri": "https://localhost:8080/",
          "height": 138
        },
        "id": "eedb4dcb",
        "outputId": "f0c9a7e9-e432-47b9-f924-53045134e0ec"
      },
      "outputs": [
        {
          "data": {
            "text/markdown": [
              "```python\n",
              "def is_prime(num):\n",
              "    if num < 2:\n",
              "        return False\n",
              "    for i in range(2, int(num ** 0.5) + 1):\n",
              "        if num % i == 0:\n",
              "            return False\n",
              "    return True\n",
              "```"
            ],
            "text/plain": [
              "<IPython.core.display.Markdown object>"
            ]
          },
          "metadata": {},
          "output_type": "display_data"
        }
      ],
      "source": [
        "display(Markdown(\"```python\\n\" + generated_func + \"\\n```\"))"
      ]
    },
    {
      "cell_type": "markdown",
      "id": "PIHBaX28mdbi",
      "metadata": {
        "id": "PIHBaX28mdbi"
      },
      "source": [
        "## Step 11: Generate Tests with QA Agent"
      ]
    },
    {
      "cell_type": "code",
      "execution_count": 13,
      "id": "fbe3db54",
      "metadata": {
        "id": "fbe3db54"
      },
      "outputs": [],
      "source": [
        "generated_test = qa.completion(\n",
        "    \"Write a python unit test that test the following function: \\n \" + generated_func\n",
        ")"
      ]
    },
    {
      "cell_type": "markdown",
      "id": "paeg4p4fmfQg",
      "metadata": {
        "id": "paeg4p4fmfQg"
      },
      "source": [
        "## Step 12: Display Generated Tests"
      ]
    },
    {
      "cell_type": "code",
      "execution_count": 14,
      "id": "978db729",
      "metadata": {
        "colab": {
          "base_uri": "https://localhost:8080/",
          "height": 416
        },
        "id": "978db729",
        "outputId": "f526575e-cab2-4ff6-837f-8764565e45e3"
      },
      "outputs": [
        {
          "data": {
            "text/markdown": [
              "```python\n",
              "import unittest\n",
              "\n",
              "def is_prime(num):\n",
              "    if num < 2:\n",
              "        return False\n",
              "    for i in range(2, int(num ** 0.5) + 1):\n",
              "        if num % i == 0:\n",
              "            return False\n",
              "    return True\n",
              "\n",
              "class TestIsPrime(unittest.TestCase):\n",
              "\n",
              "    def test_is_prime(self):\n",
              "        self.assertFalse(is_prime(1))\n",
              "        self.assertTrue(is_prime(2))\n",
              "        self.assertTrue(is_prime(3))\n",
              "        self.assertTrue(is_prime(5))\n",
              "        self.assertFalse(is_prime(4))\n",
              "        self.assertFalse(is_prime(6))\n",
              "        self.assertTrue(is_prime(7))\n",
              "\n",
              "if __name__ == '__main__':\n",
              "    unittest.main()\n",
              "```"
            ],
            "text/plain": [
              "<IPython.core.display.Markdown object>"
            ]
          },
          "metadata": {},
          "output_type": "display_data"
        }
      ],
      "source": [
        "display(Markdown(\"```python\\n\" + generated_test + \"\\n```\"))"
      ]
    },
    {
      "cell_type": "markdown",
      "id": "f29e5f3d",
      "metadata": {},
      "source": [
        "# Traces\n",
        "\n",
        "Now Go to AgentOps website from where you have take the api and go to Traces Section you can see all the traces of the Agent"
      ]
    },
    {
      "cell_type": "markdown",
      "id": "c54f2b97",
      "metadata": {},
      "source": [
        "<img src=\"images/Screenshot 2025-07-24 100720.png\">"
      ]
    },
    {
      "cell_type": "markdown",
      "id": "20b6ee49",
      "metadata": {},
      "source": [
        "<img src=\"images/Screenshot 2025-07-24 100820.png\">"
      ]
    }
  ],
  "metadata": {
    "accelerator": "GPU",
    "colab": {
      "gpuType": "T4",
      "provenance": []
    },
    "kernelspec": {
      "display_name": "Python 3",
      "name": "python3"
    },
    "language_info": {
      "codemirror_mode": {
        "name": "ipython",
        "version": 3
      },
      "file_extension": ".py",
      "mimetype": "text/x-python",
      "name": "python",
      "nbconvert_exporter": "python",
      "pygments_lexer": "ipython3",
      "version": "3.13.5"
    }
  },
  "nbformat": 4,
  "nbformat_minor": 5
}
