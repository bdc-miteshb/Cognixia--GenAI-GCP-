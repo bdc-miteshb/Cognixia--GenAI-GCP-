{
  "cells": [
    {
      "cell_type": "markdown",
      "id": "wOaPQMa1kvvp",
      "metadata": {
        "id": "wOaPQMa1kvvp"
      },
      "source": [
        "## AgentOps Integration Guide - Step by Step\n",
        "### Overview\n",
        "This notebook demonstrates how to integrate AgentOps with Google's Gemini 1.5 Flash API to track and monitor AI agent interactions. AgentOps provides observability for AI agents, allowing you to monitor performance, costs, and agent behaviors.\n",
        "\n",
        "## What is AgentOps?\n",
        "AgentOps is a comprehensive monitoring and observability platform specifically designed for AI agents and multi-agent systems. It acts as a \"mission control\" for your AI applications, providing real-time insights into how your agents are performing, what they're doing, and how much they're costing you.\n",
        "\n",
        "## Why Use AgentOps?\n",
        "Without AgentOps, when you deploy AI agents, you're essentially flying blind:\n",
        "\n",
        "* ❌ No visibility into agent decision-making processes\n",
        "* ❌ No cost tracking across multiple API calls\n",
        "* ❌ Difficult to debug when agents fail or behave unexpectedly\n",
        "* ❌ No performance metrics to optimize your agents\n",
        "* ❌ Hard to track which agent did what in multi-agent scenarios\n",
        "\n",
        "With AgentOps, you get complete visibility:\n",
        "\n",
        "* ✅ Real-time Monitoring: See exactly what your agents are doing as they do it\n",
        "* ✅ Cost Tracking: Monitor token usage and costs across all your AI interactions\n",
        "* ✅ Performance Analytics: Track response times, success rates, and error patterns\n",
        "* ✅ Agent Attribution: Know which specific agent performed each action\n",
        "* ✅ Session Management: Group related agent activities for easier analysis\n",
        "* ✅ Debugging Tools: Detailed logs and traces for troubleshooting\n",
        "\n",
        "## Step 1: Installation and Dependencies"
      ]
    },
    {
      "cell_type": "code",
      "execution_count": 1,
      "id": "mC8aPuumkvRJ",
      "metadata": {
        "id": "mC8aPuumkvRJ",
        "colab": {
          "base_uri": "https://localhost:8080/"
        },
        "outputId": "a0ad31aa-0960-4e33-feb2-6c3d96269ec7"
      },
      "outputs": [
        {
          "output_type": "stream",
          "name": "stdout",
          "text": [
            "\u001b[?25l   \u001b[90m━━━━━━━━━━━━━━━━━━━━━━━━━━━━━━━━━━━━━━━━\u001b[0m \u001b[32m0.0/285.3 kB\u001b[0m \u001b[31m?\u001b[0m eta \u001b[36m-:--:--\u001b[0m\r\u001b[2K   \u001b[90m━━━━━━━━━━━━━━━━━━━━━━━━━━━━━━━━━━━━━━━━\u001b[0m \u001b[32m285.3/285.3 kB\u001b[0m \u001b[31m23.0 MB/s\u001b[0m eta \u001b[36m0:00:00\u001b[0m\n",
            "\u001b[?25h\u001b[?25l   \u001b[90m━━━━━━━━━━━━━━━━━━━━━━━━━━━━━━━━━━━━━━━━\u001b[0m \u001b[32m0.0/65.6 kB\u001b[0m \u001b[31m?\u001b[0m eta \u001b[36m-:--:--\u001b[0m\r\u001b[2K   \u001b[90m━━━━━━━━━━━━━━━━━━━━━━━━━━━━━━━━━━━━━━━━\u001b[0m \u001b[32m65.6/65.6 kB\u001b[0m \u001b[31m6.7 MB/s\u001b[0m eta \u001b[36m0:00:00\u001b[0m\n",
            "\u001b[?25h\u001b[?25l   \u001b[90m━━━━━━━━━━━━━━━━━━━━━━━━━━━━━━━━━━━━━━━━\u001b[0m \u001b[32m0.0/72.5 kB\u001b[0m \u001b[31m?\u001b[0m eta \u001b[36m-:--:--\u001b[0m\r\u001b[2K   \u001b[90m━━━━━━━━━━━━━━━━━━━━━━━━━━━━━━━━━━━━━━━━\u001b[0m \u001b[32m72.5/72.5 kB\u001b[0m \u001b[31m7.6 MB/s\u001b[0m eta \u001b[36m0:00:00\u001b[0m\n",
            "\u001b[?25h\u001b[?25l   \u001b[90m━━━━━━━━━━━━━━━━━━━━━━━━━━━━━━━━━━━━━━━━\u001b[0m \u001b[32m0.0/201.6 kB\u001b[0m \u001b[31m?\u001b[0m eta \u001b[36m-:--:--\u001b[0m\r\u001b[2K   \u001b[90m━━━━━━━━━━━━━━━━━━━━━━━━━━━━━━━━━━━━━━━━\u001b[0m \u001b[32m201.6/201.6 kB\u001b[0m \u001b[31m20.5 MB/s\u001b[0m eta \u001b[36m0:00:00\u001b[0m\n",
            "\u001b[?25h\u001b[?25l   \u001b[90m━━━━━━━━━━━━━━━━━━━━━━━━━━━━━━━━━━━━━━━━\u001b[0m \u001b[32m0.0/119.4 kB\u001b[0m \u001b[31m?\u001b[0m eta \u001b[36m-:--:--\u001b[0m\r\u001b[2K   \u001b[90m━━━━━━━━━━━━━━━━━━━━━━━━━━━━━━━━━━━━━━━━\u001b[0m \u001b[32m119.4/119.4 kB\u001b[0m \u001b[31m12.9 MB/s\u001b[0m eta \u001b[36m0:00:00\u001b[0m\n",
            "\u001b[?25h\u001b[?25l   \u001b[90m━━━━━━━━━━━━━━━━━━━━━━━━━━━━━━━━━━━━━━━━\u001b[0m \u001b[32m0.0/65.5 kB\u001b[0m \u001b[31m?\u001b[0m eta \u001b[36m-:--:--\u001b[0m\r\u001b[2K   \u001b[90m━━━━━━━━━━━━━━━━━━━━━━━━━━━━━━━━━━━━━━━━\u001b[0m \u001b[32m65.5/65.5 kB\u001b[0m \u001b[31m6.4 MB/s\u001b[0m eta \u001b[36m0:00:00\u001b[0m\n",
            "\u001b[?25h\u001b[?25l   \u001b[90m━━━━━━━━━━━━━━━━━━━━━━━━━━━━━━━━━━━━━━━━\u001b[0m \u001b[32m0.0/278.0 kB\u001b[0m \u001b[31m?\u001b[0m eta \u001b[36m-:--:--\u001b[0m\r\u001b[2K   \u001b[90m━━━━━━━━━━━━━━━━━━━━━━━━━━━━━━━━━━━━━━━━\u001b[0m \u001b[32m278.0/278.0 kB\u001b[0m \u001b[31m23.5 MB/s\u001b[0m eta \u001b[36m0:00:00\u001b[0m\n",
            "\u001b[?25h"
          ]
        }
      ],
      "source": [
        "!pip install agentops python-dotenv google-generativeai -q"
      ]
    },
    {
      "cell_type": "markdown",
      "id": "mylnnvQMk_-h",
      "metadata": {
        "id": "mylnnvQMk_-h"
      },
      "source": [
        "### Purpose: Install the required packages:\n",
        "- agentops: The main monitoring and observability library\n",
        "- google-generativeai: Google's official Gemini Python client\n",
        "- python-dotenv: For loading environment variables from .env files"
      ]
    },
    {
      "cell_type": "markdown",
      "id": "VEIOV8UilEgZ",
      "metadata": {
        "id": "VEIOV8UilEgZ"
      },
      "source": [
        "## Step 2: Import Required Libraries"
      ]
    },
    {
      "cell_type": "code",
      "execution_count": 2,
      "id": "aNfGnwjsksiK",
      "metadata": {
        "id": "aNfGnwjsksiK"
      },
      "outputs": [],
      "source": [
        "import agentops\n",
        "from agentops.sdk.decorators import agent, operation\n",
        "import google.generativeai as genai\n",
        "import os\n",
        "from dotenv import load_dotenv\n",
        "import logging\n",
        "from IPython.display import display, Markdown"
      ]
    },
    {
      "cell_type": "markdown",
      "id": "gGfOkravlHIp",
      "metadata": {
        "id": "gGfOkravlHIp"
      },
      "source": [
        "## Step 3: Environment Setup and Configuration"
      ]
    },
    {
      "cell_type": "code",
      "execution_count": 3,
      "id": "20de779e",
      "metadata": {
        "id": "20de779e"
      },
      "outputs": [],
      "source": [
        "load_dotenv()\n",
        "GEMINI_API_KEY = \"your_Gemini_api_key\"\n",
        "AGENTOPS_API_KEY = \"your_agentops_api_key\"\n",
        "logging.basicConfig(\n",
        "    level=logging.DEBUG\n",
        ")"
      ]
    },
    {
      "cell_type": "markdown",
      "id": "n1HkBQ3MlUKh",
      "metadata": {
        "id": "n1HkBQ3MlUKh"
      },
      "source": [
        "## Step 4: Initialize Services"
      ]
    },
    {
      "cell_type": "code",
      "execution_count": 8,
      "id": "08cc7ad8",
      "metadata": {
        "colab": {
          "base_uri": "https://localhost:8080/"
        },
        "id": "08cc7ad8",
        "outputId": "2462a9bc-6886-4039-8490-f1f9969bce6c"
      },
      "outputs": [
        {
          "output_type": "stream",
          "name": "stdout",
          "text": [
            "✅ Setup complete!\n"
          ]
        }
      ],
      "source": [
        "gemini_model = genai.GenerativeModel('gemini-1.5-flash')\n",
        "\n",
        "# Initialize AgentOps\n",
        "agentops.init(AGENTOPS_API_KEY, tags=[\"gemini-1.5-flash-notebook\"])\n",
        "print(\"✅ Setup complete!\")"
      ]
    },
    {
      "cell_type": "markdown",
      "id": "nlsrjQvel7sx",
      "metadata": {
        "id": "nlsrjQvel7sx"
      },
      "source": [
        "## Step 5: Basic Gemini API Call with Monitoring"
      ]
    },
    {
      "cell_type": "code",
      "execution_count": 10,
      "id": "c24a119f",
      "metadata": {
        "colab": {
          "base_uri": "https://localhost:8080/",
          "height": 90
        },
        "id": "c24a119f",
        "outputId": "6567b5a7-454e-416a-df6e-38743a62f780"
      },
      "outputs": [
        {
          "output_type": "stream",
          "name": "stdout",
          "text": [
            "Shadows dance, secrets kept,\n",
            "Missions bold, lives swept,\n",
            "Danger near, truth unclear.\n",
            "\n"
          ]
        }
      ],
      "source": [
        "genai.configure(api_key=GEMINI_API_KEY)\n",
        "\n",
        "# Simple API call with AgentOps monitoring\n",
        "prompt = \"Write a 12 word poem about secret agents.\"\n",
        "\n",
        "# Generate response with Gemini 1.5 Flash\n",
        "response = gemini_model.generate_content(\n",
        "    prompt,\n",
        "    generation_config=genai.types.GenerationConfig(\n",
        "        temperature=0.5,\n",
        "    )\n",
        ")\n",
        "\n",
        "print(response.text)"
      ]
    },
    {
      "cell_type": "markdown",
      "id": "2uBfIebVl-Wg",
      "metadata": {
        "id": "2uBfIebVl-Wg"
      },
      "source": [
        "## Step 6: End Session"
      ]
    },
    {
      "cell_type": "code",
      "execution_count": 11,
      "id": "a611e48f",
      "metadata": {
        "colab": {
          "base_uri": "https://localhost:8080/"
        },
        "id": "a611e48f",
        "outputId": "024c65b6-d325-41b5-d537-c72a55b59d4d"
      },
      "outputs": [
        {
          "output_type": "stream",
          "name": "stderr",
          "text": [
            "🖇 AgentOps: end_session() is deprecated and will be removed in v4 in the future. Use agentops.end_trace() instead.\n",
            "🖇 AgentOps: end_session called but no active trace context found.\n"
          ]
        }
      ],
      "source": [
        "agentops.end_session(\"Success\")"
      ]
    },
    {
      "cell_type": "markdown",
      "id": "R5fErYYYmA0R",
      "metadata": {
        "id": "R5fErYYYmA0R"
      },
      "source": [
        "## Step 7: Multi-Agent Architecture Setup\n",
        "### Initialize New Session"
      ]
    },
    {
      "cell_type": "code",
      "execution_count": 12,
      "id": "bedaf7af",
      "metadata": {
        "id": "bedaf7af"
      },
      "outputs": [],
      "source": [
        "# Reinitialize for multi-agent demo\n",
        "agentops.init(AGENTOPS_API_KEY, tags=[\"multi-agent-gemini-notebook\"])\n",
        "gemini_client = genai.GenerativeModel('gemini-1.5-flash')"
      ]
    },
    {
      "cell_type": "markdown",
      "id": "cI_veTrimEcZ",
      "metadata": {
        "id": "cI_veTrimEcZ"
      },
      "source": [
        "## Create QA Agent Class"
      ]
    },
    {
      "cell_type": "code",
      "execution_count": 13,
      "id": "0d2ed064",
      "metadata": {
        "id": "0d2ed064"
      },
      "outputs": [],
      "source": [
        "@agent(name=\"qa\")\n",
        "class QaAgent:\n",
        "    def __init__(self):\n",
        "        self.model = genai.GenerativeModel('gemini-1.5-flash')\n",
        "\n",
        "    @operation\n",
        "    def completion(self, prompt: str):\n",
        "        system_prompt = \"\"\"You are a QA engineer. Your task is to write Python unit tests.\n",
        "        Only output Python code without any markdown formatting or code blocks.\n",
        "        Focus on comprehensive test coverage.\"\"\"\n",
        "\n",
        "        full_prompt = f\"{system_prompt}\\n\\nUser request: {prompt}\"\n",
        "\n",
        "        response = self.model.generate_content(\n",
        "            full_prompt,\n",
        "            generation_config=genai.types.GenerationConfig(\n",
        "                temperature=0.5,\n",
        "            )\n",
        "        )\n",
        "        return response.text"
      ]
    },
    {
      "cell_type": "markdown",
      "id": "2H4rJ0KCmT9h",
      "metadata": {
        "id": "2H4rJ0KCmT9h"
      },
      "source": [
        "## Create Engineer Agent Class"
      ]
    },
    {
      "cell_type": "code",
      "execution_count": 14,
      "id": "646a5ef9",
      "metadata": {
        "id": "646a5ef9"
      },
      "outputs": [],
      "source": [
        "@agent(name=\"engineer\")\n",
        "class EngineerAgent:\n",
        "    def __init__(self):\n",
        "        self.model = genai.GenerativeModel('gemini-1.5-flash')\n",
        "\n",
        "    @operation\n",
        "    def completion(self, prompt: str):\n",
        "        system_prompt = \"\"\"You are a software engineer. Your task is to write clean, efficient Python code.\n",
        "        Only output Python code without any markdown formatting or code blocks.\n",
        "        Write well-documented, production-ready functions.\"\"\"\n",
        "\n",
        "        full_prompt = f\"{system_prompt}\\n\\nUser request: {prompt}\"\n",
        "\n",
        "        response = self.model.generate_content(\n",
        "            full_prompt,\n",
        "            generation_config=genai.types.GenerationConfig(\n",
        "                temperature=0.5,\n",
        "            )\n",
        "        )\n",
        "        return response.text"
      ]
    },
    {
      "cell_type": "markdown",
      "id": "x2imtG8vmW2B",
      "metadata": {
        "id": "x2imtG8vmW2B"
      },
      "source": [
        "## Step 8: Instantiate Agents"
      ]
    },
    {
      "cell_type": "code",
      "execution_count": 15,
      "id": "fa4936db",
      "metadata": {
        "id": "fa4936db"
      },
      "outputs": [],
      "source": [
        "qa = QaAgent()\n",
        "engineer = EngineerAgent()"
      ]
    },
    {
      "cell_type": "markdown",
      "id": "-BEs2u64mYwp",
      "metadata": {
        "id": "-BEs2u64mYwp"
      },
      "source": [
        "## Step 9: Generate Code with Engineer Agent"
      ]
    },
    {
      "cell_type": "code",
      "execution_count": 16,
      "id": "14620b54",
      "metadata": {
        "id": "14620b54"
      },
      "outputs": [],
      "source": [
        "generated_func = engineer.completion(\"python function to test prime number\")"
      ]
    },
    {
      "cell_type": "markdown",
      "id": "CjUZWSbPmawQ",
      "metadata": {
        "id": "CjUZWSbPmawQ"
      },
      "source": [
        "## Step 10: Display Generated Code"
      ]
    },
    {
      "cell_type": "code",
      "execution_count": 17,
      "id": "eedb4dcb",
      "metadata": {
        "colab": {
          "base_uri": "https://localhost:8080/",
          "height": 451
        },
        "id": "eedb4dcb",
        "outputId": "5f352425-d36f-4570-c178-157298a519b0"
      },
      "outputs": [
        {
          "output_type": "display_data",
          "data": {
            "text/plain": [
              "<IPython.core.display.Markdown object>"
            ],
            "text/markdown": "```python\ndef is_prime(number):\n    \"\"\"\n    Checks if a number is a prime number.\n\n    Args:\n        number: An integer greater than 1.\n\n    Returns:\n        True if the number is prime, False otherwise.  Returns False for numbers less than or equal to 1.\n        Raises TypeError if input is not an integer.\n    \"\"\"\n    if not isinstance(number, int):\n        raise TypeError(\"Input must be an integer.\")\n    if number <= 1:\n        return False\n    if number <= 3:\n        return True\n    if number % 2 == 0 or number % 3 == 0:\n        return False\n    i = 5\n    while i * i <= number:\n        if number % i == 0 or number % (i + 2) == 0:\n            return False\n        i += 6\n    return True\n\n```"
          },
          "metadata": {}
        }
      ],
      "source": [
        "display(Markdown(\"```python\\n\" + generated_func + \"\\n```\"))"
      ]
    },
    {
      "cell_type": "markdown",
      "id": "PIHBaX28mdbi",
      "metadata": {
        "id": "PIHBaX28mdbi"
      },
      "source": [
        "## Step 11: Generate Tests with QA Agent"
      ]
    },
    {
      "cell_type": "code",
      "execution_count": 18,
      "id": "fbe3db54",
      "metadata": {
        "id": "fbe3db54"
      },
      "outputs": [],
      "source": [
        "generated_test = qa.completion(\n",
        "    \"Write a python unit test that test the following function: \\n \" + generated_func\n",
        ")"
      ]
    },
    {
      "cell_type": "markdown",
      "id": "paeg4p4fmfQg",
      "metadata": {
        "id": "paeg4p4fmfQg"
      },
      "source": [
        "## Step 12: Display Generated Tests"
      ]
    },
    {
      "cell_type": "code",
      "execution_count": 19,
      "id": "978db729",
      "metadata": {
        "colab": {
          "base_uri": "https://localhost:8080/",
          "height": 1000
        },
        "id": "978db729",
        "outputId": "9484480c-7f1b-4e4a-efea-8408f39dba9c"
      },
      "outputs": [
        {
          "output_type": "display_data",
          "data": {
            "text/plain": [
              "<IPython.core.display.Markdown object>"
            ],
            "text/markdown": "```python\nimport unittest\n\ndef is_prime(number):\n    \"\"\"\n    Checks if a number is a prime number.\n\n    Args:\n        number: An integer greater than 1.\n\n    Returns:\n        True if the number is prime, False otherwise.  Returns False for numbers less than or equal to 1.\n        Raises TypeError if input is not an integer.\n    \"\"\"\n    if not isinstance(number, int):\n        raise TypeError(\"Input must be an integer.\")\n    if number <= 1:\n        return False\n    if number <= 3:\n        return True\n    if number % 2 == 0 or number % 3 == 0:\n        return False\n    i = 5\n    while i * i <= number:\n        if number % i == 0 or number % (i + 2) == 0:\n            return False\n        i += 6\n    return True\n\nclass TestIsPrime(unittest.TestCase):\n    def test_positive_cases(self):\n        self.assertTrue(is_prime(2))\n        self.assertTrue(is_prime(3))\n        self.assertTrue(is_prime(5))\n        self.assertTrue(is_prime(7))\n        self.assertTrue(is_prime(11))\n        self.assertTrue(is_prime(13))\n        self.assertTrue(is_prime(97))\n        self.assertTrue(is_prime(101))\n\n    def test_negative_cases(self):\n        self.assertFalse(is_prime(1))\n        self.assertFalse(is_prime(4))\n        self.assertFalse(is_prime(6))\n        self.assertFalse(is_prime(8))\n        self.assertFalse(is_prime(9))\n        self.assertFalse(is_prime(10))\n        self.assertFalse(is_prime(100))\n        self.assertFalse(is_prime(1000))\n\n    def test_edge_cases(self):\n        self.assertTrue(is_prime(3))\n\n    def test_type_error(self):\n        with self.assertRaises(TypeError):\n            is_prime(3.14)\n        with self.assertRaises(TypeError):\n            is_prime(\"10\")\n        with self.assertRaises(TypeError):\n            is_prime([10])\n\n    def test_large_prime(self):\n        self.assertTrue(is_prime(997))\n\n    def test_large_composite(self):\n        self.assertFalse(is_prime(1000))\n\n\nif __name__ == '__main__':\n    unittest.main()\n\n```"
          },
          "metadata": {}
        }
      ],
      "source": [
        "display(Markdown(\"```python\\n\" + generated_test + \"\\n```\"))"
      ]
    },
    {
      "cell_type": "markdown",
      "id": "f29e5f3d",
      "metadata": {
        "id": "f29e5f3d"
      },
      "source": [
        "# Traces\n",
        "\n",
        "Now Go to AgentOps website from where you have take the api and go to Traces Section you can see all the traces of the Agent"
      ]
    },
    {
      "cell_type": "markdown",
      "id": "c54f2b97",
      "metadata": {
        "id": "c54f2b97"
      },
      "source": [
        "<img src=\"images/Screenshot 2025-07-25 102314.png\">"
      ]
    },
    {
      "cell_type": "markdown",
      "id": "20b6ee49",
      "metadata": {
        "id": "20b6ee49"
      },
      "source": [
        "<img src=\"images/Screenshot 2025-07-25 102351.png\">"
      ]
    }
  ],
  "metadata": {
    "accelerator": "GPU",
    "colab": {
      "gpuType": "T4",
      "provenance": []
    },
    "kernelspec": {
      "display_name": "Python 3",
      "name": "python3"
    },
    "language_info": {
      "codemirror_mode": {
        "name": "ipython",
        "version": 3
      },
      "file_extension": ".py",
      "mimetype": "text/x-python",
      "name": "python",
      "nbconvert_exporter": "python",
      "pygments_lexer": "ipython3",
      "version": "3.10.4"
    }
  },
  "nbformat": 4,
  "nbformat_minor": 5
}