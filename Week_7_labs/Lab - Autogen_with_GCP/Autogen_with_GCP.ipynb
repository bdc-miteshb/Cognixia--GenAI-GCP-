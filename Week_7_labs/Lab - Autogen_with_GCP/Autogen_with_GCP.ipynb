{
  "cells": [
    {
      "cell_type": "markdown",
      "source": [
        "## AutoGen with Google Cloud Storage Integration\n",
        "### Overview\n",
        "This Jupyter notebook demonstrates how to integrate AutoGen (multi-agent conversation framework) with Google Cloud Storage (GCS) for automated file management tasks.\n",
        "\n",
        "## What is AutoGen?\n",
        "AutoGen is Microsoft's cutting-edge framework for creating multi-agent conversational AI systems. It enables multiple AI agents to collaborate, debate, and solve complex problems through structured conversations.\n",
        "Key AutoGen Features:\n",
        "\n",
        "* Multi-Agent Conversations: Multiple AI agents can talk to each other\n",
        "* Role Specialization: Each agent can have specific roles and capabilities\n",
        "* Function Calling: Agents can execute real-world functions and tools\n",
        "* Conversation Flow Control: Sophisticated conversation management\n",
        "* Human-in-the-Loop: Optional human oversight and intervention\n",
        "\n",
        "## What is Google Cloud Storage (GCS)?\n",
        "Google Cloud Storage is Google's object storage service for storing and accessing data on Google Cloud Platform. It's designed for storing any amount of data and retrieving it as often as needed.\n",
        "Key GCS Features:\n",
        "\n",
        "* Scalable Storage: Store from gigabytes to petabytes\n",
        "* Global Accessibility: Access data from anywhere in the world\n",
        "* Security: Enterprise-grade security and access controls\n",
        "* Cost-Effective: Multiple storage classes for different use cases\n",
        "* Integration: Works seamlessly with other Google Cloud services\n",
        "\n",
        "Dependencies and Installation"
      ],
      "metadata": {
        "id": "fp3WZJmbtrbu"
      },
      "id": "fp3WZJmbtrbu"
    },
    {
      "cell_type": "code",
      "source": [
        "!pip install autogen pyautogen google-generativeai openai python-dotenv langchain_google_genai ag2[gemini] vertexai"
      ],
      "metadata": {
        "id": "JyI0yVpstj8l"
      },
      "id": "JyI0yVpstj8l",
      "execution_count": null,
      "outputs": []
    },
    {
      "cell_type": "markdown",
      "source": [
        "## Required Imports"
      ],
      "metadata": {
        "id": "yQmlE1VJt0mV"
      },
      "id": "yQmlE1VJt0mV"
    },
    {
      "cell_type": "code",
      "execution_count": null,
      "id": "2bdc84e5",
      "metadata": {
        "id": "2bdc84e5"
      },
      "outputs": [],
      "source": [
        "import os\n",
        "from langchain_google_genai import ChatGoogleGenerativeAI\n",
        "import autogen\n",
        "from autogen import AssistantAgent, UserProxyAgent\n",
        "from google.cloud import storage"
      ]
    },
    {
      "cell_type": "markdown",
      "source": [
        "## Configuration Setup\n",
        "1. Google Cloud Authentication"
      ],
      "metadata": {
        "id": "8Qps5vbHt4Hc"
      },
      "id": "8Qps5vbHt4Hc"
    },
    {
      "cell_type": "code",
      "execution_count": null,
      "id": "a6fd3960",
      "metadata": {
        "id": "a6fd3960"
      },
      "outputs": [],
      "source": [
        "api_key = \"your_Cloud_Authentication_json_file\"\n",
        "\n",
        "os.environ[\"GOOGLE_APPLICATION_CREDENTIALS\"] = api_key"
      ]
    },
    {
      "cell_type": "code",
      "execution_count": null,
      "id": "10af4c0e",
      "metadata": {
        "colab": {
          "base_uri": "https://localhost:8080/"
        },
        "id": "10af4c0e",
        "outputId": "42658334-0a9e-45da-9e4d-23d93a6796cb"
      },
      "outputs": [
        {
          "output_type": "stream",
          "name": "stdout",
          "text": [
            "Successfully connected to GCP project: Gen-ai\n"
          ]
        }
      ],
      "source": [
        "# Test credentials\n",
        "try:\n",
        "    client = storage.Client(project=\"Gen-ai\") # project Name Gen-ai\n",
        "    print(f\"Successfully connected to GCP project: {client.project}\")\n",
        "except Exception as e:\n",
        "    print(f\"Failed to connect to GCP: {str(e)}\")\n",
        "    exit()"
      ]
    },
    {
      "cell_type": "markdown",
      "source": [
        "## 2. OpenAI API Configuration"
      ],
      "metadata": {
        "id": "TU6hefADuEcs"
      },
      "id": "TU6hefADuEcs"
    },
    {
      "cell_type": "code",
      "execution_count": null,
      "id": "70b80db1",
      "metadata": {
        "id": "70b80db1"
      },
      "outputs": [],
      "source": [
        "# Your exact setup\n",
        "os.environ[\"OPENAI_API_KEY\"] = \"Your_API_Key\"\n"
      ]
    },
    {
      "cell_type": "code",
      "execution_count": null,
      "id": "884ebd6f",
      "metadata": {
        "id": "884ebd6f"
      },
      "outputs": [],
      "source": [
        "config_list = [\n",
        "    {\n",
        "        \"model\": \"gpt-4o\",\n",
        "        \"api_key\": os.getenv(\"OPENAI_API_KEY\")\n",
        "    }\n",
        "]"
      ]
    },
    {
      "cell_type": "markdown",
      "source": [
        "## 3. Base Directory Setup"
      ],
      "metadata": {
        "id": "Eyw3T2F6uQ2V"
      },
      "id": "Eyw3T2F6uQ2V"
    },
    {
      "cell_type": "code",
      "execution_count": null,
      "id": "aca633b5",
      "metadata": {
        "id": "aca633b5"
      },
      "outputs": [],
      "source": [
        "from pathlib import Path\n",
        "# Define the base directory using pathlib (no escape sequence issues)\n",
        "BASE_DIR = Path(\"/content\")"
      ]
    },
    {
      "cell_type": "code",
      "source": [
        "# CORRECT: Set BASE_DIR to the directory, not the file\n",
        "BASE_DIR = Path(\"/content\")  # This is the directory in Colab\n",
        "\n",
        "# Alternative: You can also use\n",
        "# BASE_DIR = Path(\"/content/\")\n",
        "\n",
        "print(f\"Base directory: {BASE_DIR}\")\n",
        "print(f\"Base directory exists: {BASE_DIR.exists()}\")\n",
        "\n",
        "# List files in the directory\n",
        "if BASE_DIR.exists():\n",
        "    files = [f.name for f in BASE_DIR.iterdir()]\n",
        "    print(f\"Files in {BASE_DIR}: {files}\")"
      ],
      "metadata": {
        "colab": {
          "base_uri": "https://localhost:8080/"
        },
        "id": "_7MJ-Lbfs0Js",
        "outputId": "10cdc581-c6ff-41a2-bf51-e1a37077b6c0"
      },
      "id": "_7MJ-Lbfs0Js",
      "execution_count": null,
      "outputs": [
        {
          "output_type": "stream",
          "name": "stdout",
          "text": [
            "Base directory: /content\n",
            "Base directory exists: True\n",
            "Files in /content: ['.config', 'temp_eer_2.pdf', 'gen-ai-462005-7ec6dfae325a.json', 'sample_data']\n"
          ]
        }
      ]
    },
    {
      "cell_type": "markdown",
      "source": [
        "## Core Functions\n",
        "1. GCS Bucket Listing"
      ],
      "metadata": {
        "id": "zgKcVqq8uX9M"
      },
      "id": "zgKcVqq8uX9M"
    },
    {
      "cell_type": "code",
      "execution_count": null,
      "id": "02723b9c",
      "metadata": {
        "colab": {
          "base_uri": "https://localhost:8080/"
        },
        "id": "02723b9c",
        "outputId": "535a2836-a7d2-49c6-e316-7ddaedd63149"
      },
      "outputs": [
        {
          "output_type": "stream",
          "name": "stdout",
          "text": [
            "=== Step 1: Adding Simple GCP Storage Tool ===\n"
          ]
        }
      ],
      "source": [
        "print(\"=== Step 1: Adding Simple GCP Storage Tool ===\")\n",
        "\n",
        "# Simple GCP Storage function (tool)\n",
        "def list_gcs_buckets():\n",
        "    \"\"\"\n",
        "    Try to list buckets, but if permission denied, try to access the specific bucket instead\n",
        "    \"\"\"\n",
        "    try:\n",
        "        client = storage.Client(project=\"Gen-ai\")\n",
        "        buckets = list(client.list_buckets())\n",
        "        bucket_names = [bucket.name for bucket in buckets]\n",
        "        return f\"Found {len(bucket_names)} buckets: {', '.join(bucket_names)}\"\n",
        "    except Exception as e:\n",
        "        # If listing fails due to permissions, try to access the specific bucket\n",
        "        try:\n",
        "            client = storage.Client(project=\"Gen-ai\") # GCP Project name\n",
        "            bucket = client.get_bucket(\"bucket_demo7\") ## use your bucket name create on GCP\n",
        "            return f\"Cannot list all buckets (permission denied), but can access bucket: {bucket.name}\"\n",
        "        except Exception as bucket_error:\n",
        "            return f\"Error accessing GCS: {str(e)}. Also cannot access bucket_demo7: {str(bucket_error)}\""
      ]
    },
    {
      "cell_type": "markdown",
      "source": [
        "## 2. File Upload with Debug Information"
      ],
      "metadata": {
        "id": "EYxE-escua_k"
      },
      "id": "EYxE-escua_k"
    },
    {
      "cell_type": "code",
      "execution_count": null,
      "id": "eaa17b52",
      "metadata": {
        "id": "eaa17b52"
      },
      "outputs": [],
      "source": [
        "def upload_to_gcs_debug(file_name):\n",
        "    \"\"\"\n",
        "    Upload file with debugging - handles the correct filename\n",
        "    \"\"\"\n",
        "    try:\n",
        "        # Handle common filename variations\n",
        "        possible_names = [\n",
        "            file_name,\n",
        "            file_name.replace('_', ' '),\n",
        "            file_name.replace(' ', '_'),\n",
        "            file_name.replace('eer2', 'eer_2'),\n",
        "            file_name.replace('eer_2', 'eer2')\n",
        "        ]\n",
        "\n",
        "        file_path = None\n",
        "        actual_filename = None\n",
        "\n",
        "        # Find the actual file\n",
        "        for name in possible_names:\n",
        "            test_path = BASE_DIR / name\n",
        "            if test_path.exists():\n",
        "                file_path = test_path\n",
        "                actual_filename = name\n",
        "                break\n",
        "\n",
        "        if file_path is None:\n",
        "            # List all PDF files for reference\n",
        "            if BASE_DIR.exists():\n",
        "                pdf_files = [f.name for f in BASE_DIR.iterdir() if f.suffix.lower() == '.pdf']\n",
        "                return f\"❌ File '{file_name}' not found. Available PDF files: {pdf_files}\"\n",
        "            else:\n",
        "                return f\"❌ Directory '{BASE_DIR}' does not exist\"\n",
        "\n",
        "        print(f\"Debug: Found file at: {file_path}\")\n",
        "        print(f\"Debug: Actual filename: {actual_filename}\")\n",
        "        print(f\"Debug: File size: {file_path.stat().st_size} bytes\")\n",
        "\n",
        "        client = storage.Client(project=\"Gen-ai\") ## use your project name\n",
        "        print(\"Debug: GCP client created successfully\")\n",
        "\n",
        "        bucket = client.get_bucket(\"bucket_demo7\") ## use your bucket name create on GCP\n",
        "        print(f\"Debug: Bucket retrieved successfully: {bucket.name}\")\n",
        "\n",
        "        # Use the original requested filename for the blob name\n",
        "        blob = bucket.blob(file_name)\n",
        "        print(f\"Debug: Blob object created: {blob.name}\")\n",
        "\n",
        "        blob.upload_from_filename(str(file_path)) ## use your file path\n",
        "        print(\"Debug: Upload completed\")\n",
        "\n",
        "        return f\"✅ Successfully uploaded '{actual_filename}' as '{file_name}' to bucket 'bucket_demo7'\"\n",
        "    except Exception as e:\n",
        "        return f\"❌ Error uploading to GCS: {str(e)}\""
      ]
    },
    {
      "cell_type": "markdown",
      "source": [
        "## 3. Permission Checking"
      ],
      "metadata": {
        "id": "xduDWJmsueDs"
      },
      "id": "xduDWJmsueDs"
    },
    {
      "cell_type": "code",
      "execution_count": null,
      "id": "d082c9ae",
      "metadata": {
        "id": "d082c9ae"
      },
      "outputs": [],
      "source": [
        "def check_bucket_permissions():\n",
        "    \"\"\"\n",
        "    Check what permissions we have on the bucket\n",
        "    \"\"\"\n",
        "    try:\n",
        "        client = storage.Client(project=\"Gen-ai\")\n",
        "        bucket = client.get_bucket(\"bucket_demo7\")\n",
        "\n",
        "        # Test various permissions\n",
        "        permissions_to_test = [\n",
        "            'storage.objects.create',\n",
        "            'storage.objects.get',\n",
        "            'storage.objects.list',\n",
        "            'storage.buckets.get'\n",
        "        ]\n",
        "\n",
        "        allowed_permissions = bucket.test_iam_permissions(permissions_to_test)\n",
        "        return f\"Bucket permissions: {allowed_permissions}\"\n",
        "    except Exception as e:\n",
        "        return f\"Error checking permissions: {str(e)}\""
      ]
    },
    {
      "cell_type": "markdown",
      "source": [
        "## AutoGen Agent Configuration\n",
        "1. GCP Assistant Agent"
      ],
      "metadata": {
        "id": "MK84zjpUuhgN"
      },
      "id": "MK84zjpUuhgN"
    },
    {
      "cell_type": "code",
      "execution_count": null,
      "id": "b904a5c8",
      "metadata": {
        "id": "b904a5c8"
      },
      "outputs": [],
      "source": [
        "# Create an agent that can use GCP tools\n",
        "gcp_assistant = AssistantAgent(\n",
        "    name=\"GCPHelper\",\n",
        "    system_message=\"\"\"\n",
        "You are a helpful assistant that can work with Google Cloud Storage.\n",
        "\n",
        "You have access to these functions:\n",
        "1. check_bucket_permissions() - Check what permissions we have\n",
        "2. list_gcs_buckets() - Lists buckets (may have permission issues)\n",
        "3. upload_to_gcs_debug(file_name) - Uploads a file with detailed debugging\n",
        "\n",
        "When uploading files, the function will automatically handle filename variations\n",
        "(like temp_eer2.pdf vs temp_eer_2.pdf).\n",
        "\"\"\",\n",
        "    llm_config={\n",
        "        \"config_list\": config_list,\n",
        "        \"functions\": [\n",
        "            {\n",
        "                \"name\": \"check_bucket_permissions\",\n",
        "                \"description\": \"Check bucket permissions\",\n",
        "                \"parameters\": {\n",
        "                    \"type\": \"object\",\n",
        "                    \"properties\": {},\n",
        "                    \"required\": []\n",
        "                }\n",
        "            },\n",
        "            {\n",
        "                \"name\": \"list_gcs_buckets\",\n",
        "                \"description\": \"List buckets or access specific bucket\",\n",
        "                \"parameters\": {\n",
        "                    \"type\": \"object\",\n",
        "                    \"properties\": {},\n",
        "                    \"required\": []\n",
        "                }\n",
        "            },\n",
        "            {\n",
        "                \"name\": \"upload_to_gcs_debug\",\n",
        "                \"description\": \"Upload a file to GCS bucket with debugging\",\n",
        "                \"parameters\": {\n",
        "                    \"type\": \"object\",\n",
        "                    \"properties\": {\n",
        "                        \"file_name\": {\n",
        "                            \"type\": \"string\",\n",
        "                            \"description\": \"Name of the file to upload\"\n",
        "                        }\n",
        "                    },\n",
        "                    \"required\": [\"file_name\"]\n",
        "                }\n",
        "            }\n",
        "        ]\n",
        "    }\n",
        ")"
      ]
    },
    {
      "cell_type": "markdown",
      "source": [
        "## 2. User Proxy Agent"
      ],
      "metadata": {
        "id": "-M952to9ukGE"
      },
      "id": "-M952to9ukGE"
    },
    {
      "cell_type": "code",
      "execution_count": null,
      "id": "638fb051",
      "metadata": {
        "id": "638fb051"
      },
      "outputs": [],
      "source": [
        "# Create user proxy\n",
        "user_proxy = UserProxyAgent(\n",
        "    name=\"User\",\n",
        "    human_input_mode=\"NEVER\",\n",
        "    max_consecutive_auto_reply=3,\n",
        "    code_execution_config=False,\n",
        "    function_map={\n",
        "        \"check_bucket_permissions\": check_bucket_permissions,\n",
        "        \"list_gcs_buckets\": list_gcs_buckets,\n",
        "        \"upload_to_gcs_debug\": upload_to_gcs_debug\n",
        "    }\n",
        ")"
      ]
    },
    {
      "cell_type": "markdown",
      "source": [
        "## Usage Example\n",
        "Running the Conversation"
      ],
      "metadata": {
        "id": "Lz8N6qQ_um1c"
      },
      "id": "Lz8N6qQ_um1c"
    },
    {
      "cell_type": "code",
      "execution_count": null,
      "id": "a601800f",
      "metadata": {
        "colab": {
          "base_uri": "https://localhost:8080/"
        },
        "id": "a601800f",
        "outputId": "aec85f34-90fa-43d9-e730-396663a4dee6"
      },
      "outputs": [
        {
          "output_type": "stream",
          "name": "stdout",
          "text": [
            "=== Step 2: Testing GCP Tool Integration ===\n",
            "User (to GCPHelper):\n",
            "\n",
            "Please check bucket permissions, then try to upload the temp_eer_2.pdf file.\n",
            "\n",
            "--------------------------------------------------------------------------------\n",
            "GCPHelper (to User):\n",
            "\n",
            "***** Suggested function call: check_bucket_permissions *****\n",
            "Arguments: \n",
            "{}\n",
            "*************************************************************\n",
            "\n",
            "--------------------------------------------------------------------------------\n",
            "\n",
            ">>>>>>>> EXECUTING FUNCTION check_bucket_permissions...\n",
            "Call ID: None\n",
            "Input arguments: {}\n",
            "\n",
            ">>>>>>>> EXECUTED FUNCTION check_bucket_permissions...\n",
            "Call ID: None\n",
            "Input arguments: {}\n",
            "Output:\n",
            "Bucket permissions: ['storage.buckets.get', 'storage.objects.create', 'storage.objects.get', 'storage.objects.list']\n",
            "User (to GCPHelper):\n",
            "\n",
            "***** Response from calling function (check_bucket_permissions) *****\n",
            "Bucket permissions: ['storage.buckets.get', 'storage.objects.create', 'storage.objects.get', 'storage.objects.list']\n",
            "*********************************************************************\n",
            "\n",
            "--------------------------------------------------------------------------------\n",
            "GCPHelper (to User):\n",
            "\n",
            "***** Suggested function call: upload_to_gcs_debug *****\n",
            "Arguments: \n",
            "{\"file_name\":\"temp_eer_2.pdf\"}\n",
            "********************************************************\n",
            "\n",
            "--------------------------------------------------------------------------------\n",
            "\n",
            ">>>>>>>> EXECUTING FUNCTION upload_to_gcs_debug...\n",
            "Call ID: None\n",
            "Input arguments: {'file_name': 'temp_eer_2.pdf'}\n",
            "Debug: Found file at: /content/temp_eer_2.pdf\n",
            "Debug: Actual filename: temp_eer_2.pdf\n",
            "Debug: File size: 1229101 bytes\n",
            "Debug: GCP client created successfully\n",
            "Debug: Bucket retrieved successfully: bucket_demo7\n",
            "Debug: Blob object created: temp_eer_2.pdf\n",
            "Debug: Upload completed\n",
            "\n",
            ">>>>>>>> EXECUTED FUNCTION upload_to_gcs_debug...\n",
            "Call ID: None\n",
            "Input arguments: {'file_name': 'temp_eer_2.pdf'}\n",
            "Output:\n",
            "✅ Successfully uploaded 'temp_eer_2.pdf' as 'temp_eer_2.pdf' to bucket 'bucket_demo7'\n",
            "User (to GCPHelper):\n",
            "\n",
            "***** Response from calling function (upload_to_gcs_debug) *****\n",
            "✅ Successfully uploaded 'temp_eer_2.pdf' as 'temp_eer_2.pdf' to bucket 'bucket_demo7'\n",
            "****************************************************************\n",
            "\n",
            "--------------------------------------------------------------------------------\n",
            "GCPHelper (to User):\n",
            "\n",
            "I have checked the bucket permissions, which allow for listing, getting, and creating storage objects. I successfully uploaded the file \"temp_eer_2.pdf\" to the bucket \"bucket_demo7\".\n",
            "\n",
            "--------------------------------------------------------------------------------\n",
            "User (to GCPHelper):\n",
            "\n",
            "\n",
            "\n",
            "--------------------------------------------------------------------------------\n",
            "GCPHelper (to User):\n",
            "\n",
            "Is there anything else you would like to do with the Google Cloud Storage buckets?\n",
            "\n",
            "--------------------------------------------------------------------------------\n",
            "\n",
            ">>>>>>>> TERMINATING RUN (69ec8519-c8bc-4a61-9fa1-934da5f51dfc): Maximum number of consecutive auto-replies reached\n"
          ]
        }
      ],
      "source": [
        "print(\"=== Step 2: Testing GCP Tool Integration ===\")\n",
        "\n",
        "# Test the GCP tool integration\n",
        "try:\n",
        "    conversation = user_proxy.initiate_chat(\n",
        "        gcp_assistant,\n",
        "        message=\"Please check bucket permissions, then try to upload the temp_eer_2.pdf file.\"\n",
        "    )\n",
        "except Exception as e:\n",
        "    print(f\"Error in AutoGen conversation: {str(e)}\")"
      ]
    },
    {
      "cell_type": "code",
      "execution_count": null,
      "id": "842ae78b",
      "metadata": {
        "id": "842ae78b"
      },
      "outputs": [],
      "source": []
    }
  ],
  "metadata": {
    "kernelspec": {
      "display_name": "Python 3",
      "name": "python3"
    },
    "language_info": {
      "codemirror_mode": {
        "name": "ipython",
        "version": 3
      },
      "file_extension": ".py",
      "mimetype": "text/x-python",
      "name": "python",
      "nbconvert_exporter": "python",
      "pygments_lexer": "ipython3",
      "version": "3.13.5"
    },
    "colab": {
      "provenance": [],
      "gpuType": "T4"
    },
    "accelerator": "GPU"
  },
  "nbformat": 4,
  "nbformat_minor": 5
}
