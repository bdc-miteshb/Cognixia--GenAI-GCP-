{
  "cells": [
    {
      "cell_type": "markdown",
      "source": [
        "## AutoGen with Google Cloud Storage Integration\n",
        "### Overview\n",
        "This Jupyter notebook demonstrates how to integrate AutoGen (multi-agent conversation framework) with Google Cloud Storage (GCS) for automated file management tasks.\n",
        "\n",
        "## What is AutoGen?\n",
        "AutoGen is Microsoft's cutting-edge framework for creating multi-agent conversational AI systems. It enables multiple AI agents to collaborate, debate, and solve complex problems through structured conversations.\n",
        "Key AutoGen Features:\n",
        "\n",
        "* Multi-Agent Conversations: Multiple AI agents can talk to each other\n",
        "* Role Specialization: Each agent can have specific roles and capabilities\n",
        "* Function Calling: Agents can execute real-world functions and tools\n",
        "* Conversation Flow Control: Sophisticated conversation management\n",
        "* Human-in-the-Loop: Optional human oversight and intervention\n",
        "\n",
        "## What is Google Cloud Storage (GCS)?\n",
        "Google Cloud Storage is Google's object storage service for storing and accessing data on Google Cloud Platform. It's designed for storing any amount of data and retrieving it as often as needed.\n",
        "Key GCS Features:\n",
        "\n",
        "* Scalable Storage: Store from gigabytes to petabytes\n",
        "* Global Accessibility: Access data from anywhere in the world\n",
        "* Security: Enterprise-grade security and access controls\n",
        "* Cost-Effective: Multiple storage classes for different use cases\n",
        "* Integration: Works seamlessly with other Google Cloud services\n",
        "\n",
        "Dependencies and Installation"
      ],
      "metadata": {
        "id": "fp3WZJmbtrbu"
      },
      "id": "fp3WZJmbtrbu"
    },
    {
      "cell_type": "code",
      "source": [
        "!pip install autogen pyautogen google-cloud-storage google-generativeai python-dotenv langchain_google_genai ag2[gemini] vertexai"
      ],
      "metadata": {
        "id": "JyI0yVpstj8l"
      },
      "id": "JyI0yVpstj8l",
      "execution_count": null,
      "outputs": []
    },
    {
      "cell_type": "markdown",
      "source": [
        "## Required Imports"
      ],
      "metadata": {
        "id": "yQmlE1VJt0mV"
      },
      "id": "yQmlE1VJt0mV"
    },
    {
      "cell_type": "code",
      "execution_count": 45,
      "id": "2bdc84e5",
      "metadata": {
        "id": "2bdc84e5"
      },
      "outputs": [],
      "source": [
        "import os\n",
        "import google.generativeai as genai\n",
        "import autogen\n",
        "from autogen import ConversableAgent\n",
        "from google.cloud import storage\n",
        "from pathlib import Path"
      ]
    },
    {
      "cell_type": "markdown",
      "source": [
        "## Configuration Setup\n",
        "1. Google Cloud Authentication"
      ],
      "metadata": {
        "id": "8Qps5vbHt4Hc"
      },
      "id": "8Qps5vbHt4Hc"
    },
    {
      "cell_type": "code",
      "source": [
        "print(\"Setting up GCP credentials...\")\n",
        "api_key = \"Your JSON file name\"  # Your JSON file name\n",
        "os.environ[\"GOOGLE_APPLICATION_CREDENTIALS\"] = api_key"
      ],
      "metadata": {
        "colab": {
          "base_uri": "https://localhost:8080/"
        },
        "id": "c9mAEbPQ30Gm",
        "outputId": "8e9c8e50-e531-4a8b-b742-9372cc6e5cbe"
      },
      "id": "c9mAEbPQ30Gm",
      "execution_count": 46,
      "outputs": [
        {
          "output_type": "stream",
          "name": "stdout",
          "text": [
            "Setting up GCP credentials...\n"
          ]
        }
      ]
    },
    {
      "cell_type": "code",
      "source": [
        "print(\"Setting up Gemini API...\")\n",
        "GEMINI_API_KEY = \"Your GEMINI API key\"  # Your API key\n",
        "os.environ[\"GOOGLE_API_KEY\"] = GEMINI_API_KEY\n",
        "genai.configure(api_key=GEMINI_API_KEY)"
      ],
      "metadata": {
        "colab": {
          "base_uri": "https://localhost:8080/"
        },
        "id": "e_2giVbh7CH1",
        "outputId": "483bfa12-f9f5-47db-cf09-e4522d5b9051"
      },
      "id": "e_2giVbh7CH1",
      "execution_count": 47,
      "outputs": [
        {
          "output_type": "stream",
          "name": "stdout",
          "text": [
            "Setting up Gemini API...\n"
          ]
        }
      ]
    },
    {
      "cell_type": "code",
      "source": [
        "print(\"Testing connections...\")\n",
        "try:\n",
        "    # Test GCP\n",
        "    client = storage.Client(project=\"Gen-ai\")\n",
        "    print(f\"✅ GCP connected: {client.project}\")\n",
        "\n",
        "    # Test Gemini\n",
        "    model = genai.GenerativeModel('gemini-1.5-flash')\n",
        "    test = model.generate_content(\"Hello\")\n",
        "    print(f\"✅ Gemini connected: {test.text[:30]}...\")\n",
        "except Exception as e:\n",
        "    print(f\"❌ Connection error: {e}\")\n",
        "    print(\"Please check your API keys and JSON file\")"
      ],
      "metadata": {
        "colab": {
          "base_uri": "https://localhost:8080/",
          "height": 69
        },
        "id": "OVNoRHpR7Dv1",
        "outputId": "fe8b3e5c-852c-4d9a-aed6-41a51eb9d675"
      },
      "id": "OVNoRHpR7Dv1",
      "execution_count": 48,
      "outputs": [
        {
          "output_type": "stream",
          "name": "stdout",
          "text": [
            "Testing connections...\n",
            "✅ GCP connected: Gen-ai\n",
            "✅ Gemini connected: Hello there! How can I help yo...\n"
          ]
        }
      ]
    },
    {
      "cell_type": "code",
      "source": [
        "print(\"Configuring AutoGen for Gemini...\")\n",
        "config_list = [\n",
        "    {\n",
        "        \"model\": \"gemini-1.5-flash\",\n",
        "        \"api_key\": GEMINI_API_KEY,\n",
        "        \"api_type\": \"google\"\n",
        "    }\n",
        "]"
      ],
      "metadata": {
        "colab": {
          "base_uri": "https://localhost:8080/"
        },
        "id": "d1K9vAHb7GF8",
        "outputId": "c9282fb7-2918-4503-c6d9-6ae40a0ef1e3"
      },
      "id": "d1K9vAHb7GF8",
      "execution_count": 49,
      "outputs": [
        {
          "output_type": "stream",
          "name": "stdout",
          "text": [
            "Configuring AutoGen for Gemini...\n"
          ]
        }
      ]
    },
    {
      "cell_type": "markdown",
      "source": [
        "### STEP 2: SET BASE DIRECTORY"
      ],
      "metadata": {
        "id": "jMsrU7tN8Hod"
      },
      "id": "jMsrU7tN8Hod"
    },
    {
      "cell_type": "code",
      "source": [
        "BASE_DIR = Path(\"/content\")  # For Google Colab\n",
        "# For local use: BASE_DIR = Path(r\"C:\\your\\path\\here\")\n",
        "print(f\"Base directory: {BASE_DIR}\")"
      ],
      "metadata": {
        "colab": {
          "base_uri": "https://localhost:8080/"
        },
        "id": "QkvATBaF7IBM",
        "outputId": "c4190feb-58f7-4b07-97fe-fb9ad76bfcf1"
      },
      "id": "QkvATBaF7IBM",
      "execution_count": 50,
      "outputs": [
        {
          "output_type": "stream",
          "name": "stdout",
          "text": [
            "Base directory: /content\n"
          ]
        }
      ]
    },
    {
      "cell_type": "markdown",
      "source": [
        "### STEP 3: DEFINE GCP FUNCTIONS"
      ],
      "metadata": {
        "id": "l36y77PS8N2t"
      },
      "id": "l36y77PS8N2t"
    },
    {
      "cell_type": "code",
      "source": [
        "def check_bucket_permissions():\n",
        "    \"\"\"Check bucket permissions\"\"\"\n",
        "    try:\n",
        "        client = storage.Client(project=\"Gen-ai\")\n",
        "        bucket = client.get_bucket(\"bucket_demo7\")\n",
        "        permissions_to_test = [\n",
        "            'storage.objects.create',\n",
        "            'storage.objects.get',\n",
        "            'storage.objects.list',\n",
        "            'storage.buckets.get'\n",
        "        ]\n",
        "        allowed_permissions = bucket.test_iam_permissions(permissions_to_test)\n",
        "        return f\"Bucket permissions: {allowed_permissions}\"\n",
        "    except Exception as e:\n",
        "        return f\"Error checking permissions: {str(e)}\""
      ],
      "metadata": {
        "id": "8jVUY2SC7Jtl"
      },
      "id": "8jVUY2SC7Jtl",
      "execution_count": 51,
      "outputs": []
    },
    {
      "cell_type": "code",
      "source": [
        "def list_gcs_buckets():\n",
        "    \"\"\"List GCS buckets\"\"\"\n",
        "    try:\n",
        "        client = storage.Client(project=\"Gen-ai\")\n",
        "        buckets = list(client.list_buckets())\n",
        "        bucket_names = [bucket.name for bucket in buckets]\n",
        "        return f\"Found {len(bucket_names)} buckets: {', '.join(bucket_names)}\"\n",
        "    except Exception as e:\n",
        "        try:\n",
        "            client = storage.Client(project=\"Gen-ai\")\n",
        "            bucket = client.get_bucket(\"bucket_demo7\")\n",
        "            return f\"Cannot list all buckets, but can access: {bucket.name}\"\n",
        "        except Exception as bucket_error:\n",
        "            return f\"Error: {str(e)}\""
      ],
      "metadata": {
        "id": "xoPs0A8h7PMF"
      },
      "id": "xoPs0A8h7PMF",
      "execution_count": 52,
      "outputs": []
    },
    {
      "cell_type": "code",
      "source": [
        "def upload_to_gcs_debug(file_name):\n",
        "    \"\"\"Upload file to GCS with debugging\"\"\"\n",
        "    try:\n",
        "        # Handle filename variations\n",
        "        possible_names = [\n",
        "            file_name,\n",
        "            file_name.replace('_', ' '),\n",
        "            file_name.replace(' ', '_'),\n",
        "            file_name.replace('eer2', 'eer_2'),\n",
        "            file_name.replace('eer_2', 'eer2')\n",
        "        ]\n",
        "\n",
        "        file_path = None\n",
        "        actual_filename = None\n",
        "\n",
        "        # Find the file\n",
        "        for name in possible_names:\n",
        "            test_path = BASE_DIR / name\n",
        "            if test_path.exists():\n",
        "                file_path = test_path\n",
        "                actual_filename = name\n",
        "                break\n",
        "\n",
        "        if file_path is None:\n",
        "            if BASE_DIR.exists():\n",
        "                pdf_files = [f.name for f in BASE_DIR.iterdir() if f.suffix.lower() == '.pdf']\n",
        "                return f\"❌ File '{file_name}' not found. Available: {pdf_files}\"\n",
        "            else:\n",
        "                return f\"❌ Directory '{BASE_DIR}' does not exist\"\n",
        "\n",
        "        print(f\"Debug: Found file: {file_path}\")\n",
        "        print(f\"Debug: Filename: {actual_filename}\")\n",
        "        print(f\"Debug: Size: {file_path.stat().st_size} bytes\")\n",
        "\n",
        "        # Upload to GCS\n",
        "        client = storage.Client(project=\"Gen-ai\")\n",
        "        bucket = client.get_bucket(\"bucket_demo7\")\n",
        "        blob = bucket.blob(file_name)\n",
        "        blob.upload_from_filename(str(file_path))\n",
        "\n",
        "        return f\"✅ Successfully uploaded '{actual_filename}' as '{file_name}' to bucket_demo7\"\n",
        "    except Exception as e:\n",
        "        return f\"❌ Upload error: {str(e)}\"\n",
        "\n",
        "print(\"GCP functions defined successfully!\")"
      ],
      "metadata": {
        "colab": {
          "base_uri": "https://localhost:8080/"
        },
        "id": "DCtXzmke7Q81",
        "outputId": "801c3599-ae63-40dc-c7ea-04a464d375ba"
      },
      "id": "DCtXzmke7Q81",
      "execution_count": 53,
      "outputs": [
        {
          "output_type": "stream",
          "name": "stdout",
          "text": [
            "GCP functions defined successfully!\n"
          ]
        }
      ]
    },
    {
      "cell_type": "markdown",
      "source": [
        "### STEP 4: CREATE AUTOGEN AGENTS"
      ],
      "metadata": {
        "id": "-QHvqOic8Scl"
      },
      "id": "-QHvqOic8Scl"
    },
    {
      "cell_type": "code",
      "source": [
        "print(\"Creating AutoGen agents...\")\n",
        "\n",
        "# 7a. Create GCP Agent (uses Gemini 1.5 Flash)\n",
        "gcp_agent = ConversableAgent(\n",
        "    name=\"GCPAgent\",\n",
        "    system_message=\"\"\"You are a GCP Storage assistant. You can:\n",
        "1. check_bucket_permissions() - Check permissions\n",
        "2. list_gcs_buckets() - List buckets\n",
        "3. upload_to_gcs_debug(file_name) - Upload files\n",
        "\n",
        "Use these functions to help users with GCS tasks. Always call the actual functions, don't write code blocks.\"\"\",\n",
        "    llm_config={\n",
        "        \"config_list\": config_list,\n",
        "        \"functions\": [\n",
        "            {\n",
        "                \"name\": \"check_bucket_permissions\",\n",
        "                \"description\": \"Check bucket permissions\",\n",
        "                \"parameters\": {\"type\": \"object\", \"properties\": {}, \"required\": []}\n",
        "            },\n",
        "            {\n",
        "                \"name\": \"list_gcs_buckets\",\n",
        "                \"description\": \"List buckets\",\n",
        "                \"parameters\": {\"type\": \"object\", \"properties\": {}, \"required\": []}\n",
        "            },\n",
        "            {\n",
        "                \"name\": \"upload_to_gcs_debug\",\n",
        "                \"description\": \"Upload a file to GCS\",\n",
        "                \"parameters\": {\n",
        "                    \"type\": \"object\",\n",
        "                    \"properties\": {\n",
        "                        \"file_name\": {\"type\": \"string\", \"description\": \"File to upload\"}\n",
        "                    },\n",
        "                    \"required\": [\"file_name\"]\n",
        "                }\n",
        "            }\n",
        "        ]\n",
        "    },\n",
        "    human_input_mode=\"NEVER\"\n",
        ")"
      ],
      "metadata": {
        "colab": {
          "base_uri": "https://localhost:8080/"
        },
        "id": "4oVq7Iok7TEF",
        "outputId": "960dd72c-2ef7-4576-8d27-2d4665a6d82d"
      },
      "id": "4oVq7Iok7TEF",
      "execution_count": 54,
      "outputs": [
        {
          "output_type": "stream",
          "name": "stdout",
          "text": [
            "Creating AutoGen agents...\n"
          ]
        }
      ]
    },
    {
      "cell_type": "markdown",
      "source": [
        "### STEP 5: Create User Agent (executes functions)"
      ],
      "metadata": {
        "id": "ef86X4o48ZjM"
      },
      "id": "ef86X4o48ZjM"
    },
    {
      "cell_type": "code",
      "source": [
        "user_agent = ConversableAgent(\n",
        "    name=\"User\",\n",
        "    system_message=\"You execute functions and return results.\",\n",
        "    llm_config=False,\n",
        "    human_input_mode=\"NEVER\",\n",
        "    function_map={\n",
        "        \"check_bucket_permissions\": check_bucket_permissions,\n",
        "        \"list_gcs_buckets\": list_gcs_buckets,\n",
        "        \"upload_to_gcs_debug\": upload_to_gcs_debug\n",
        "    }\n",
        ")\n",
        "print(\"✅ Agents created successfully!\")"
      ],
      "metadata": {
        "colab": {
          "base_uri": "https://localhost:8080/"
        },
        "id": "OttZ4sQP7VKV",
        "outputId": "08411b75-672e-4b6b-8381-2aa66b0eba3f"
      },
      "id": "OttZ4sQP7VKV",
      "execution_count": 56,
      "outputs": [
        {
          "output_type": "stream",
          "name": "stdout",
          "text": [
            "✅ Agents created successfully!\n"
          ]
        }
      ]
    },
    {
      "cell_type": "markdown",
      "source": [
        "### STEP 6: TEST THE SYSTEM"
      ],
      "metadata": {
        "id": "WGJsHx8_8fct"
      },
      "id": "WGJsHx8_8fct"
    },
    {
      "cell_type": "code",
      "source": [
        "print(\"\\n\" + \"=\"*50)\n",
        "print(\"TESTING GEMINI + AUTOGEN + GCP\")\n",
        "print(\"=\"*50)\n",
        "\n",
        "# 8a. Test functions directly first\n",
        "print(\"\\n1. DIRECT FUNCTION TESTS:\")\n",
        "print(\"-\" * 30)\n",
        "print(\"Testing permissions:\", check_bucket_permissions())\n",
        "print(\"Testing buckets:\", list_gcs_buckets())\n",
        "print(\"Testing upload:\", upload_to_gcs_debug(\"temp_eer_2.pdf\"))\n",
        "\n",
        "# 8b. Test with AutoGen conversation\n",
        "print(\"\\n2. AUTOGEN CONVERSATION TEST:\")\n",
        "print(\"-\" * 35)\n",
        "try:\n",
        "    result = user_agent.initiate_chat(\n",
        "        gcp_agent,\n",
        "        message=\"Please check bucket permissions and then upload temp_eer_2.pdf file.\",\n",
        "        max_turns=2\n",
        "    )\n",
        "    print(\"\\n✅ Conversation completed successfully!\")\n",
        "except Exception as e:\n",
        "    print(f\"\\n❌ Conversation error: {str(e)}\")\n",
        "    print(\"Note: If direct function calls work above, your GCP setup is correct.\")"
      ],
      "metadata": {
        "colab": {
          "base_uri": "https://localhost:8080/"
        },
        "id": "oJfjqix27W2N",
        "outputId": "d17254d1-cf22-450b-9142-dca2b4e1e937"
      },
      "id": "oJfjqix27W2N",
      "execution_count": 57,
      "outputs": [
        {
          "output_type": "stream",
          "name": "stdout",
          "text": [
            "\n",
            "==================================================\n",
            "TESTING GEMINI + AUTOGEN + GCP\n",
            "==================================================\n",
            "\n",
            "1. DIRECT FUNCTION TESTS:\n",
            "------------------------------\n",
            "Testing permissions: Bucket permissions: ['storage.buckets.get', 'storage.objects.create', 'storage.objects.get', 'storage.objects.list']\n",
            "Testing buckets: Cannot list all buckets, but can access: bucket_demo7\n",
            "Debug: Found file: /content/temp_eer_2.pdf\n",
            "Debug: Filename: temp_eer_2.pdf\n",
            "Debug: Size: 1229101 bytes\n",
            "Testing upload: ✅ Successfully uploaded 'temp_eer_2.pdf' as 'temp_eer_2.pdf' to bucket_demo7\n",
            "\n",
            "2. AUTOGEN CONVERSATION TEST:\n",
            "-----------------------------------\n",
            "User (to GCPAgent):\n",
            "\n",
            "Please check bucket permissions and then upload temp_eer_2.pdf file.\n",
            "\n",
            "--------------------------------------------------------------------------------\n"
          ]
        },
        {
          "output_type": "stream",
          "name": "stderr",
          "text": [
            "WARNING:google_genai._api_client:Both GOOGLE_API_KEY and GEMINI_API_KEY are set. Using GOOGLE_API_KEY.\n"
          ]
        },
        {
          "output_type": "stream",
          "name": "stdout",
          "text": [
            "GCPAgent (to User):\n",
            "\n",
            "Okay, I'll first check the bucket permissions.\n",
            "\n",
            "```tool_code\n",
            "check_bucket_permissions()\n",
            "```\n",
            "\n",
            "Assuming the permissions check is successful, I'll proceed with uploading the file.\n",
            "\n",
            "```tool_code\n",
            "upload_to_gcs_debug(\"temp_eer_2.pdf\")\n",
            "```\n",
            "\n",
            "\n",
            "--------------------------------------------------------------------------------\n",
            "User (to GCPAgent):\n",
            "\n",
            "\n",
            "\n",
            "--------------------------------------------------------------------------------\n"
          ]
        },
        {
          "output_type": "stream",
          "name": "stderr",
          "text": [
            "WARNING:google_genai._api_client:Both GOOGLE_API_KEY and GEMINI_API_KEY are set. Using GOOGLE_API_KEY.\n"
          ]
        },
        {
          "output_type": "stream",
          "name": "stdout",
          "text": [
            "GCPAgent (to User):\n",
            "\n",
            "I need a task to perform.  I can check bucket permissions (`check_bucket_permissions()`), list your GCS buckets (`list_gcs_buckets()`), or upload a file (`upload_to_gcs_debug(file_name)`).  Please tell me what you'd like me to do.\n",
            "\n",
            "\n",
            "--------------------------------------------------------------------------------\n",
            "\n",
            ">>>>>>>> TERMINATING RUN (b37fc0d3-0f8d-47b7-b2bb-60d5ffb884c3): Maximum turns (2) reached\n",
            "\n",
            "✅ Conversation completed successfully!\n"
          ]
        }
      ]
    }
  ],
  "metadata": {
    "kernelspec": {
      "display_name": "Python 3",
      "name": "python3"
    },
    "language_info": {
      "codemirror_mode": {
        "name": "ipython",
        "version": 3
      },
      "file_extension": ".py",
      "mimetype": "text/x-python",
      "name": "python",
      "nbconvert_exporter": "python",
      "pygments_lexer": "ipython3",
      "version": "3.13.5"
    },
    "colab": {
      "provenance": [],
      "gpuType": "T4"
    },
    "accelerator": "GPU"
  },
  "nbformat": 4,
  "nbformat_minor": 5
}