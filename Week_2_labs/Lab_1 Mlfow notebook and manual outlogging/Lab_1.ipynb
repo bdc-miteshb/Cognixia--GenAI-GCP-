{
  "cells": [
    {
      "cell_type": "markdown",
      "metadata": {
        "id": "n1T6TrKPPWsN"
      },
      "source": [
        "# MLflow Notebook: Manual Logging, Autologging, and Model Version Control"
      ]
    },
    {
      "cell_type": "markdown",
      "metadata": {
        "id": "H5dzyU1uPWsO"
      },
      "source": [
        "## Introduction to MLflow\n",
        "\n",
        "MLflow is an open-source platform designed to streamline the machine learning lifecycle, including experimentation, reproducibility, and deployment. It provides tools for tracking experiments, packaging code into reproducible runs, and sharing and deploying models. MLflow is highly flexible, supporting multiple machine learning frameworks like Scikit-learn, TensorFlow, and PyTorch, and integrates seamlessly with various data science workflows.\n",
        "\n",
        "## Why Use MLflow?\n",
        "\n",
        "MLflow simplifies the machine learning process by offering a centralized platform to:\n",
        "- Track Experiments: Log parameters, metrics, and artifacts to compare different model runs.\n",
        "- Reproduce Results: Ensure consistency by capturing the environment and code versions.\n",
        "- Deploy Models: Facilitate deployment to production environments with standardized formats.\n",
        "- Collaborate: Share experiments and models across teams for better collaboration.\n",
        "\n",
        "This notebook demonstrates MLflow's capabilities using a telecom dataset to predict allocated bandwidth with a Linear Regression model, covering manual logging, autologging, and model version control."
      ]
    },
    {
      "cell_type": "markdown",
      "metadata": {
        "id": "GS6ck4eEPWsP"
      },
      "source": [
        "### Setup\n",
        "\n",
        "First, let's install."
      ]
    },
    {
      "cell_type": "code",
      "execution_count": 1,
      "metadata": {
        "id": "05NfCy-d3IFM",
        "colab": {
          "base_uri": "https://localhost:8080/"
        },
        "outputId": "197b6968-e638-4633-f5b9-62704566c106"
      },
      "outputs": [
        {
          "output_type": "stream",
          "name": "stdout",
          "text": [
            "\u001b[2K   \u001b[90m━━━━━━━━━━━━━━━━━━━━━━━━━━━━━━━━━━━━━━━━\u001b[0m \u001b[32m24.7/24.7 MB\u001b[0m \u001b[31m22.4 MB/s\u001b[0m eta \u001b[36m0:00:00\u001b[0m\n",
            "\u001b[2K   \u001b[90m━━━━━━━━━━━━━━━━━━━━━━━━━━━━━━━━━━━━━━━━\u001b[0m \u001b[32m1.9/1.9 MB\u001b[0m \u001b[31m30.4 MB/s\u001b[0m eta \u001b[36m0:00:00\u001b[0m\n",
            "\u001b[2K   \u001b[90m━━━━━━━━━━━━━━━━━━━━━━━━━━━━━━━━━━━━━━━━\u001b[0m \u001b[32m242.7/242.7 kB\u001b[0m \u001b[31m12.6 MB/s\u001b[0m eta \u001b[36m0:00:00\u001b[0m\n",
            "\u001b[2K   \u001b[90m━━━━━━━━━━━━━━━━━━━━━━━━━━━━━━━━━━━━━━━━\u001b[0m \u001b[32m147.8/147.8 kB\u001b[0m \u001b[31m2.2 MB/s\u001b[0m eta \u001b[36m0:00:00\u001b[0m\n",
            "\u001b[2K   \u001b[90m━━━━━━━━━━━━━━━━━━━━━━━━━━━━━━━━━━━━━━━━\u001b[0m \u001b[32m114.9/114.9 kB\u001b[0m \u001b[31m4.3 MB/s\u001b[0m eta \u001b[36m0:00:00\u001b[0m\n",
            "\u001b[2K   \u001b[90m━━━━━━━━━━━━━━━━━━━━━━━━━━━━━━━━━━━━━━━━\u001b[0m \u001b[32m85.0/85.0 kB\u001b[0m \u001b[31m3.1 MB/s\u001b[0m eta \u001b[36m0:00:00\u001b[0m\n",
            "\u001b[2K   \u001b[90m━━━━━━━━━━━━━━━━━━━━━━━━━━━━━━━━━━━━━━━━\u001b[0m \u001b[32m733.8/733.8 kB\u001b[0m \u001b[31m12.7 MB/s\u001b[0m eta \u001b[36m0:00:00\u001b[0m\n",
            "\u001b[2K   \u001b[90m━━━━━━━━━━━━━━━━━━━━━━━━━━━━━━━━━━━━━━━━\u001b[0m \u001b[32m203.4/203.4 kB\u001b[0m \u001b[31m9.0 MB/s\u001b[0m eta \u001b[36m0:00:00\u001b[0m\n",
            "\u001b[2K   \u001b[90m━━━━━━━━━━━━━━━━━━━━━━━━━━━━━━━━━━━━━━━━\u001b[0m \u001b[32m65.8/65.8 kB\u001b[0m \u001b[31m4.4 MB/s\u001b[0m eta \u001b[36m0:00:00\u001b[0m\n",
            "\u001b[2K   \u001b[90m━━━━━━━━━━━━━━━━━━━━━━━━━━━━━━━━━━━━━━━━\u001b[0m \u001b[32m118.5/118.5 kB\u001b[0m \u001b[31m4.5 MB/s\u001b[0m eta \u001b[36m0:00:00\u001b[0m\n",
            "\u001b[2K   \u001b[90m━━━━━━━━━━━━━━━━━━━━━━━━━━━━━━━━━━━━━━━━\u001b[0m \u001b[32m196.2/196.2 kB\u001b[0m \u001b[31m4.8 MB/s\u001b[0m eta \u001b[36m0:00:00\u001b[0m\n",
            "\u001b[?25h"
          ]
        }
      ],
      "source": [
        "!pip install mlflow pandas scikit-learn pyngrok -q"
      ]
    },
    {
      "cell_type": "markdown",
      "metadata": {
        "id": "qBIxtSXkPWsQ"
      },
      "source": [
        "### Using Ngrok to access Ui\n",
        "\n",
        "Add you token and run this code it will generate endpoint to access Mlflow Ui."
      ]
    },
    {
      "cell_type": "code",
      "execution_count": 2,
      "metadata": {
        "id": "8AIbZx_984Jk"
      },
      "outputs": [],
      "source": [
        "# Get ngrok token (Optional - for sharing your app)\n",
        "# Go to https://ngrok.com and sign up for free\n",
        "# Copy your token and paste it below\n",
        "ngrok_token = \"2yGBZnB7ngE0P19IGz2Qf2DW2EW_3Bj4VstSQQiy16UdWqKvX\"  # Replace with your actual token"
      ]
    },
    {
      "cell_type": "code",
      "execution_count": 3,
      "metadata": {
        "colab": {
          "base_uri": "https://localhost:8080/"
        },
        "id": "5rklXe_R8wV-",
        "outputId": "f51020eb-839f-4355-9b9c-4e87ae639ac1"
      },
      "outputs": [
        {
          "output_type": "stream",
          "name": "stdout",
          "text": [
            "[2025-07-07 04:56:41 +0000] [549] [INFO] Starting gunicorn 23.0.0\n",
            "[2025-07-07 04:56:41 +0000] [549] [INFO] Listening at: http://127.0.0.1:5000 (549)\n",
            "[2025-07-07 04:56:41 +0000] [549] [INFO] Using worker: sync\n",
            "[2025-07-07 04:56:41 +0000] [554] [INFO] Booting worker with pid: 554\n",
            "[2025-07-07 04:56:41 +0000] [555] [INFO] Booting worker with pid: 555\n",
            "[2025-07-07 04:56:41 +0000] [556] [INFO] Booting worker with pid: 556\n",
            "[2025-07-07 04:56:41 +0000] [557] [INFO] Booting worker with pid: 557\n",
            "🚀 Your app is live!\n",
            "🌐 Share this link: NgrokTunnel: \"https://3b87-34-45-82-150.ngrok-free.app\" -> \"http://localhost:5000\"\n",
            "📱 Anyone can access your app with this link!\n"
          ]
        }
      ],
      "source": [
        "# Run Your App (With sharing - requires ngrok token)\n",
        "from pyngrok import ngrok\n",
        "import time\n",
        "import threading\n",
        "\n",
        "# Set your ngrok authentication token (replace ngrok_token with your actual token)\n",
        "ngrok.set_auth_token(ngrok_token)\n",
        "\n",
        "# Function to launch the Streamlit app using a system command\n",
        "def run_app():\n",
        "    !mlflow server --host 127.0.0.1 --port 5000\n",
        "\n",
        "# Terminate any active ngrok tunnels before starting a new one\n",
        "ngrok.kill()\n",
        "\n",
        "# Start the Streamlit app in a separate thread so the script can continue running\n",
        "app_thread = threading.Thread(target=run_app)\n",
        "app_thread.start()\n",
        "\n",
        "# Allow time for the Streamlit app to fully start before creating the tunnel\n",
        "time.sleep(10)\n",
        "\n",
        "# Create a public URL using ngrok and display it\n",
        "try:\n",
        "    public_url = ngrok.connect(5000)\n",
        "    print(\"🚀 Your app is live!\")\n",
        "    print(f\"🌐 Share this link: {public_url}\")\n",
        "    print(\"📱 Anyone can access your app with this link!\")\n",
        "except:\n",
        "    print(\"⚠️ Need ngrok token for sharing. App is running locally.\")"
      ]
    },
    {
      "cell_type": "markdown",
      "metadata": {
        "id": "8Oc0DqkCPWsR"
      },
      "source": [
        "Import the necessary libraries."
      ]
    },
    {
      "cell_type": "code",
      "execution_count": 4,
      "metadata": {
        "id": "WWwGcbeF3Lgj"
      },
      "outputs": [],
      "source": [
        "import mlflow\n",
        "import pandas as pd\n",
        "from sklearn.model_selection import train_test_split\n",
        "from sklearn.linear_model import LinearRegression\n",
        "from sklearn.preprocessing import LabelEncoder\n",
        "from sklearn.metrics import mean_squared_error"
      ]
    },
    {
      "cell_type": "markdown",
      "metadata": {
        "id": "xcmYanjEPWsS"
      },
      "source": [
        "## Data Preparation\n",
        "\n",
        "The dataset contains telecom Quality of Service (QoS) metrics, including Application_Type, Signal_Strength, Latency, Required_Bandwidth, and Allocated_Bandwidth. We'll preprocess the data to make it suitable for modeling."
      ]
    },
    {
      "cell_type": "code",
      "execution_count": 5,
      "metadata": {
        "id": "fRaGD5Ad3LjU"
      },
      "outputs": [],
      "source": [
        "# Load Sample Dataset\n",
        "data = pd.read_csv('Quality of Service 5G.csv')\n",
        "\n",
        "# Clean and convert Signal_Strength and bandwidth columns\n",
        "data['Signal_Strength'] = data['Signal_Strength'].str.replace(' dBm', '').astype(float)\n",
        "data['Required_Bandwidth'] = data['Required_Bandwidth'].apply(lambda x: float(x.replace(' Mbps', '')) if 'Mbps' in x else float(x.replace(' Kbps', '')) / 1000)\n",
        "data['Allocated_Bandwidth'] = data['Allocated_Bandwidth'].apply(lambda x: float(x.replace(' Mbps', '')) if 'Mbps' in x else float(x.replace(' Kbps', '')) / 1000)\n",
        "data['Latency'] = data['Latency'].str.replace(' ms', '').astype(float)\n",
        "data['Resource_Allocation'] = data['Resource_Allocation'].str.replace('%', '').astype(float)\n",
        "\n",
        "# Convert categorical columns to numerical values\n",
        "label_encoder = LabelEncoder()\n",
        "data['Application_Type'] = label_encoder.fit_transform(data['Application_Type'])\n",
        "\n",
        "# Define Features and Target\n",
        "X = data[['Application_Type', 'Signal_Strength', 'Latency', 'Required_Bandwidth']]\n",
        "y = data['Allocated_Bandwidth']\n",
        "\n",
        "# Split Data\n",
        "X_train, X_test, y_train, y_test = train_test_split(X, y, test_size=0.2, random_state=42)"
      ]
    },
    {
      "cell_type": "markdown",
      "metadata": {
        "id": "TgSe9L4iPWsS"
      },
      "source": [
        "## Manual Logging with MLflow\n",
        "\n",
        "Manual Logging: This involves explicitly logging parameters, metrics, and models using MLflow's API. It provides fine-grained control over what is logged, allowing customization for specific use cases.\n",
        "\n",
        "Here, we train a Linear Regression model and manually log parameters and metrics."
      ]
    },
    {
      "cell_type": "code",
      "execution_count": 6,
      "metadata": {
        "colab": {
          "base_uri": "https://localhost:8080/"
        },
        "id": "SAA6Om1U3Lmi",
        "outputId": "d868366f-43cd-4fee-b9c4-1cfda60400f2"
      },
      "outputs": [
        {
          "output_type": "stream",
          "name": "stderr",
          "text": [
            "2025/07/07 04:56:57 WARNING mlflow.models.model: `artifact_path` is deprecated. Please use `name` instead.\n",
            "\u001b[31m2025/07/07 04:57:11 WARNING mlflow.models.model: Model logged without a signature and input example. Please set `input_example` parameter when logging the model to auto infer the model signature.\u001b[0m\n"
          ]
        },
        {
          "output_type": "stream",
          "name": "stdout",
          "text": [
            "Run ID: a12a4b3ca218433ca9db37433198eab0\n",
            "🏃 View run Linear_Regression_Manual at: http://localhost:5000/#/experiments/0/runs/a12a4b3ca218433ca9db37433198eab0\n",
            "🧪 View experiment at: http://localhost:5000/#/experiments/0\n"
          ]
        }
      ],
      "source": [
        "mlflow.set_tracking_uri('http://localhost:5000')\n",
        "\n",
        "# Start an MLflow run\n",
        "with mlflow.start_run(run_name=\"Linear_Regression_Manual\") as run:\n",
        "    # Log Parameters\n",
        "    fit_intercept = True\n",
        "    mlflow.log_param(\"fit_intercept\", fit_intercept)\n",
        "    mlflow.log_param(\"random_state\", 42)\n",
        "\n",
        "    # Train Model\n",
        "    model = LinearRegression(fit_intercept=fit_intercept)\n",
        "    model.fit(X_train, y_train)\n",
        "\n",
        "    # Make Predictions\n",
        "    predictions = model.predict(X_test)\n",
        "    mse = mean_squared_error(y_test, predictions)\n",
        "\n",
        "    # Log Metrics\n",
        "    mlflow.log_metric(\"mean_squared_error\", mse)\n",
        "\n",
        "    # Log Model\n",
        "    mlflow.sklearn.log_model(model, \"linear_regression_model\")\n",
        "\n",
        "    manual_run_id = run.info.run_id\n",
        "\n",
        "    # Print Run ID\n",
        "    print(f\"Run ID: {run.info.run_id}\")"
      ]
    },
    {
      "cell_type": "markdown",
      "metadata": {
        "id": "Hvljhq3oPWsS"
      },
      "source": [
        "Explanation:\n",
        "- mlflow.start_run(): Initiates a new MLflow run to track the experiment.\n",
        "- mlflow.log_param(): Logs model parameters like fit_intercept.\n",
        "- mlflow.log_metric(): Logs evaluation metrics like Mean Squared Error (MSE).\n",
        "- mlflow.sklearn.log_model(): Saves the trained model as an artifact."
      ]
    },
    {
      "cell_type": "markdown",
      "metadata": {
        "id": "vwTbXK0RPWsS"
      },
      "source": [
        "## Autologging with MLflow\n",
        "\n",
        "Autologging: MLflow's autologging feature automatically logs parameters, metrics, and models for supported libraries like Scikit-learn, reducing manual effort and ensuring consistency.\n",
        "\n",
        "Let's enable autologging and train the same Linear Regression model."
      ]
    },
    {
      "cell_type": "code",
      "execution_count": 7,
      "metadata": {
        "colab": {
          "base_uri": "https://localhost:8080/"
        },
        "id": "PNYXbwiH3LsS",
        "outputId": "84834aee-3e1c-4e69-eecb-9b062de2c082"
      },
      "outputs": [
        {
          "output_type": "stream",
          "name": "stderr",
          "text": [
            "2025/07/07 04:57:13 WARNING mlflow.utils.autologging_utils: MLflow autologging encountered a warning: \"/usr/local/lib/python3.11/dist-packages/mlflow/types/utils.py:452: UserWarning: Hint: Inferred schema contains integer column(s). Integer columns in Python cannot represent missing values. If your input data contains missing values at inference time, it will be encoded as floats and will cause a schema enforcement error. The best way to avoid this problem is to infer the model schema based on a realistic data sample (training dataset) that includes missing values. Alternatively, you can declare integer columns as doubles (float64) whenever these columns may have missing values. See `Handling Integers With Missing Values <https://www.mlflow.org/docs/latest/models.html#handling-integers-with-missing-values>`_ for more details.\"\n",
            "2025/07/07 04:57:13 WARNING mlflow.utils.autologging_utils: MLflow autologging encountered a warning: \"/usr/local/lib/python3.11/dist-packages/mlflow/types/utils.py:452: UserWarning: Hint: Inferred schema contains integer column(s). Integer columns in Python cannot represent missing values. If your input data contains missing values at inference time, it will be encoded as floats and will cause a schema enforcement error. The best way to avoid this problem is to infer the model schema based on a realistic data sample (training dataset) that includes missing values. Alternatively, you can declare integer columns as doubles (float64) whenever these columns may have missing values. See `Handling Integers With Missing Values <https://www.mlflow.org/docs/latest/models.html#handling-integers-with-missing-values>`_ for more details.\"\n",
            "2025/07/07 04:57:18 WARNING mlflow.utils.autologging_utils: MLflow autologging encountered a warning: \"/usr/local/lib/python3.11/dist-packages/mlflow/types/utils.py:452: UserWarning: Hint: Inferred schema contains integer column(s). Integer columns in Python cannot represent missing values. If your input data contains missing values at inference time, it will be encoded as floats and will cause a schema enforcement error. The best way to avoid this problem is to infer the model schema based on a realistic data sample (training dataset) that includes missing values. Alternatively, you can declare integer columns as doubles (float64) whenever these columns may have missing values. See `Handling Integers With Missing Values <https://www.mlflow.org/docs/latest/models.html#handling-integers-with-missing-values>`_ for more details.\"\n"
          ]
        },
        {
          "output_type": "stream",
          "name": "stdout",
          "text": [
            "Run ID: 823013b306824507b61b5e12f9b678ad\n",
            "🏃 View run Linear_Regression_Autolog at: http://localhost:5000/#/experiments/0/runs/823013b306824507b61b5e12f9b678ad\n",
            "🧪 View experiment at: http://localhost:5000/#/experiments/0\n"
          ]
        }
      ],
      "source": [
        "# Enable autologging\n",
        "mlflow.sklearn.autolog()\n",
        "\n",
        "# Start an MLflow run with autologging\n",
        "with mlflow.start_run(run_name=\"Linear_Regression_Autolog\") as run:\n",
        "    # Train Model\n",
        "    model = LinearRegression(fit_intercept=True)\n",
        "    model.fit(X_train, y_train)\n",
        "\n",
        "    # Make Predictions\n",
        "    predictions = model.predict(X_test)\n",
        "\n",
        "    # Print Run ID\n",
        "    print(f\"Run ID: {run.info.run_id}\")"
      ]
    },
    {
      "cell_type": "markdown",
      "metadata": {
        "id": "ZMx-h5QwPWsS"
      },
      "source": [
        "Explanation:\n",
        "- mlflow.sklearn.autolog(): Automatically logs parameters (e.g., fit_intercept), metrics (e.g., MSE, R²), and the model itself.\n",
        "- Autologging captures additional details like model coefficients and training time, which are useful for analysis."
      ]
    },
    {
      "cell_type": "markdown",
      "metadata": {
        "id": "mzFf1FfCPWsT"
      },
      "source": [
        "## Model Version Control\n",
        "\n",
        "Model Version Control: MLflow's Model Registry allows you to manage and version models, facilitating collaboration and deployment. You can register models, assign versions, and transition them through stages like \"Staging\" or \"Production.\"\n",
        "\n",
        "Here, we register the model from the manual logging run and demonstrate version control."
      ]
    },
    {
      "cell_type": "code",
      "execution_count": 8,
      "metadata": {
        "colab": {
          "base_uri": "https://localhost:8080/"
        },
        "id": "gokIONN4PWsT",
        "outputId": "e3bd3800-d9f3-46e9-d932-d76b1d3c45f8"
      },
      "outputs": [
        {
          "output_type": "stream",
          "name": "stderr",
          "text": [
            "Successfully registered model 'Linear_Regression_Model'.\n",
            "2025/07/07 04:57:18 WARNING mlflow.tracking._model_registry.fluent: Run with id a12a4b3ca218433ca9db37433198eab0 has no artifacts at artifact path 'linear_regression_model', registering model based on models:/m-649510fcff244dddb3312635e4e503bd instead\n",
            "2025/07/07 04:57:18 INFO mlflow.store.model_registry.abstract_store: Waiting up to 300 seconds for model version to finish creation. Model name: Linear_Regression_Model, version 1\n"
          ]
        },
        {
          "output_type": "stream",
          "name": "stdout",
          "text": [
            "Model registered: Linear_Regression_Model, Version: 1\n",
            "Model version 1 tagged with stage: staging\n"
          ]
        },
        {
          "output_type": "stream",
          "name": "stderr",
          "text": [
            "Created version '1' of model 'Linear_Regression_Model'.\n"
          ]
        }
      ],
      "source": [
        "from mlflow.tracking import MlflowClient\n",
        "import mlflow\n",
        "\n",
        "# Assuming manual_run_id is from your previous run\n",
        "model_name = \"Linear_Regression_Model\"\n",
        "\n",
        "try:\n",
        "    # Register the model from the run\n",
        "    model_uri = f\"runs:/{manual_run_id}/linear_regression_model\"\n",
        "    result = mlflow.register_model(model_uri=model_uri, name=model_name)\n",
        "    print(f\"Model registered: {model_name}, Version: {result.version}\")\n",
        "\n",
        "    # Optionally, tag the model version (modern alternative to staging)\n",
        "    client = MlflowClient()\n",
        "    client.set_model_version_tag(\n",
        "        name=model_name,\n",
        "        version=result.version,\n",
        "        key=\"stage\",\n",
        "        value=\"staging\"\n",
        "    )\n",
        "    print(f\"Model version {result.version} tagged with stage: staging\")\n",
        "\n",
        "except Exception as e:\n",
        "    print(f\"Error registering model: {str(e)}\")"
      ]
    },
    {
      "cell_type": "markdown",
      "metadata": {
        "id": "LMYpC3z1PWsT"
      },
      "source": [
        "Explanation:\n",
        "\n",
        "- mlflow.register_model(): Registers the model in the MLflow Model Registry.\n",
        "- client.transition_model_version_stage(): Moves the model to the \"Staging\" stage, indicating it's ready for testing."
      ]
    }
  ],
  "metadata": {
    "colab": {
      "provenance": []
    },
    "kernelspec": {
      "display_name": "temp_venv",
      "language": "python",
      "name": "python3"
    },
    "language_info": {
      "codemirror_mode": {
        "name": "ipython",
        "version": 3
      },
      "file_extension": ".py",
      "mimetype": "text/x-python",
      "name": "python",
      "nbconvert_exporter": "python",
      "pygments_lexer": "ipython3",
      "version": "3.10.4"
    }
  },
  "nbformat": 4,
  "nbformat_minor": 0
}