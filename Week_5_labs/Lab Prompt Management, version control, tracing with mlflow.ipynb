{
 "cells": [
  {
   "cell_type": "markdown",
   "id": "Xlfw-6Ml24Iz",
   "metadata": {
    "id": "Xlfw-6Ml24Iz"
   },
   "source": [
    "## MLflow Prompt Management Lab "
   ]
  },
  {
   "cell_type": "markdown",
   "id": "PYhAFizn29FU",
   "metadata": {
    "id": "PYhAFizn29FU"
   },
   "source": [
    "## Step 1: Install Required Dependencies\n",
    "Install the necessary packages for MLflow, pandas, scikit-learn, and pyngrok:"
   ]
  },
  {
   "cell_type": "code",
   "execution_count": null,
   "id": "a5c84lv-2uSF",
   "metadata": {
    "id": "a5c84lv-2uSF"
   },
   "outputs": [],
   "source": [
    "!pip install mlflow pandas scikit-learn pyngrok -q"
   ]
  },
  {
   "cell_type": "code",
   "execution_count": null,
   "id": "k_zBojqE1NFP",
   "metadata": {
    "id": "k_zBojqE1NFP"
   },
   "outputs": [],
   "source": [
    "!pip install langchain-openai -q"
   ]
  },
  {
   "cell_type": "code",
   "execution_count": null,
   "id": "3PYreqmUE3bP",
   "metadata": {
    "colab": {
     "base_uri": "https://localhost:8080/"
    },
    "id": "3PYreqmUE3bP",
    "outputId": "83c442bc-4324-4ce0-992c-2dd0143c6146"
   },
   "outputs": [
    {
     "name": "stdout",
     "output_type": "stream",
     "text": []
    }
   ],
   "source": [
    "# Install ngrok\n",
    "!pip install pyngrok -q\n",
    "\n",
    "# Authenticate ngrok with your API key\n",
    "from pyngrok import ngrok\n",
    "ngrok.set_auth_token(\"YOUR_API_KEY\")  # Replace with your ngrok authtoken"
   ]
  },
  {
   "cell_type": "code",
   "execution_count": null,
   "id": "uyOlnooVE3eP",
   "metadata": {
    "colab": {
     "base_uri": "https://localhost:8080/"
    },
    "id": "uyOlnooVE3eP",
    "outputId": "a29c7391-8be3-4629-bb0c-2ae86e0a2348"
   },
   "outputs": [
    {
     "name": "stdout",
     "output_type": "stream",
     "text": [
      "MLflow UI is available at: NgrokTunnel: \"https://59f46c12d836.ngrok-free.app\" -> \"http://localhost:5000\"\n"
     ]
    }
   ],
   "source": [
    "import subprocess\n",
    "from pyngrok import ngrok\n",
    "\n",
    "# Start MLflow server in the background\n",
    "get_ipython().system_raw(\"mlflow server --host 127.0.0.1 --port 5000 &\")\n",
    "\n",
    "# Create an ngrok tunnel to the MLflow server\n",
    "public_url = ngrok.connect(5000, \"http\")\n",
    "print(f\"MLflow UI is available at: {public_url}\")"
   ]
  },
  {
   "cell_type": "markdown",
   "id": "wSuAxh7K3axE",
   "metadata": {
    "id": "wSuAxh7K3axE"
   },
   "source": [
    "## Step 2: Initialize MLflow and Set Up Experiment\n",
    "Set up MLflow tracking and create an experiment for prompt management:"
   ]
  },
  {
   "cell_type": "code",
   "execution_count": null,
   "id": "60040d54",
   "metadata": {
    "colab": {
     "base_uri": "https://localhost:8080/"
    },
    "id": "60040d54",
    "outputId": "427d9846-8756-4c3a-b5d3-e01c837c7044"
   },
   "outputs": [
    {
     "name": "stderr",
     "output_type": "stream",
     "text": [
      "2025/07/11 04:52:35 INFO mlflow.tracking.fluent: Experiment with name 'Prompt Management Lab' does not exist. Creating a new experiment.\n"
     ]
    },
    {
     "name": "stdout",
     "output_type": "stream",
     "text": [
      "✅ MLflow is ready to manage our prompts!\n"
     ]
    }
   ],
   "source": [
    "import mlflow\n",
    "import mlflow.tracking\n",
    "import pandas as pd\n",
    "from datetime import datetime\n",
    "import os\n",
    "import subprocess\n",
    "\n",
    "# Start MLflow - this will track everything for us\n",
    "mlflow.set_tracking_uri(\" http://127.0.0.1:5000\")\n",
    "mlflow.set_experiment(\"Prompt Management Lab\")\n",
    "\n",
    "print(\"✅ MLflow is ready to manage our prompts!\")"
   ]
  },
  {
   "cell_type": "markdown",
   "id": "s0K3-ygc3esc",
   "metadata": {
    "id": "s0K3-ygc3esc"
   },
   "source": [
    "## Step 3: Register a Prompt Template\n",
    "Register your first prompt template in MLflow:"
   ]
  },
  {
   "cell_type": "code",
   "execution_count": null,
   "id": "c33d3437",
   "metadata": {
    "colab": {
     "base_uri": "https://localhost:8080/"
    },
    "id": "c33d3437",
    "outputId": "8ae76105-6343-44bc-ef3a-98c9216c08c7"
   },
   "outputs": [
    {
     "name": "stderr",
     "output_type": "stream",
     "text": [
      "2025/07/11 04:52:47 INFO mlflow.store.model_registry.abstract_store: Waiting up to 300 seconds for prompt version to finish creation. Prompt name: chatbot_prompt, version 1\n"
     ]
    }
   ],
   "source": [
    "import mlflow\n",
    "\n",
    "system_prompt = mlflow.genai.register_prompt(\n",
    "    name=\"chatbot_prompt\",\n",
    "    template=\"You are a chatbot that can answer questions about IT. Answer this question: {{question}}\",\n",
    "    commit_message=\"Initial version of chatbot\",\n",
    ")"
   ]
  },
  {
   "cell_type": "markdown",
   "id": "ZTSOGXS53mhU",
   "metadata": {
    "id": "ZTSOGXS53mhU"
   },
   "source": [
    "## Step 4: Create LangChain Integration\n",
    "Convert the MLflow prompt to LangChain format and build a processing chain:"
   ]
  },
  {
   "cell_type": "code",
   "execution_count": null,
   "id": "4eb86cf4",
   "metadata": {
    "colab": {
     "base_uri": "https://localhost:8080/"
    },
    "id": "4eb86cf4",
    "outputId": "f92b0788-60b4-43f6-9413-4455250cb009"
   },
   "outputs": [
    {
     "name": "stdout",
     "output_type": "stream",
     "text": [
      "MLflow is an open-source platform for managing the end-to-end machine learning lifecycle. It allows data scientists to track experiments, package code into reproducible runs, and share and deploy models. MLflow also supports various machine learning libraries and frameworks, making it easier to work with different tools within the same platform.\n"
     ]
    }
   ],
   "source": [
    "from langchain.schema.output_parser import StrOutputParser\n",
    "from langchain_core.prompts import ChatPromptTemplate\n",
    "from langchain_openai import ChatOpenAI\n",
    "\n",
    "OPENAI_API_KEY = \"Your_api_key\"\n",
    "\n",
    "# Convert MLflow prompt to LangChain format\n",
    "prompt = ChatPromptTemplate.from_template(system_prompt.to_single_brace_format())\n",
    "\n",
    "# Build the chain: prompt → LLM → output parser\n",
    "chain = prompt | ChatOpenAI(api_key = OPENAI_API_KEY,temperature=0.7) | StrOutputParser()\n",
    "\n",
    "# Test the chain\n",
    "question = \"What is MLflow?\"\n",
    "print(chain.invoke({\"question\": question}))\n",
    "# MLflow is an open-source platform for mana"
   ]
  },
  {
   "cell_type": "markdown",
   "id": "sS-VHDy13qvb",
   "metadata": {
    "id": "sS-VHDy13qvb"
   },
   "source": [
    "## Step 5: Enable Model Tracking and Autologging\n",
    "Set up automatic tracking for all LLM interactions:"
   ]
  },
  {
   "cell_type": "code",
   "execution_count": null,
   "id": "c92b3048",
   "metadata": {
    "colab": {
     "base_uri": "https://localhost:8080/"
    },
    "id": "c92b3048",
    "outputId": "bc6f71e5-74f4-4de8-b841-1b6fd8c167e9"
   },
   "outputs": [
    {
     "name": "stderr",
     "output_type": "stream",
     "text": [
      "2025/07/11 04:58:26 INFO mlflow.tracking.fluent: LoggedModel with name 'langchain_model' does not exist, creating one...\n",
      "2025/07/11 04:58:27 INFO mlflow.tracking.fluent: Active model is set to the logged model with ID: m-5af7da4b6b5c4d80ad2be9eabf4f253a\n"
     ]
    }
   ],
   "source": [
    "# Set the active model for linking traces\n",
    "mlflow.set_active_model(name=\"langchain_model\")\n",
    "\n",
    "# Enable autologging - all traces will be automatically linked to the active model\n",
    "mlflow.langchain.autolog()"
   ]
  },
  {
   "cell_type": "markdown",
   "id": "bPvhIFRr3uLk",
   "metadata": {
    "id": "bPvhIFRr3uLk"
   },
   "source": [
    "## Step 6: Run Multiple Test Questions and Track Results\n",
    "Execute multiple questions and verify trace tracking:"
   ]
  },
  {
   "cell_type": "code",
   "execution_count": null,
   "id": "7747e01c",
   "metadata": {
    "colab": {
     "base_uri": "https://localhost:8080/",
     "height": 995
    },
    "id": "7747e01c",
    "outputId": "fcefdc1d-36a1-4ebb-efbe-144e0f112627"
   },
   "outputs": [
    {
     "data": {
      "application/vnd.google.colaboratory.intrinsic+json": {
       "repr_error": "Out of range float values are not JSON compliant: nan",
       "type": "dataframe"
      },
      "text/html": [
       "\n",
       "  <div id=\"df-1008462e-282b-4c52-b33e-dd802fb59008\" class=\"colab-df-container\">\n",
       "    <div>\n",
       "<style scoped>\n",
       "    .dataframe tbody tr th:only-of-type {\n",
       "        vertical-align: middle;\n",
       "    }\n",
       "\n",
       "    .dataframe tbody tr th {\n",
       "        vertical-align: top;\n",
       "    }\n",
       "\n",
       "    .dataframe thead th {\n",
       "        text-align: right;\n",
       "    }\n",
       "</style>\n",
       "<table border=\"1\" class=\"dataframe\">\n",
       "  <thead>\n",
       "    <tr style=\"text-align: right;\">\n",
       "      <th></th>\n",
       "      <th>trace_id</th>\n",
       "      <th>trace</th>\n",
       "      <th>client_request_id</th>\n",
       "      <th>state</th>\n",
       "      <th>request_time</th>\n",
       "      <th>execution_duration</th>\n",
       "      <th>request</th>\n",
       "      <th>response</th>\n",
       "      <th>trace_metadata</th>\n",
       "      <th>tags</th>\n",
       "      <th>spans</th>\n",
       "      <th>assessments</th>\n",
       "    </tr>\n",
       "  </thead>\n",
       "  <tbody>\n",
       "    <tr>\n",
       "      <th>0</th>\n",
       "      <td>c377c37f50b54db798e94721ca10c06a</td>\n",
       "      <td>Trace(trace_id=c377c37f50b54db798e94721ca10c06a)</td>\n",
       "      <td>None</td>\n",
       "      <td>TraceState.OK</td>\n",
       "      <td>1752209914529</td>\n",
       "      <td>596</td>\n",
       "      <td>{'question': 'What are user-defined functions ...</td>\n",
       "      <td>User-defined functions (UDFs) are functions cr...</td>\n",
       "      <td>{'mlflow.traceInputs': '{\"question\": \"What are...</td>\n",
       "      <td>{'mlflow.traceName': 'RunnableSequence', 'mlfl...</td>\n",
       "      <td>[{'trace_id': 'pfJVLw91ZYvO/qo3RWuw3g==', 'spa...</td>\n",
       "      <td>[]</td>\n",
       "    </tr>\n",
       "    <tr>\n",
       "      <th>1</th>\n",
       "      <td>6817cbbbdeb946458d4725725e003014</td>\n",
       "      <td>Trace(trace_id=6817cbbbdeb946458d4725725e003014)</td>\n",
       "      <td>None</td>\n",
       "      <td>TraceState.OK</td>\n",
       "      <td>1752209913943</td>\n",
       "      <td>570</td>\n",
       "      <td>{'question': 'What is Unity Catalog?'}</td>\n",
       "      <td>Unity Catalog is a centralized repository of a...</td>\n",
       "      <td>{'mlflow.traceInputs': '{\"question\": \"What is ...</td>\n",
       "      <td>{'mlflow.traceName': 'RunnableSequence', 'mlfl...</td>\n",
       "      <td>[{'trace_id': 'zLeAlCQ8LcyB4ntTZMp1Bw==', 'spa...</td>\n",
       "      <td>[]</td>\n",
       "    </tr>\n",
       "    <tr>\n",
       "      <th>2</th>\n",
       "      <td>320efcb6d2cd4a5fa462f2692590f8e8</td>\n",
       "      <td>Trace(trace_id=320efcb6d2cd4a5fa462f2692590f8e8)</td>\n",
       "      <td>None</td>\n",
       "      <td>TraceState.OK</td>\n",
       "      <td>1752209912631</td>\n",
       "      <td>1295</td>\n",
       "      <td>{'question': 'What is MLflow Tracking and how ...</td>\n",
       "      <td>MLflow Tracking is a component of the open-sou...</td>\n",
       "      <td>{'mlflow.traceInputs': '{\"question\": \"What is ...</td>\n",
       "      <td>{'mlflow.traceName': 'RunnableSequence', 'mlfl...</td>\n",
       "      <td>[{'trace_id': 'UdX/Jg5J/vIcg9St3am9RA==', 'spa...</td>\n",
       "      <td>[]</td>\n",
       "    </tr>\n",
       "  </tbody>\n",
       "</table>\n",
       "</div>\n",
       "    <div class=\"colab-df-buttons\">\n",
       "\n",
       "  <div class=\"colab-df-container\">\n",
       "    <button class=\"colab-df-convert\" onclick=\"convertToInteractive('df-1008462e-282b-4c52-b33e-dd802fb59008')\"\n",
       "            title=\"Convert this dataframe to an interactive table.\"\n",
       "            style=\"display:none;\">\n",
       "\n",
       "  <svg xmlns=\"http://www.w3.org/2000/svg\" height=\"24px\" viewBox=\"0 -960 960 960\">\n",
       "    <path d=\"M120-120v-720h720v720H120Zm60-500h600v-160H180v160Zm220 220h160v-160H400v160Zm0 220h160v-160H400v160ZM180-400h160v-160H180v160Zm440 0h160v-160H620v160ZM180-180h160v-160H180v160Zm440 0h160v-160H620v160Z\"/>\n",
       "  </svg>\n",
       "    </button>\n",
       "\n",
       "  <style>\n",
       "    .colab-df-container {\n",
       "      display:flex;\n",
       "      gap: 12px;\n",
       "    }\n",
       "\n",
       "    .colab-df-convert {\n",
       "      background-color: #E8F0FE;\n",
       "      border: none;\n",
       "      border-radius: 50%;\n",
       "      cursor: pointer;\n",
       "      display: none;\n",
       "      fill: #1967D2;\n",
       "      height: 32px;\n",
       "      padding: 0 0 0 0;\n",
       "      width: 32px;\n",
       "    }\n",
       "\n",
       "    .colab-df-convert:hover {\n",
       "      background-color: #E2EBFA;\n",
       "      box-shadow: 0px 1px 2px rgba(60, 64, 67, 0.3), 0px 1px 3px 1px rgba(60, 64, 67, 0.15);\n",
       "      fill: #174EA6;\n",
       "    }\n",
       "\n",
       "    .colab-df-buttons div {\n",
       "      margin-bottom: 4px;\n",
       "    }\n",
       "\n",
       "    [theme=dark] .colab-df-convert {\n",
       "      background-color: #3B4455;\n",
       "      fill: #D2E3FC;\n",
       "    }\n",
       "\n",
       "    [theme=dark] .colab-df-convert:hover {\n",
       "      background-color: #434B5C;\n",
       "      box-shadow: 0px 1px 3px 1px rgba(0, 0, 0, 0.15);\n",
       "      filter: drop-shadow(0px 1px 2px rgba(0, 0, 0, 0.3));\n",
       "      fill: #FFFFFF;\n",
       "    }\n",
       "  </style>\n",
       "\n",
       "    <script>\n",
       "      const buttonEl =\n",
       "        document.querySelector('#df-1008462e-282b-4c52-b33e-dd802fb59008 button.colab-df-convert');\n",
       "      buttonEl.style.display =\n",
       "        google.colab.kernel.accessAllowed ? 'block' : 'none';\n",
       "\n",
       "      async function convertToInteractive(key) {\n",
       "        const element = document.querySelector('#df-1008462e-282b-4c52-b33e-dd802fb59008');\n",
       "        const dataTable =\n",
       "          await google.colab.kernel.invokeFunction('convertToInteractive',\n",
       "                                                    [key], {});\n",
       "        if (!dataTable) return;\n",
       "\n",
       "        const docLinkHtml = 'Like what you see? Visit the ' +\n",
       "          '<a target=\"_blank\" href=https://colab.research.google.com/notebooks/data_table.ipynb>data table notebook</a>'\n",
       "          + ' to learn more about interactive tables.';\n",
       "        element.innerHTML = '';\n",
       "        dataTable['output_type'] = 'display_data';\n",
       "        await google.colab.output.renderOutput(dataTable, element);\n",
       "        const docLink = document.createElement('div');\n",
       "        docLink.innerHTML = docLinkHtml;\n",
       "        element.appendChild(docLink);\n",
       "      }\n",
       "    </script>\n",
       "  </div>\n",
       "\n",
       "\n",
       "    <div id=\"df-487795c7-1e22-4188-9fcb-a7ba9728a7fd\">\n",
       "      <button class=\"colab-df-quickchart\" onclick=\"quickchart('df-487795c7-1e22-4188-9fcb-a7ba9728a7fd')\"\n",
       "                title=\"Suggest charts\"\n",
       "                style=\"display:none;\">\n",
       "\n",
       "<svg xmlns=\"http://www.w3.org/2000/svg\" height=\"24px\"viewBox=\"0 0 24 24\"\n",
       "     width=\"24px\">\n",
       "    <g>\n",
       "        <path d=\"M19 3H5c-1.1 0-2 .9-2 2v14c0 1.1.9 2 2 2h14c1.1 0 2-.9 2-2V5c0-1.1-.9-2-2-2zM9 17H7v-7h2v7zm4 0h-2V7h2v10zm4 0h-2v-4h2v4z\"/>\n",
       "    </g>\n",
       "</svg>\n",
       "      </button>\n",
       "\n",
       "<style>\n",
       "  .colab-df-quickchart {\n",
       "      --bg-color: #E8F0FE;\n",
       "      --fill-color: #1967D2;\n",
       "      --hover-bg-color: #E2EBFA;\n",
       "      --hover-fill-color: #174EA6;\n",
       "      --disabled-fill-color: #AAA;\n",
       "      --disabled-bg-color: #DDD;\n",
       "  }\n",
       "\n",
       "  [theme=dark] .colab-df-quickchart {\n",
       "      --bg-color: #3B4455;\n",
       "      --fill-color: #D2E3FC;\n",
       "      --hover-bg-color: #434B5C;\n",
       "      --hover-fill-color: #FFFFFF;\n",
       "      --disabled-bg-color: #3B4455;\n",
       "      --disabled-fill-color: #666;\n",
       "  }\n",
       "\n",
       "  .colab-df-quickchart {\n",
       "    background-color: var(--bg-color);\n",
       "    border: none;\n",
       "    border-radius: 50%;\n",
       "    cursor: pointer;\n",
       "    display: none;\n",
       "    fill: var(--fill-color);\n",
       "    height: 32px;\n",
       "    padding: 0;\n",
       "    width: 32px;\n",
       "  }\n",
       "\n",
       "  .colab-df-quickchart:hover {\n",
       "    background-color: var(--hover-bg-color);\n",
       "    box-shadow: 0 1px 2px rgba(60, 64, 67, 0.3), 0 1px 3px 1px rgba(60, 64, 67, 0.15);\n",
       "    fill: var(--button-hover-fill-color);\n",
       "  }\n",
       "\n",
       "  .colab-df-quickchart-complete:disabled,\n",
       "  .colab-df-quickchart-complete:disabled:hover {\n",
       "    background-color: var(--disabled-bg-color);\n",
       "    fill: var(--disabled-fill-color);\n",
       "    box-shadow: none;\n",
       "  }\n",
       "\n",
       "  .colab-df-spinner {\n",
       "    border: 2px solid var(--fill-color);\n",
       "    border-color: transparent;\n",
       "    border-bottom-color: var(--fill-color);\n",
       "    animation:\n",
       "      spin 1s steps(1) infinite;\n",
       "  }\n",
       "\n",
       "  @keyframes spin {\n",
       "    0% {\n",
       "      border-color: transparent;\n",
       "      border-bottom-color: var(--fill-color);\n",
       "      border-left-color: var(--fill-color);\n",
       "    }\n",
       "    20% {\n",
       "      border-color: transparent;\n",
       "      border-left-color: var(--fill-color);\n",
       "      border-top-color: var(--fill-color);\n",
       "    }\n",
       "    30% {\n",
       "      border-color: transparent;\n",
       "      border-left-color: var(--fill-color);\n",
       "      border-top-color: var(--fill-color);\n",
       "      border-right-color: var(--fill-color);\n",
       "    }\n",
       "    40% {\n",
       "      border-color: transparent;\n",
       "      border-right-color: var(--fill-color);\n",
       "      border-top-color: var(--fill-color);\n",
       "    }\n",
       "    60% {\n",
       "      border-color: transparent;\n",
       "      border-right-color: var(--fill-color);\n",
       "    }\n",
       "    80% {\n",
       "      border-color: transparent;\n",
       "      border-right-color: var(--fill-color);\n",
       "      border-bottom-color: var(--fill-color);\n",
       "    }\n",
       "    90% {\n",
       "      border-color: transparent;\n",
       "      border-bottom-color: var(--fill-color);\n",
       "    }\n",
       "  }\n",
       "</style>\n",
       "\n",
       "      <script>\n",
       "        async function quickchart(key) {\n",
       "          const quickchartButtonEl =\n",
       "            document.querySelector('#' + key + ' button');\n",
       "          quickchartButtonEl.disabled = true;  // To prevent multiple clicks.\n",
       "          quickchartButtonEl.classList.add('colab-df-spinner');\n",
       "          try {\n",
       "            const charts = await google.colab.kernel.invokeFunction(\n",
       "                'suggestCharts', [key], {});\n",
       "          } catch (error) {\n",
       "            console.error('Error during call to suggestCharts:', error);\n",
       "          }\n",
       "          quickchartButtonEl.classList.remove('colab-df-spinner');\n",
       "          quickchartButtonEl.classList.add('colab-df-quickchart-complete');\n",
       "        }\n",
       "        (() => {\n",
       "          let quickchartButtonEl =\n",
       "            document.querySelector('#df-487795c7-1e22-4188-9fcb-a7ba9728a7fd button');\n",
       "          quickchartButtonEl.style.display =\n",
       "            google.colab.kernel.accessAllowed ? 'block' : 'none';\n",
       "        })();\n",
       "      </script>\n",
       "    </div>\n",
       "\n",
       "    </div>\n",
       "  </div>\n"
      ],
      "text/plain": [
       "                           trace_id  \\\n",
       "0  c377c37f50b54db798e94721ca10c06a   \n",
       "1  6817cbbbdeb946458d4725725e003014   \n",
       "2  320efcb6d2cd4a5fa462f2692590f8e8   \n",
       "\n",
       "                                              trace client_request_id  \\\n",
       "0  Trace(trace_id=c377c37f50b54db798e94721ca10c06a)              None   \n",
       "1  Trace(trace_id=6817cbbbdeb946458d4725725e003014)              None   \n",
       "2  Trace(trace_id=320efcb6d2cd4a5fa462f2692590f8e8)              None   \n",
       "\n",
       "           state   request_time  execution_duration  \\\n",
       "0  TraceState.OK  1752209914529                 596   \n",
       "1  TraceState.OK  1752209913943                 570   \n",
       "2  TraceState.OK  1752209912631                1295   \n",
       "\n",
       "                                             request  \\\n",
       "0  {'question': 'What are user-defined functions ...   \n",
       "1             {'question': 'What is Unity Catalog?'}   \n",
       "2  {'question': 'What is MLflow Tracking and how ...   \n",
       "\n",
       "                                            response  \\\n",
       "0  User-defined functions (UDFs) are functions cr...   \n",
       "1  Unity Catalog is a centralized repository of a...   \n",
       "2  MLflow Tracking is a component of the open-sou...   \n",
       "\n",
       "                                      trace_metadata  \\\n",
       "0  {'mlflow.traceInputs': '{\"question\": \"What are...   \n",
       "1  {'mlflow.traceInputs': '{\"question\": \"What is ...   \n",
       "2  {'mlflow.traceInputs': '{\"question\": \"What is ...   \n",
       "\n",
       "                                                tags  \\\n",
       "0  {'mlflow.traceName': 'RunnableSequence', 'mlfl...   \n",
       "1  {'mlflow.traceName': 'RunnableSequence', 'mlfl...   \n",
       "2  {'mlflow.traceName': 'RunnableSequence', 'mlfl...   \n",
       "\n",
       "                                               spans assessments  \n",
       "0  [{'trace_id': 'pfJVLw91ZYvO/qo3RWuw3g==', 'spa...          []  \n",
       "1  [{'trace_id': 'zLeAlCQ8LcyB4ntTZMp1Bw==', 'spa...          []  \n",
       "2  [{'trace_id': 'UdX/Jg5J/vIcg9St3am9RA==', 'spa...          []  "
      ]
     },
     "execution_count": 14,
     "metadata": {},
     "output_type": "execute_result"
    },
    {
     "data": {
      "text/html": [
       "\n",
       "<div>\n",
       "  <style scoped>\n",
       "  button {\n",
       "    border: none;\n",
       "    border-radius: 4px;\n",
       "    background-color: rgb(34, 114, 180);\n",
       "    font-family: -apple-system, \"system-ui\", \"Segoe UI\", Roboto, \"Helvetica Neue\", Arial;\n",
       "    font-size: 13px;\n",
       "    color: white;\n",
       "    margin-top: 8px;\n",
       "    margin-bottom: 8px;\n",
       "    padding: 8px 16px;\n",
       "    cursor: pointer;\n",
       "  }\n",
       "  button:hover {\n",
       "    background-color: rgb(66, 153, 224);\n",
       "  }\n",
       "  </style>\n",
       "  <button\n",
       "    onclick=\"\n",
       "        const display = this.nextElementSibling.style.display;\n",
       "        const isCollapsed = display === 'none';\n",
       "        this.nextElementSibling.style.display = isCollapsed ? null : 'none';\n",
       "\n",
       "        const verb = isCollapsed ? 'Collapse' : 'Expand';\n",
       "        this.innerText = `${verb} MLflow Trace`;\n",
       "    \"\n",
       "  >Collapse MLflow Trace</button>\n",
       "  <iframe\n",
       "    id=\"trace-renderer\"\n",
       "    style=\"width: 100%; height: 500px; border: none; resize: vertical;\"\n",
       "    src=\"http://127.0.0.1:5000/static-files/lib/notebook-trace-renderer/index.html?trace_id=320efcb6d2cd4a5fa462f2692590f8e8&amp;experiment_id=514671249992002420&amp;trace_id=6817cbbbdeb946458d4725725e003014&amp;experiment_id=514671249992002420&amp;trace_id=c377c37f50b54db798e94721ca10c06a&amp;experiment_id=514671249992002420&amp;version=3.1.1\"\n",
       "  />\n",
       "</div>\n"
      ],
      "text/plain": [
       "[Trace(trace_id=320efcb6d2cd4a5fa462f2692590f8e8), Trace(trace_id=6817cbbbdeb946458d4725725e003014), Trace(trace_id=c377c37f50b54db798e94721ca10c06a)]"
      ]
     },
     "metadata": {},
     "output_type": "display_data"
    }
   ],
   "source": [
    "questions = [\n",
    "    {\"question\": \"What is MLflow Tracking and how does it work?\"},\n",
    "    {\"question\": \"What is Unity Catalog?\"},\n",
    "    {\"question\": \"What are user-defined functions (UDFs)?\"},\n",
    "]\n",
    "outputs = []\n",
    "\n",
    "for question in questions:\n",
    "    outputs.append(chain.invoke(question))\n",
    "\n",
    "# Verify traces are linked to the active model\n",
    "active_model_id = mlflow.get_active_model_id()\n",
    "mlflow.search_traces(model_id=active_model_id)"
   ]
  },
  {
   "cell_type": "code",
   "execution_count": null,
   "id": "76f7cf5d",
   "metadata": {
    "id": "76f7cf5d"
   },
   "outputs": [],
   "source": []
  },
  {
   "cell_type": "code",
   "execution_count": null,
   "id": "bd2637b9",
   "metadata": {
    "id": "bd2637b9"
   },
   "outputs": [],
   "source": []
  }
 ],
 "metadata": {
  "colab": {
   "provenance": []
  },
  "kernelspec": {
   "display_name": "Python 3",
   "language": "python",
   "name": "python3"
  },
  "language_info": {
   "codemirror_mode": {
    "name": "ipython",
    "version": 3
   },
   "file_extension": ".py",
   "mimetype": "text/x-python",
   "name": "python",
   "nbconvert_exporter": "python",
   "pygments_lexer": "ipython3",
   "version": "3.13.5"
  }
 },
 "nbformat": 4,
 "nbformat_minor": 5
}
