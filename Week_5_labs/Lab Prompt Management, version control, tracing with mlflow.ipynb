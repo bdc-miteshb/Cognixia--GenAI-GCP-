{
  "cells": [
    {
      "cell_type": "markdown",
      "id": "Xlfw-6Ml24Iz",
      "metadata": {
        "id": "Xlfw-6Ml24Iz"
      },
      "source": [
        "## MLflow Prompt Management Lab "
      ]
    },
    {
      "cell_type": "markdown",
      "id": "PYhAFizn29FU",
      "metadata": {
        "id": "PYhAFizn29FU"
      },
      "source": [
        "## Step 1: Install Required Dependencies\n",
        "Install the necessary packages for MLflow, pandas, scikit-learn, and pyngrok:"
      ]
    },
    {
      "cell_type": "code",
      "execution_count": 1,
      "id": "a5c84lv-2uSF",
      "metadata": {
        "colab": {
          "base_uri": "https://localhost:8080/"
        },
        "id": "a5c84lv-2uSF",
        "outputId": "a062af4e-a6ae-44f8-a198-e2d3c7ef09bb"
      },
      "outputs": [
        {
          "name": "stdout",
          "output_type": "stream",
          "text": [
            "\u001b[2K   \u001b[90m━━━━━━━━━━━━━━━━━━━━━━━━━━━━━━━━━━━━━━━━\u001b[0m \u001b[32m24.7/24.7 MB\u001b[0m \u001b[31m54.2 MB/s\u001b[0m eta \u001b[36m0:00:00\u001b[0m\n",
            "\u001b[2K   \u001b[90m━━━━━━━━━━━━━━━━━━━━━━━━━━━━━━━━━━━━━━━━\u001b[0m \u001b[32m1.9/1.9 MB\u001b[0m \u001b[31m83.7 MB/s\u001b[0m eta \u001b[36m0:00:00\u001b[0m\n",
            "\u001b[2K   \u001b[90m━━━━━━━━━━━━━━━━━━━━━━━━━━━━━━━━━━━━━━━━\u001b[0m \u001b[32m247.0/247.0 kB\u001b[0m \u001b[31m21.4 MB/s\u001b[0m eta \u001b[36m0:00:00\u001b[0m\n",
            "\u001b[2K   \u001b[90m━━━━━━━━━━━━━━━━━━━━━━━━━━━━━━━━━━━━━━━━\u001b[0m \u001b[32m147.8/147.8 kB\u001b[0m \u001b[31m13.2 MB/s\u001b[0m eta \u001b[36m0:00:00\u001b[0m\n",
            "\u001b[2K   \u001b[90m━━━━━━━━━━━━━━━━━━━━━━━━━━━━━━━━━━━━━━━━\u001b[0m \u001b[32m114.9/114.9 kB\u001b[0m \u001b[31m9.8 MB/s\u001b[0m eta \u001b[36m0:00:00\u001b[0m\n",
            "\u001b[2K   \u001b[90m━━━━━━━━━━━━━━━━━━━━━━━━━━━━━━━━━━━━━━━━\u001b[0m \u001b[32m85.0/85.0 kB\u001b[0m \u001b[31m7.5 MB/s\u001b[0m eta \u001b[36m0:00:00\u001b[0m\n",
            "\u001b[2K   \u001b[90m━━━━━━━━━━━━━━━━━━━━━━━━━━━━━━━━━━━━━━━━\u001b[0m \u001b[32m676.2/676.2 kB\u001b[0m \u001b[31m49.3 MB/s\u001b[0m eta \u001b[36m0:00:00\u001b[0m\n",
            "\u001b[2K   \u001b[90m━━━━━━━━━━━━━━━━━━━━━━━━━━━━━━━━━━━━━━━━\u001b[0m \u001b[32m203.4/203.4 kB\u001b[0m \u001b[31m19.0 MB/s\u001b[0m eta \u001b[36m0:00:00\u001b[0m\n",
            "\u001b[2K   \u001b[90m━━━━━━━━━━━━━━━━━━━━━━━━━━━━━━━━━━━━━━━━\u001b[0m \u001b[32m65.6/65.6 kB\u001b[0m \u001b[31m4.8 MB/s\u001b[0m eta \u001b[36m0:00:00\u001b[0m\n",
            "\u001b[2K   \u001b[90m━━━━━━━━━━━━━━━━━━━━━━━━━━━━━━━━━━━━━━━━\u001b[0m \u001b[32m119.4/119.4 kB\u001b[0m \u001b[31m11.6 MB/s\u001b[0m eta \u001b[36m0:00:00\u001b[0m\n",
            "\u001b[2K   \u001b[90m━━━━━━━━━━━━━━━━━━━━━━━━━━━━━━━━━━━━━━━━\u001b[0m \u001b[32m201.6/201.6 kB\u001b[0m \u001b[31m15.8 MB/s\u001b[0m eta \u001b[36m0:00:00\u001b[0m\n",
            "\u001b[?25h"
          ]
        }
      ],
      "source": [
        "!pip install mlflow pandas scikit-learn pyngrok -q"
      ]
    },
    {
      "cell_type": "code",
      "execution_count": 2,
      "id": "k_zBojqE1NFP",
      "metadata": {
        "colab": {
          "base_uri": "https://localhost:8080/"
        },
        "id": "k_zBojqE1NFP",
        "outputId": "a8998b53-64d8-4bf7-d0bf-f2837c22fba2"
      },
      "outputs": [
        {
          "name": "stdout",
          "output_type": "stream",
          "text": [
            "\u001b[?25l   \u001b[90m━━━━━━━━━━━━━━━━━━━━━━━━━━━━━━━━━━━━━━━━\u001b[0m \u001b[32m0.0/70.6 kB\u001b[0m \u001b[31m?\u001b[0m eta \u001b[36m-:--:--\u001b[0m\r\u001b[2K   \u001b[90m━━━━━━━━━━━━━━━━━━━━━━━━━━━━━━━━━━━━━━━━\u001b[0m \u001b[32m70.6/70.6 kB\u001b[0m \u001b[31m4.8 MB/s\u001b[0m eta \u001b[36m0:00:00\u001b[0m\n",
            "\u001b[?25h"
          ]
        }
      ],
      "source": [
        "!pip install langchain-google-genai -q"
      ]
    },
    {
      "cell_type": "code",
      "execution_count": null,
      "id": "3PYreqmUE3bP",
      "metadata": {
        "colab": {
          "base_uri": "https://localhost:8080/"
        },
        "id": "3PYreqmUE3bP",
        "outputId": "cb1393e0-7471-4026-f73f-236de12fa1be"
      },
      "outputs": [
        {
          "name": "stdout",
          "output_type": "stream",
          "text": []
        }
      ],
      "source": [
        "# Install ngrok\n",
        "!pip install pyngrok -q\n",
        "\n",
        "# Authenticate ngrok with your API key\n",
        "from pyngrok import ngrok\n",
        "ngrok.set_auth_token(\"Your_api_key\")  # Replace with your ngrok authtoken"
      ]
    },
    {
      "cell_type": "code",
      "execution_count": 4,
      "id": "uyOlnooVE3eP",
      "metadata": {
        "colab": {
          "base_uri": "https://localhost:8080/"
        },
        "id": "uyOlnooVE3eP",
        "outputId": "30016454-1d82-43ad-d448-db3243ea728e"
      },
      "outputs": [
        {
          "name": "stdout",
          "output_type": "stream",
          "text": [
            "MLflow UI is available at: NgrokTunnel: \"https://c8e918c776c4.ngrok-free.app\" -> \"http://localhost:5000\"\n"
          ]
        }
      ],
      "source": [
        "import subprocess\n",
        "from pyngrok import ngrok\n",
        "\n",
        "# Start MLflow server in the background\n",
        "get_ipython().system_raw(\"mlflow server --host 127.0.0.1 --port 5000 &\")\n",
        "\n",
        "# Create an ngrok tunnel to the MLflow server\n",
        "public_url = ngrok.connect(5000, \"http\")\n",
        "print(f\"MLflow UI is available at: {public_url}\")"
      ]
    },
    {
      "cell_type": "markdown",
      "id": "wSuAxh7K3axE",
      "metadata": {
        "id": "wSuAxh7K3axE"
      },
      "source": [
        "## Step 2: Initialize MLflow and Set Up Experiment\n",
        "Set up MLflow tracking and create an experiment for prompt management:"
      ]
    },
    {
      "cell_type": "code",
      "execution_count": 5,
      "id": "60040d54",
      "metadata": {
        "colab": {
          "base_uri": "https://localhost:8080/"
        },
        "id": "60040d54",
        "outputId": "b920385d-2fbc-4462-9eb0-fb358a723361"
      },
      "outputs": [
        {
          "name": "stderr",
          "output_type": "stream",
          "text": [
            "2025/07/18 04:24:17 INFO mlflow.tracking.fluent: Experiment with name 'Prompt Management Lab' does not exist. Creating a new experiment.\n"
          ]
        },
        {
          "name": "stdout",
          "output_type": "stream",
          "text": [
            "✅ MLflow is ready to manage our prompts!\n"
          ]
        }
      ],
      "source": [
        "import mlflow\n",
        "import mlflow.tracking\n",
        "import pandas as pd\n",
        "from datetime import datetime\n",
        "import os\n",
        "import subprocess\n",
        "\n",
        "# Start MLflow - this will track everything for us\n",
        "mlflow.set_tracking_uri(\" http://127.0.0.1:5000\")\n",
        "mlflow.set_experiment(\"Prompt Management Lab\")\n",
        "\n",
        "print(\"✅ MLflow is ready to manage our prompts!\")"
      ]
    },
    {
      "cell_type": "markdown",
      "id": "s0K3-ygc3esc",
      "metadata": {
        "id": "s0K3-ygc3esc"
      },
      "source": [
        "## Step 3: Register a Prompt Template\n",
        "Register your first prompt template in MLflow:"
      ]
    },
    {
      "cell_type": "code",
      "execution_count": 8,
      "id": "c33d3437",
      "metadata": {
        "colab": {
          "base_uri": "https://localhost:8080/"
        },
        "id": "c33d3437",
        "outputId": "059b766e-bb94-4af7-cbbb-55c3ffd5a779"
      },
      "outputs": [
        {
          "name": "stderr",
          "output_type": "stream",
          "text": [
            "2025/07/18 04:31:16 INFO mlflow.store.model_registry.abstract_store: Waiting up to 300 seconds for prompt version to finish creation. Prompt name: chatbot_prompt, version 1\n"
          ]
        }
      ],
      "source": [
        "import mlflow\n",
        "\n",
        "system_prompt = mlflow.genai.register_prompt(\n",
        "    name=\"chatbot_prompt\",\n",
        "    template=\"You are a chatbot that can answer questions about IT. Answer this question: {{question}}\",\n",
        "    commit_message=\"Initial version of chatbot\",\n",
        ")"
      ]
    },
    {
      "cell_type": "markdown",
      "id": "ZTSOGXS53mhU",
      "metadata": {
        "id": "ZTSOGXS53mhU"
      },
      "source": [
        "## Step 4: Create LangChain Integration\n",
        "Convert the MLflow prompt to LangChain format and build a processing chain:"
      ]
    },
    {
      "cell_type": "code",
      "execution_count": null,
      "id": "IzbH-U5Px-I5",
      "metadata": {
        "id": "IzbH-U5Px-I5"
      },
      "outputs": [],
      "source": [
        "!pip install langchain-google-genai -q"
      ]
    },
    {
      "cell_type": "code",
      "execution_count": null,
      "id": "4eb86cf4",
      "metadata": {
        "colab": {
          "base_uri": "https://localhost:8080/"
        },
        "id": "4eb86cf4",
        "outputId": "1d85077c-90f2-47fd-b076-57889191034e"
      },
      "outputs": [
        {
          "name": "stdout",
          "output_type": "stream",
          "text": [
            "MLflow is an open-source platform to manage the complete machine learning (ML) lifecycle. Think of it as a toolkit that helps you develop, track, deploy, and manage your ML models more effectively. It's designed to address the common challenges faced when building and deploying machine learning applications, such as:\n",
            "\n",
            "*   **Experiment Tracking:** Keeping track of different model versions, parameters, metrics, and artifacts (like code, data, and models) during experimentation.\n",
            "*   **Reproducibility:** Ensuring that you can reliably recreate your experiments and models later on.\n",
            "*   **Model Packaging:** Packaging models in a standardized format so they can be deployed to different environments.\n",
            "*   **Model Deployment:** Deploying models to various platforms, such as cloud services, on-premises servers, or edge devices.\n",
            "*   **Model Registry:** Providing a central repository to store, version, and manage your trained models.\n",
            "\n",
            "**Here's a breakdown of the key components of MLflow:**\n",
            "\n",
            "*   **MLflow Tracking:** Records experiments, parameters, metrics, and artifacts, allowing you to easily compare and reproduce results. It provides a UI and API for logging and querying these experiments.\n",
            "*   **MLflow Projects:** Provides a standard format for packaging ML code, making it reproducible and shareable.  It specifies the dependencies and entry points for running the code.\n",
            "*   **MLflow Models:** Defines a standard format for packaging ML models, making them deployable to various platforms.  It supports different model flavors, like scikit-learn, TensorFlow, PyTorch, etc.\n",
            "*   **MLflow Registry:** A central model repository that provides model versioning, stage transitions (e.g., staging, production, archived), and annotations.\n",
            "\n",
            "**In simpler terms, MLflow helps you:**\n",
            "\n",
            "*   **Organize your ML experiments:**  Keep track of what you tried, what worked, and what didn't.\n",
            "*   **Share your ML code and models:**  Make it easy for others to use and reproduce your work.\n",
            "*   **Deploy your ML models:**  Put your models into production quickly and reliably.\n",
            "*   **Manage your ML models over time:** Track model versions, performance, and deployments.\n",
            "\n",
            "**Why is MLflow useful?**\n",
            "\n",
            "*   **Collaboration:**  Facilitates collaboration among data scientists and engineers.\n",
            "*   **Reproducibility:**  Ensures that experiments can be reliably reproduced.\n",
            "*   **Efficiency:**  Streamlines the ML lifecycle, reducing time to deployment.\n",
            "*   **Scalability:**  Handles large-scale ML projects with ease.\n",
            "*   **Vendor-agnostic:**  Works with various ML frameworks and platforms.\n",
            "\n",
            "In essence, MLflow provides a comprehensive and flexible platform for managing the entire ML lifecycle, making it a valuable tool for any organization working with machine learning.\n"
          ]
        }
      ],
      "source": [
        "from langchain.schema.output_parser import StrOutputParser\n",
        "from langchain_core.prompts import ChatPromptTemplate\n",
        "from langchain_google_genai import ChatGoogleGenerativeAI\n",
        "\n",
        "GEMINI_API_KEY= \"Your_api_key\"\n",
        "# Convert MLflow prompt to LangChain format\n",
        "prompt = ChatPromptTemplate.from_template(system_prompt.to_single_brace_format())\n",
        "llm = ChatGoogleGenerativeAI(model=\"gemini-2.0-flash\", temperature=0.7,google_api_key = GEMINI_API_KEY )\n",
        "# Build the chain: prompt → LLM → output parser\n",
        "chain = prompt | llm | StrOutputParser()\n",
        "\n",
        "# Test the chain\n",
        "question = \"What is MLflow?\"\n",
        "print(chain.invoke({\"question\": question}))\n",
        "# MLflow is an open-source platform for mana"
      ]
    },
    {
      "cell_type": "markdown",
      "id": "sS-VHDy13qvb",
      "metadata": {
        "id": "sS-VHDy13qvb"
      },
      "source": [
        "## Step 5: Enable Model Tracking and Autologging\n",
        "Set up automatic tracking for all LLM interactions:"
      ]
    },
    {
      "cell_type": "code",
      "execution_count": 10,
      "id": "c92b3048",
      "metadata": {
        "colab": {
          "base_uri": "https://localhost:8080/"
        },
        "id": "c92b3048",
        "outputId": "63349c30-0d5d-416a-ef7a-aea0fffe3e06"
      },
      "outputs": [
        {
          "name": "stderr",
          "output_type": "stream",
          "text": [
            "2025/07/18 04:31:33 INFO mlflow.tracking.fluent: LoggedModel with name 'langchain_model' does not exist, creating one...\n",
            "2025/07/18 04:31:34 INFO mlflow.tracking.fluent: Active model is set to the logged model with ID: m-f72a42242da04d1d9353c81087813274\n"
          ]
        }
      ],
      "source": [
        "# Set the active model for linking traces\n",
        "mlflow.set_active_model(name=\"langchain_model\")\n",
        "\n",
        "# Enable autologging - all traces will be automatically linked to the active model\n",
        "mlflow.langchain.autolog()"
      ]
    },
    {
      "cell_type": "markdown",
      "id": "bPvhIFRr3uLk",
      "metadata": {
        "id": "bPvhIFRr3uLk"
      },
      "source": [
        "## Step 6: Run Multiple Test Questions and Track Results\n",
        "Execute multiple questions and verify trace tracking:"
      ]
    },
    {
      "cell_type": "code",
      "execution_count": 11,
      "id": "7747e01c",
      "metadata": {
        "colab": {
          "base_uri": "https://localhost:8080/",
          "height": 960
        },
        "id": "7747e01c",
        "outputId": "aeef0009-4f2f-4abf-b14c-b5a693cb5130"
      },
      "outputs": [
        {
          "data": {
            "application/vnd.google.colaboratory.intrinsic+json": {
              "repr_error": "Out of range float values are not JSON compliant: nan",
              "type": "dataframe"
            },
            "text/html": [
              "\n",
              "  <div id=\"df-42f8bd07-0b7d-4082-8e6e-d59b69950802\" class=\"colab-df-container\">\n",
              "    <div>\n",
              "<style scoped>\n",
              "    .dataframe tbody tr th:only-of-type {\n",
              "        vertical-align: middle;\n",
              "    }\n",
              "\n",
              "    .dataframe tbody tr th {\n",
              "        vertical-align: top;\n",
              "    }\n",
              "\n",
              "    .dataframe thead th {\n",
              "        text-align: right;\n",
              "    }\n",
              "</style>\n",
              "<table border=\"1\" class=\"dataframe\">\n",
              "  <thead>\n",
              "    <tr style=\"text-align: right;\">\n",
              "      <th></th>\n",
              "      <th>trace_id</th>\n",
              "      <th>trace</th>\n",
              "      <th>client_request_id</th>\n",
              "      <th>state</th>\n",
              "      <th>request_time</th>\n",
              "      <th>execution_duration</th>\n",
              "      <th>request</th>\n",
              "      <th>response</th>\n",
              "      <th>trace_metadata</th>\n",
              "      <th>tags</th>\n",
              "      <th>spans</th>\n",
              "      <th>assessments</th>\n",
              "    </tr>\n",
              "  </thead>\n",
              "  <tbody>\n",
              "    <tr>\n",
              "      <th>0</th>\n",
              "      <td>6c254e6432264b589ba095e7b7d0ecb3</td>\n",
              "      <td>Trace(trace_id=6c254e6432264b589ba095e7b7d0ecb3)</td>\n",
              "      <td>None</td>\n",
              "      <td>TraceState.OK</td>\n",
              "      <td>1752813110810</td>\n",
              "      <td>5120</td>\n",
              "      <td>{'question': 'What are user-defined functions ...</td>\n",
              "      <td>User-Defined Functions (UDFs) are essentially ...</td>\n",
              "      <td>{'mlflow.user': 'root', 'mlflow.source.git.com...</td>\n",
              "      <td>{'mlflow.artifactLocation': 'mlflow-artifacts:...</td>\n",
              "      <td>[{'trace_id': 'iJFvmjPcKRmyFOjsr8/XsQ==', 'spa...</td>\n",
              "      <td>[]</td>\n",
              "    </tr>\n",
              "    <tr>\n",
              "      <th>1</th>\n",
              "      <td>2af464e94401400bb95a21fe4e07718b</td>\n",
              "      <td>Trace(trace_id=2af464e94401400bb95a21fe4e07718b)</td>\n",
              "      <td>None</td>\n",
              "      <td>TraceState.OK</td>\n",
              "      <td>1752813106379</td>\n",
              "      <td>4415</td>\n",
              "      <td>{'question': 'What is Unity Catalog?'}</td>\n",
              "      <td>Unity Catalog is a comprehensive data governan...</td>\n",
              "      <td>{'mlflow.user': 'root', 'mlflow.source.git.com...</td>\n",
              "      <td>{'mlflow.artifactLocation': 'mlflow-artifacts:...</td>\n",
              "      <td>[{'trace_id': 'OR9xmpz3XaWXGYbkydoWNw==', 'spa...</td>\n",
              "      <td>[]</td>\n",
              "    </tr>\n",
              "    <tr>\n",
              "      <th>2</th>\n",
              "      <td>e5b5a50b76124bb0988f0cedce2379ab</td>\n",
              "      <td>Trace(trace_id=e5b5a50b76124bb0988f0cedce2379ab)</td>\n",
              "      <td>None</td>\n",
              "      <td>TraceState.OK</td>\n",
              "      <td>1752813097503</td>\n",
              "      <td>8859</td>\n",
              "      <td>{'question': 'What is MLflow Tracking and how ...</td>\n",
              "      <td>Okay, here's an explanation of MLflow Tracking...</td>\n",
              "      <td>{'mlflow.user': 'root', 'mlflow.source.git.com...</td>\n",
              "      <td>{'mlflow.artifactLocation': 'mlflow-artifacts:...</td>\n",
              "      <td>[{'trace_id': 'AJ9RlC8XTt2Ehfjjv9oktg==', 'spa...</td>\n",
              "      <td>[]</td>\n",
              "    </tr>\n",
              "  </tbody>\n",
              "</table>\n",
              "</div>\n",
              "    <div class=\"colab-df-buttons\">\n",
              "\n",
              "  <div class=\"colab-df-container\">\n",
              "    <button class=\"colab-df-convert\" onclick=\"convertToInteractive('df-42f8bd07-0b7d-4082-8e6e-d59b69950802')\"\n",
              "            title=\"Convert this dataframe to an interactive table.\"\n",
              "            style=\"display:none;\">\n",
              "\n",
              "  <svg xmlns=\"http://www.w3.org/2000/svg\" height=\"24px\" viewBox=\"0 -960 960 960\">\n",
              "    <path d=\"M120-120v-720h720v720H120Zm60-500h600v-160H180v160Zm220 220h160v-160H400v160Zm0 220h160v-160H400v160ZM180-400h160v-160H180v160Zm440 0h160v-160H620v160ZM180-180h160v-160H180v160Zm440 0h160v-160H620v160Z\"/>\n",
              "  </svg>\n",
              "    </button>\n",
              "\n",
              "  <style>\n",
              "    .colab-df-container {\n",
              "      display:flex;\n",
              "      gap: 12px;\n",
              "    }\n",
              "\n",
              "    .colab-df-convert {\n",
              "      background-color: #E8F0FE;\n",
              "      border: none;\n",
              "      border-radius: 50%;\n",
              "      cursor: pointer;\n",
              "      display: none;\n",
              "      fill: #1967D2;\n",
              "      height: 32px;\n",
              "      padding: 0 0 0 0;\n",
              "      width: 32px;\n",
              "    }\n",
              "\n",
              "    .colab-df-convert:hover {\n",
              "      background-color: #E2EBFA;\n",
              "      box-shadow: 0px 1px 2px rgba(60, 64, 67, 0.3), 0px 1px 3px 1px rgba(60, 64, 67, 0.15);\n",
              "      fill: #174EA6;\n",
              "    }\n",
              "\n",
              "    .colab-df-buttons div {\n",
              "      margin-bottom: 4px;\n",
              "    }\n",
              "\n",
              "    [theme=dark] .colab-df-convert {\n",
              "      background-color: #3B4455;\n",
              "      fill: #D2E3FC;\n",
              "    }\n",
              "\n",
              "    [theme=dark] .colab-df-convert:hover {\n",
              "      background-color: #434B5C;\n",
              "      box-shadow: 0px 1px 3px 1px rgba(0, 0, 0, 0.15);\n",
              "      filter: drop-shadow(0px 1px 2px rgba(0, 0, 0, 0.3));\n",
              "      fill: #FFFFFF;\n",
              "    }\n",
              "  </style>\n",
              "\n",
              "    <script>\n",
              "      const buttonEl =\n",
              "        document.querySelector('#df-42f8bd07-0b7d-4082-8e6e-d59b69950802 button.colab-df-convert');\n",
              "      buttonEl.style.display =\n",
              "        google.colab.kernel.accessAllowed ? 'block' : 'none';\n",
              "\n",
              "      async function convertToInteractive(key) {\n",
              "        const element = document.querySelector('#df-42f8bd07-0b7d-4082-8e6e-d59b69950802');\n",
              "        const dataTable =\n",
              "          await google.colab.kernel.invokeFunction('convertToInteractive',\n",
              "                                                    [key], {});\n",
              "        if (!dataTable) return;\n",
              "\n",
              "        const docLinkHtml = 'Like what you see? Visit the ' +\n",
              "          '<a target=\"_blank\" href=https://colab.research.google.com/notebooks/data_table.ipynb>data table notebook</a>'\n",
              "          + ' to learn more about interactive tables.';\n",
              "        element.innerHTML = '';\n",
              "        dataTable['output_type'] = 'display_data';\n",
              "        await google.colab.output.renderOutput(dataTable, element);\n",
              "        const docLink = document.createElement('div');\n",
              "        docLink.innerHTML = docLinkHtml;\n",
              "        element.appendChild(docLink);\n",
              "      }\n",
              "    </script>\n",
              "  </div>\n",
              "\n",
              "\n",
              "    <div id=\"df-24b9759d-06bf-477f-a703-423af8f4faa5\">\n",
              "      <button class=\"colab-df-quickchart\" onclick=\"quickchart('df-24b9759d-06bf-477f-a703-423af8f4faa5')\"\n",
              "                title=\"Suggest charts\"\n",
              "                style=\"display:none;\">\n",
              "\n",
              "<svg xmlns=\"http://www.w3.org/2000/svg\" height=\"24px\"viewBox=\"0 0 24 24\"\n",
              "     width=\"24px\">\n",
              "    <g>\n",
              "        <path d=\"M19 3H5c-1.1 0-2 .9-2 2v14c0 1.1.9 2 2 2h14c1.1 0 2-.9 2-2V5c0-1.1-.9-2-2-2zM9 17H7v-7h2v7zm4 0h-2V7h2v10zm4 0h-2v-4h2v4z\"/>\n",
              "    </g>\n",
              "</svg>\n",
              "      </button>\n",
              "\n",
              "<style>\n",
              "  .colab-df-quickchart {\n",
              "      --bg-color: #E8F0FE;\n",
              "      --fill-color: #1967D2;\n",
              "      --hover-bg-color: #E2EBFA;\n",
              "      --hover-fill-color: #174EA6;\n",
              "      --disabled-fill-color: #AAA;\n",
              "      --disabled-bg-color: #DDD;\n",
              "  }\n",
              "\n",
              "  [theme=dark] .colab-df-quickchart {\n",
              "      --bg-color: #3B4455;\n",
              "      --fill-color: #D2E3FC;\n",
              "      --hover-bg-color: #434B5C;\n",
              "      --hover-fill-color: #FFFFFF;\n",
              "      --disabled-bg-color: #3B4455;\n",
              "      --disabled-fill-color: #666;\n",
              "  }\n",
              "\n",
              "  .colab-df-quickchart {\n",
              "    background-color: var(--bg-color);\n",
              "    border: none;\n",
              "    border-radius: 50%;\n",
              "    cursor: pointer;\n",
              "    display: none;\n",
              "    fill: var(--fill-color);\n",
              "    height: 32px;\n",
              "    padding: 0;\n",
              "    width: 32px;\n",
              "  }\n",
              "\n",
              "  .colab-df-quickchart:hover {\n",
              "    background-color: var(--hover-bg-color);\n",
              "    box-shadow: 0 1px 2px rgba(60, 64, 67, 0.3), 0 1px 3px 1px rgba(60, 64, 67, 0.15);\n",
              "    fill: var(--button-hover-fill-color);\n",
              "  }\n",
              "\n",
              "  .colab-df-quickchart-complete:disabled,\n",
              "  .colab-df-quickchart-complete:disabled:hover {\n",
              "    background-color: var(--disabled-bg-color);\n",
              "    fill: var(--disabled-fill-color);\n",
              "    box-shadow: none;\n",
              "  }\n",
              "\n",
              "  .colab-df-spinner {\n",
              "    border: 2px solid var(--fill-color);\n",
              "    border-color: transparent;\n",
              "    border-bottom-color: var(--fill-color);\n",
              "    animation:\n",
              "      spin 1s steps(1) infinite;\n",
              "  }\n",
              "\n",
              "  @keyframes spin {\n",
              "    0% {\n",
              "      border-color: transparent;\n",
              "      border-bottom-color: var(--fill-color);\n",
              "      border-left-color: var(--fill-color);\n",
              "    }\n",
              "    20% {\n",
              "      border-color: transparent;\n",
              "      border-left-color: var(--fill-color);\n",
              "      border-top-color: var(--fill-color);\n",
              "    }\n",
              "    30% {\n",
              "      border-color: transparent;\n",
              "      border-left-color: var(--fill-color);\n",
              "      border-top-color: var(--fill-color);\n",
              "      border-right-color: var(--fill-color);\n",
              "    }\n",
              "    40% {\n",
              "      border-color: transparent;\n",
              "      border-right-color: var(--fill-color);\n",
              "      border-top-color: var(--fill-color);\n",
              "    }\n",
              "    60% {\n",
              "      border-color: transparent;\n",
              "      border-right-color: var(--fill-color);\n",
              "    }\n",
              "    80% {\n",
              "      border-color: transparent;\n",
              "      border-right-color: var(--fill-color);\n",
              "      border-bottom-color: var(--fill-color);\n",
              "    }\n",
              "    90% {\n",
              "      border-color: transparent;\n",
              "      border-bottom-color: var(--fill-color);\n",
              "    }\n",
              "  }\n",
              "</style>\n",
              "\n",
              "      <script>\n",
              "        async function quickchart(key) {\n",
              "          const quickchartButtonEl =\n",
              "            document.querySelector('#' + key + ' button');\n",
              "          quickchartButtonEl.disabled = true;  // To prevent multiple clicks.\n",
              "          quickchartButtonEl.classList.add('colab-df-spinner');\n",
              "          try {\n",
              "            const charts = await google.colab.kernel.invokeFunction(\n",
              "                'suggestCharts', [key], {});\n",
              "          } catch (error) {\n",
              "            console.error('Error during call to suggestCharts:', error);\n",
              "          }\n",
              "          quickchartButtonEl.classList.remove('colab-df-spinner');\n",
              "          quickchartButtonEl.classList.add('colab-df-quickchart-complete');\n",
              "        }\n",
              "        (() => {\n",
              "          let quickchartButtonEl =\n",
              "            document.querySelector('#df-24b9759d-06bf-477f-a703-423af8f4faa5 button');\n",
              "          quickchartButtonEl.style.display =\n",
              "            google.colab.kernel.accessAllowed ? 'block' : 'none';\n",
              "        })();\n",
              "      </script>\n",
              "    </div>\n",
              "\n",
              "    </div>\n",
              "  </div>\n"
            ],
            "text/plain": [
              "                           trace_id  \\\n",
              "0  6c254e6432264b589ba095e7b7d0ecb3   \n",
              "1  2af464e94401400bb95a21fe4e07718b   \n",
              "2  e5b5a50b76124bb0988f0cedce2379ab   \n",
              "\n",
              "                                              trace client_request_id  \\\n",
              "0  Trace(trace_id=6c254e6432264b589ba095e7b7d0ecb3)              None   \n",
              "1  Trace(trace_id=2af464e94401400bb95a21fe4e07718b)              None   \n",
              "2  Trace(trace_id=e5b5a50b76124bb0988f0cedce2379ab)              None   \n",
              "\n",
              "           state   request_time  execution_duration  \\\n",
              "0  TraceState.OK  1752813110810                5120   \n",
              "1  TraceState.OK  1752813106379                4415   \n",
              "2  TraceState.OK  1752813097503                8859   \n",
              "\n",
              "                                             request  \\\n",
              "0  {'question': 'What are user-defined functions ...   \n",
              "1             {'question': 'What is Unity Catalog?'}   \n",
              "2  {'question': 'What is MLflow Tracking and how ...   \n",
              "\n",
              "                                            response  \\\n",
              "0  User-Defined Functions (UDFs) are essentially ...   \n",
              "1  Unity Catalog is a comprehensive data governan...   \n",
              "2  Okay, here's an explanation of MLflow Tracking...   \n",
              "\n",
              "                                      trace_metadata  \\\n",
              "0  {'mlflow.user': 'root', 'mlflow.source.git.com...   \n",
              "1  {'mlflow.user': 'root', 'mlflow.source.git.com...   \n",
              "2  {'mlflow.user': 'root', 'mlflow.source.git.com...   \n",
              "\n",
              "                                                tags  \\\n",
              "0  {'mlflow.artifactLocation': 'mlflow-artifacts:...   \n",
              "1  {'mlflow.artifactLocation': 'mlflow-artifacts:...   \n",
              "2  {'mlflow.artifactLocation': 'mlflow-artifacts:...   \n",
              "\n",
              "                                               spans assessments  \n",
              "0  [{'trace_id': 'iJFvmjPcKRmyFOjsr8/XsQ==', 'spa...          []  \n",
              "1  [{'trace_id': 'OR9xmpz3XaWXGYbkydoWNw==', 'spa...          []  \n",
              "2  [{'trace_id': 'AJ9RlC8XTt2Ehfjjv9oktg==', 'spa...          []  "
            ]
          },
          "execution_count": 11,
          "metadata": {},
          "output_type": "execute_result"
        },
        {
          "data": {
            "text/html": [
              "\n",
              "<div>\n",
              "  <style scoped>\n",
              "  button {\n",
              "    border: none;\n",
              "    border-radius: 4px;\n",
              "    background-color: rgb(34, 114, 180);\n",
              "    font-family: -apple-system, \"system-ui\", \"Segoe UI\", Roboto, \"Helvetica Neue\", Arial;\n",
              "    font-size: 13px;\n",
              "    color: white;\n",
              "    margin-top: 8px;\n",
              "    margin-bottom: 8px;\n",
              "    padding: 8px 16px;\n",
              "    cursor: pointer;\n",
              "  }\n",
              "  button:hover {\n",
              "    background-color: rgb(66, 153, 224);\n",
              "  }\n",
              "  </style>\n",
              "  <button\n",
              "    onclick=\"\n",
              "        const display = this.nextElementSibling.style.display;\n",
              "        const isCollapsed = display === 'none';\n",
              "        this.nextElementSibling.style.display = isCollapsed ? null : 'none';\n",
              "\n",
              "        const verb = isCollapsed ? 'Collapse' : 'Expand';\n",
              "        this.innerText = `${verb} MLflow Trace`;\n",
              "    \"\n",
              "  >Collapse MLflow Trace</button>\n",
              "  <iframe\n",
              "    id=\"trace-renderer\"\n",
              "    style=\"width: 100%; height: 500px; border: none; resize: vertical;\"\n",
              "    src=\"http://127.0.0.1:5000/static-files/lib/notebook-trace-renderer/index.html?trace_id=e5b5a50b76124bb0988f0cedce2379ab&amp;experiment_id=106194015834318589&amp;trace_id=2af464e94401400bb95a21fe4e07718b&amp;experiment_id=106194015834318589&amp;trace_id=6c254e6432264b589ba095e7b7d0ecb3&amp;experiment_id=106194015834318589&amp;version=3.1.1\"\n",
              "  />\n",
              "</div>\n"
            ],
            "text/plain": [
              "[Trace(trace_id=e5b5a50b76124bb0988f0cedce2379ab), Trace(trace_id=2af464e94401400bb95a21fe4e07718b), Trace(trace_id=6c254e6432264b589ba095e7b7d0ecb3)]"
            ]
          },
          "metadata": {},
          "output_type": "display_data"
        }
      ],
      "source": [
        "questions = [\n",
        "    {\"question\": \"What is MLflow Tracking and how does it work?\"},\n",
        "    {\"question\": \"What is Unity Catalog?\"},\n",
        "    {\"question\": \"What are user-defined functions (UDFs)?\"},\n",
        "]\n",
        "outputs = []\n",
        "\n",
        "for question in questions:\n",
        "    outputs.append(chain.invoke(question))\n",
        "\n",
        "# Verify traces are linked to the active model\n",
        "active_model_id = mlflow.get_active_model_id()\n",
        "mlflow.search_traces(model_id=active_model_id)"
      ]
    },
    {
      "cell_type": "code",
      "execution_count": null,
      "id": "76f7cf5d",
      "metadata": {
        "id": "76f7cf5d"
      },
      "outputs": [],
      "source": []
    },
    {
      "cell_type": "code",
      "execution_count": null,
      "id": "bd2637b9",
      "metadata": {
        "id": "bd2637b9"
      },
      "outputs": [],
      "source": []
    }
  ],
  "metadata": {
    "accelerator": "GPU",
    "colab": {
      "gpuType": "T4",
      "provenance": []
    },
    "kernelspec": {
      "display_name": "Python 3",
      "name": "python3"
    },
    "language_info": {
      "codemirror_mode": {
        "name": "ipython",
        "version": 3
      },
      "file_extension": ".py",
      "mimetype": "text/x-python",
      "name": "python",
      "nbconvert_exporter": "python",
      "pygments_lexer": "ipython3",
      "version": "3.13.5"
    }
  },
  "nbformat": 4,
  "nbformat_minor": 5
}
