{
  "cells": [
    {
      "cell_type": "markdown",
      "id": "605e7452",
      "metadata": {
        "id": "605e7452"
      },
      "source": [
        "## Langfuse LLM Observability and Prompt Management Tutorial"
      ]
    },
    {
      "cell_type": "markdown",
      "id": "e6044041",
      "metadata": {
        "id": "e6044041"
      },
      "source": [
        "### What is Langfuse?\n",
        "Langfuse is a powerful platform for:\n",
        "\n",
        "* LLM Observability: Track and monitor LLM interactions in production\n",
        "* Tracing: Detailed execution traces for debugging and optimization\n",
        "* Analytics: Performance metrics and cost tracking\n",
        "* Evaluation: Automated quality assessment of LLM outputs"
      ]
    },
    {
      "cell_type": "code",
      "execution_count": 1,
      "id": "dfcb108a",
      "metadata": {
        "id": "dfcb108a"
      },
      "outputs": [],
      "source": [
        "%pip install langfuse langchain langchain-google-genai -q"
      ]
    },
    {
      "cell_type": "markdown",
      "id": "c2315df9",
      "metadata": {
        "id": "c2315df9"
      },
      "source": [
        "### Environment Configuration"
      ]
    },
    {
      "cell_type": "code",
      "execution_count": 25,
      "id": "4aa91c2e",
      "metadata": {
        "id": "4aa91c2e"
      },
      "outputs": [],
      "source": [
        "import os\n",
        "from google.colab import userdata\n",
        "\n",
        "# Get keys for your project from the project settings page: https://cloud.langfuse.com\n",
        "os.environ[\"LANGFUSE_SECRET_KEY\"] = userdata.get('LANGFUSE_SECRET_KEY')\n",
        "os.environ[\"LANGFUSE_PUBLIC_KEY\"] = userdata.get('LANGFUSE_PUBLIC_KEY')\n",
        "os.environ[\"LANGFUSE_HOST\"] = \"https://cloud.langfuse.com\"\n",
        "\n",
        "# Securely get Google API key from Colab secrets\n",
        "os.environ[\"GOOGLE_API_KEY\"] = userdata.get('GOOGLE_API_KEY')"
      ]
    },
    {
      "cell_type": "markdown",
      "id": "991b76f1",
      "metadata": {
        "id": "991b76f1"
      },
      "source": [
        "Purpose: Set up authentication for both Langfuse and ChatGoogleGenerativeAI services.\n",
        "⚠️ Security Note: In production, use environment variables or secure credential management instead of hardcoding API keys"
      ]
    },
    {
      "cell_type": "markdown",
      "id": "505966d5",
      "metadata": {
        "id": "505966d5"
      },
      "source": [
        "### Initialize Langfuse Client"
      ]
    },
    {
      "cell_type": "code",
      "execution_count": 3,
      "id": "26f907b1",
      "metadata": {
        "id": "26f907b1"
      },
      "outputs": [],
      "source": [
        "from langfuse import get_client\n",
        "from langfuse.langchain import CallbackHandler\n",
        "\n",
        "# Initialize Langfuse client (prompt management)\n",
        "langfuse = get_client()\n",
        "\n",
        "# Initialize Langfuse CallbackHandler for Langchain (tracing)\n",
        "langfuse_callback_handler = CallbackHandler()"
      ]
    },
    {
      "cell_type": "markdown",
      "id": "d9188f10",
      "metadata": {
        "id": "d9188f10"
      },
      "source": [
        "### Prompt Management - Create Prompt Template"
      ]
    },
    {
      "cell_type": "code",
      "execution_count": 12,
      "id": "ede86ca5",
      "metadata": {
        "id": "ede86ca5"
      },
      "outputs": [],
      "source": [
        "langfuse.create_prompt(\n",
        "    name=\"event-planner\",\n",
        "    prompt=\n",
        "    \"Plan an event titled {{Event Name}}. The event will be about: {{Event Description}}. \"\n",
        "    \"The event will be held in {{Location}} on {{Date}}. \"\n",
        "    \"Consider the following factors: audience, budget, venue, catering options, and entertainment. \"\n",
        "    \"Provide a detailed plan including potential vendors and logistics.\",\n",
        "    config={\n",
        "        \"model\":\"gemini-2.0-flash\",\n",
        "        \"temperature\": 0,\n",
        "    },\n",
        "    labels=[\"production\"]\n",
        ");"
      ]
    },
    {
      "cell_type": "markdown",
      "id": "88ca52f0",
      "metadata": {
        "id": "88ca52f0"
      },
      "source": [
        "### Retrieve and Use Prompt"
      ]
    },
    {
      "cell_type": "code",
      "execution_count": 13,
      "id": "c93213d6",
      "metadata": {
        "id": "c93213d6"
      },
      "outputs": [],
      "source": [
        "# Get current production version of prompt\n",
        "langfuse_prompt = langfuse.get_prompt(\"event-planner\")"
      ]
    },
    {
      "cell_type": "code",
      "execution_count": 14,
      "id": "274dd77c",
      "metadata": {
        "colab": {
          "base_uri": "https://localhost:8080/"
        },
        "id": "274dd77c",
        "outputId": "93d59db9-df9b-4087-c7ec-2a0bf34b8cfd"
      },
      "outputs": [
        {
          "output_type": "stream",
          "name": "stdout",
          "text": [
            "Plan an event titled {{Event Name}}. The event will be about: {{Event Description}}. The event will be held in {{Location}} on {{Date}}. Consider the following factors: audience, budget, venue, catering options, and entertainment. Provide a detailed plan including potential vendors and logistics.\n"
          ]
        }
      ],
      "source": [
        "print(langfuse_prompt.prompt)"
      ]
    },
    {
      "cell_type": "code",
      "execution_count": 15,
      "id": "547f2f96",
      "metadata": {
        "id": "547f2f96"
      },
      "outputs": [],
      "source": [
        "from langchain_core.prompts import ChatPromptTemplate\n",
        "\n",
        "langchain_prompt = ChatPromptTemplate.from_template(\n",
        "        langfuse_prompt.get_langchain_prompt(),\n",
        "        metadata={\"langfuse_prompt\": langfuse_prompt},\n",
        "    )"
      ]
    },
    {
      "cell_type": "markdown",
      "id": "4f32dc61",
      "metadata": {
        "id": "4f32dc61"
      },
      "source": [
        "### Model Configuration from Prompt"
      ]
    },
    {
      "cell_type": "code",
      "execution_count": 16,
      "id": "f17468dd",
      "metadata": {
        "colab": {
          "base_uri": "https://localhost:8080/"
        },
        "id": "f17468dd",
        "outputId": "3372a1e4-65a3-41e1-ea85-28951621afd9"
      },
      "outputs": [
        {
          "output_type": "stream",
          "name": "stdout",
          "text": [
            "Prompt model configurations\n",
            "Model: gemini-2.0-flash\n",
            "Temperature: 0\n"
          ]
        }
      ],
      "source": [
        "model = langfuse_prompt.config[\"model\"]\n",
        "temperature = str(langfuse_prompt.config[\"temperature\"])\n",
        "print(f\"Prompt model configurations\\nModel: {model}\\nTemperature: {temperature}\")"
      ]
    },
    {
      "cell_type": "code",
      "execution_count": 26,
      "id": "11f182a6",
      "metadata": {
        "id": "11f182a6"
      },
      "outputs": [],
      "source": [
        "from langchain_google_genai import ChatGoogleGenerativeAI\n",
        "from langchain_google_genai import ChatGoogleGenerativeAI\n",
        "\n",
        "model = ChatGoogleGenerativeAI(\n",
        "    model=\"gemini-2.0-flash\",\n",
        "    temperature=0.7\n",
        ")\n",
        "\n",
        "chain = langchain_prompt | model"
      ]
    },
    {
      "cell_type": "markdown",
      "id": "da10cea4",
      "metadata": {
        "id": "da10cea4"
      },
      "source": [
        "### Execute with Tracing"
      ]
    },
    {
      "cell_type": "code",
      "execution_count": 27,
      "id": "e7b6ad4f",
      "metadata": {
        "id": "e7b6ad4f"
      },
      "outputs": [],
      "source": [
        "example_input = {\n",
        "    \"Event Name\": \"Wedding\",\n",
        "    \"Event Description\": \"The wedding of Julia and Alex, a charming couple who share a love for art and nature. This special day will celebrate their journey together with a blend of traditional and contemporary elements, reflecting their unique personalities.\",\n",
        "    \"Location\": \"Central Park, New York City\",\n",
        "    \"Date\": \"June 5, 2024\"\n",
        "}"
      ]
    },
    {
      "cell_type": "code",
      "execution_count": 28,
      "id": "0ce20f2f",
      "metadata": {
        "colab": {
          "base_uri": "https://localhost:8080/"
        },
        "id": "0ce20f2f",
        "outputId": "899e7f45-12c1-4177-88e4-2d281fbacd2f"
      },
      "outputs": [
        {
          "output_type": "stream",
          "name": "stdout",
          "text": [
            "Okay, let's plan your event titled **{Event Name}** on June 5, 2024, in Central Park, NYC, based on the description you provide. I'll need you to fill in the blanks below so I can tailor the plan specifically to your needs:\n",
            "\n",
            "*   **{Event Name}:** (e.g., \"Central Park Wellness Fair,\" \"Shakespeare in the Park Picnic,\" \"NYC Community Art Day\")\n",
            "*   **{Event Description}:** (e.g., \"A day dedicated to promoting health and wellness resources in the NYC community,\" \"A relaxed picnic and informal performance of Shakespeare's 'A Midsummer Night's Dream',\" \"A free event showcasing local artists with interactive workshops and live music.\")\n",
            "\n",
            "For this example, let's assume:\n",
            "\n",
            "*   **{Event Name}:** \"Central Park Wellness Fair\"\n",
            "*   **{Event Description}:** \"A day dedicated to promoting health and wellness resources in the NYC community, featuring free health screenings, fitness demonstrations, healthy food vendors, and educational workshops.\"\n",
            "\n",
            "Here's the detailed event plan:\n",
            "\n",
            "**Event Plan: Central Park Wellness Fair**\n",
            "\n",
            "**1.  Event Overview:**\n",
            "\n",
            "*   **Name:** Central Park Wellness Fair\n",
            "*   **Date:** June 5, 2024 (Wednesday)\n",
            "*   **Time:** 10:00 AM - 4:00 PM (flexible, adjust based on optimal attendance)\n",
            "*   **Location:** Central Park, New York City (Specific location needs to be determined within the park - see Venue below)\n",
            "*   **Purpose:** To provide the NYC community with access to health and wellness resources, promote healthy living, and connect residents with local providers.\n",
            "*   **Target Audience:**  NYC residents of all ages and backgrounds, with a focus on families, young adults, and seniors.  We will specifically target underserved communities.\n",
            "*   **Expected Attendance:**  Estimate 500-1000 attendees (adjust based on budget and marketing reach).\n",
            "\n",
            "**2.  Budget:**\n",
            "\n",
            "*   **Estimated Budget:**  (You need to provide an initial budget range - e.g., $5,000 - $10,000, $10,000 - $20,000, etc.)  This will heavily influence the scale and scope of the event.  For this example, let's assume a budget of **$15,000**.\n",
            "\n",
            "*   **Budget Breakdown (Example):**\n",
            "    *   Permitting/Insurance: $1,000\n",
            "    *   Venue Rental/Setup (if applicable): $500\n",
            "    *   Vendor Fees/Stipends: $3,000\n",
            "    *   Entertainment/Performers: $2,000\n",
            "    *   Marketing/Advertising: $2,000\n",
            "    *   Catering/Refreshments (for volunteers/staff): $1,000\n",
            "    *   Equipment Rental (tables, chairs, tents, sound system): $2,500\n",
            "    *   Security/First Aid: $1,000\n",
            "    *   Contingency Fund: $2,000\n",
            "\n",
            "**3.  Venue:**\n",
            "\n",
            "*   **Location Options (within Central Park):**\n",
            "    *   **Rumsey Playfield:**  Large, open space suitable for multiple vendors and activities. Requires a permit and may be more expensive.\n",
            "    *   **Naumburg Bandshell Area:**  Offers a stage for performances and ample surrounding space.  Also requires a permit.\n",
            "    *   **Sheep Meadow:**  Large open lawn (requires a permit and may have restrictions). Less infrastructure available.\n",
            "    *   **Conservatory Garden:**  Beautiful setting, but may be too restrictive for a large event.\n",
            "    *   **Considerations:**  Accessibility (ADA compliance), proximity to restrooms, shade availability, power access, permit requirements, noise restrictions.\n",
            "\n",
            "*   **Recommended Venue:**  **Rumsey Playfield** (if budget allows) or **Naumburg Bandshell Area** (if stage is desired).  If budget is tight, a section of **Sheep Meadow** could be a more economical choice, but requires careful planning for infrastructure.\n",
            "\n",
            "*   **Permitting:**  Apply for a permit from the Central Park Conservancy *well in advance* (at least 3 months).  The permitting process can be lengthy and requires detailed event plans.  Research their requirements thoroughly.\n",
            "    *   **Central Park Conservancy Website:**  [https://www.centralparknyc.org/](https://www.centralparknyc.org/)\n",
            "\n",
            "**4.  Catering & Food Vendors:**\n",
            "\n",
            "*   **Catering (for Volunteers/Staff):**\n",
            "    *   **Option 1 (Budget-Friendly):** Order boxed lunches from a local deli or sandwich shop.\n",
            "        *   **Potential Vendor:**  Ess-a-Bagel, Zabar's, Murray's Cheese Bar (for a higher-end option)\n",
            "    *   **Option 2 (More Variety):**  Hire a catering company to provide a buffet-style lunch.\n",
            "        *   **Potential Vendor:**  Great Performances, Abigail Kirsch, Sterling Affair\n",
            "\n",
            "*   **Food Vendors (for Attendees):**\n",
            "    *   **Focus:**  Healthy and diverse options that align with the wellness theme.  Prioritize local and sustainable vendors.\n",
            "    *   **Vendor Selection Criteria:**  Health code compliance, insurance, menu variety, pricing, presentation, ability to handle crowds.\n",
            "    *   **Potential Vendors:**\n",
            "        *   **Juice/Smoothie Bars:**  Juice Press, Liquiteria\n",
            "        *   **Salad/Bowl Concepts:**  Sweetgreen, Dig Inn\n",
            "        *   **Vegan/Vegetarian Options:**  Beyond Sushi, Terri\n",
            "        *   **Healthy Snacks:**  RXBAR, KIND Snacks (consider sponsorship opportunities)\n",
            "        *   **Farmers Market Vendors:**  Partner with a local farmers market to include fresh produce and healthy food options.\n",
            "    *   **Vendor Fees:**  Charge vendors a fee to participate (consider a sliding scale based on size/revenue).  Offer incentives for early registration.\n",
            "    *   **Food Safety:**  Ensure all vendors have the necessary permits and licenses to operate in NYC.\n",
            "\n",
            "**5.  Entertainment & Activities:**\n",
            "\n",
            "*   **Fitness Demonstrations:**\n",
            "    *   **Yoga:**  Partner with a local yoga studio to offer free classes throughout the day.\n",
            "        *   **Potential Partners:**  Yoga to the People, Modo Yoga NYC, Pure Yoga\n",
            "    *   **Zumba:**  Engage a Zumba instructor to lead a high-energy dance fitness class.\n",
            "    *   **Tai Chi:**  Offer a calming Tai Chi demonstration.\n",
            "    *   **Boot Camp:**  Provide a challenging boot camp workout.\n",
            "*   **Health Screenings:**\n",
            "    *   **Blood Pressure Checks:**  Partner with a local hospital or clinic to offer free blood pressure screenings.\n",
            "    *   **Glucose Testing:**  Provide glucose testing for diabetes awareness.\n",
            "    *   **Vision Screening:**  Offer basic vision screenings.\n",
            "    *   **Body Mass Index (BMI) Calculation:**\n",
            "*   **Educational Workshops:**\n",
            "    *   **Nutrition:**  Offer workshops on healthy eating habits and meal planning.\n",
            "    *   **Stress Management:**  Provide techniques for managing stress and anxiety.\n",
            "    *   **Meditation:**  Lead guided meditation sessions.\n",
            "    *   **Mental Health Awareness:**  Offer information and resources related to mental health.\n",
            "*   **Live Music:**\n",
            "    *   **Acoustic Music:**  Hire a local acoustic band or musician to provide background music.\n",
            "    *   **DJ:**  Consider a DJ to play upbeat music during fitness demonstrations.\n",
            "*   **Kids' Activities:**\n",
            "    *   **Face Painting:**\n",
            "    *   **Arts and Crafts:**\n",
            "    *   **Games:**\n",
            "\n",
            "**6.  Marketing & Promotion:**\n",
            "\n",
            "*   **Website/Landing Page:**  Create a website or landing page with event details, vendor information, and registration options.\n",
            "*   **Social Media:**  Utilize social media platforms (Facebook, Instagram, Twitter) to promote the event.  Use relevant hashtags (#CentralPark, #WellnessFair, #NYCEvents, #HealthandWellness).\n",
            "*   **Press Release:**  Send a press release to local media outlets (newspapers, magazines, TV stations, radio stations).\n",
            "*   **Flyers/Posters:**  Distribute flyers and posters in high-traffic areas.\n",
            "*   **Partnerships:**  Collaborate with local businesses, community organizations, and health providers to promote the event.\n",
            "*   **Email Marketing:**  Build an email list and send out regular updates about the event.\n",
            "*   **Community Outreach:**  Reach out to community centers, schools, and senior centers to promote the event to their members.\n",
            "\n",
            "**7.  Logistics:**\n",
            "\n",
            "*   **Equipment Rental:**\n",
            "    *   **Tables and Chairs:**  Rent tables and chairs for vendors, workshops, and seating areas.\n",
            "    *   **Tents/Canopies:**  Provide shade for vendors and attendees.\n",
            "    *   **Sound System:**  Rent a sound system for announcements, music, and presentations.\n",
            "    *   **Generators:**  Ensure adequate power supply for vendors and entertainment (if power is not available at the venue).\n",
            "*   **Signage:**  Create clear and informative signage to direct attendees to different areas of the event.\n",
            "*   **Registration/Information Booth:**  Set up a registration/information booth to welcome attendees, provide event information, and distribute maps.\n",
            "*   **Volunteer Coordination:**  Recruit and train volunteers to assist with registration, setup, cleanup, and other tasks.\n",
            "*   **Security:**  Hire security personnel to ensure the safety and security of attendees and vendors.\n",
            "*   **First Aid:**  Provide first aid services in case of emergencies.\n",
            "*   **Waste Management:**  Ensure adequate trash and recycling receptacles are available.\n",
            "*   **Restrooms:**  Confirm restroom availability and accessibility.  Consider renting portable restrooms if necessary.\n",
            "\n",
            "**8.  Contingency Planning:**\n",
            "\n",
            "*   **Weather:**  Have a backup plan in case of rain (e.g., move the event indoors or postpone it).\n",
            "*   **Emergency Procedures:**  Develop emergency procedures for medical emergencies, security threats, and other potential incidents.\n",
            "*   **Cancellation Policy:**  Have a clear cancellation policy for vendors and attendees.\n",
            "\n",
            "**9.  Potential Vendors (Examples):**\n",
            "\n",
            "*   **Event Rental Companies:**  Broadway Party Rentals, Party Rental Ltd.\n",
            "*   **Catering Companies:** Great Performances, Abigail Kirsch, Sterling Affair\n",
            "*   **Security Companies:**  Allied Universal, Securitas\n",
            "*   **First Aid Services:**  NYC Medics, American Medical Response\n",
            "\n",
            "**10. Key Tasks and Timeline:**\n",
            "\n",
            "*   **6+ Months Before:**\n",
            "    *   Secure funding/sponsorships.\n",
            "    *   Determine specific event goals and objectives.\n",
            "    *   Choose a date and reserve the venue (apply for permit).\n",
            "    *   Develop a detailed budget.\n",
            "    *   Recruit a planning committee.\n",
            "*   **3-6 Months Before:**\n",
            "    *   Finalize event plan and logistics.\n",
            "    *   Begin vendor recruitment and registration.\n",
            "    *   Develop marketing and promotion materials.\n",
            "    *   Secure insurance coverage.\n",
            "    *   Recruit volunteers.\n",
            "*   **1-3 Months Before:**\n",
            "    *   Implement marketing and promotion plan.\n",
            "    *   Confirm vendor contracts and logistics.\n",
            "    *   Finalize volunteer schedule and training.\n",
            "    *   Order equipment rentals.\n",
            "    *   Create signage.\n",
            "*   **1 Week Before:**\n",
            "    *   Confirm all vendor and volunteer arrangements.\n",
            "    *   Prepare event materials (maps, brochures, etc.).\n",
            "    *   Conduct a site visit.\n",
            "*   **Day Before:**\n",
            "    *   Set up the venue.\n",
            "    *   Confirm all equipment is in place.\n",
            "    *   Brief volunteers.\n",
            "*   **Day Of:**\n",
            "    *   Execute the event according to plan.\n",
            "    *   Monitor attendee feedback.\n",
            "    *   Address any issues that arise.\n",
            "*   **Post-Event:**\n",
            "    *   Thank vendors, volunteers, and sponsors.\n",
            "    *   Evaluate the event's success.\n",
            "    *   Send out a post-event survey.\n",
            "    *   Prepare a final report.\n",
            "\n",
            "**Important Considerations:**\n",
            "\n",
            "*   **Insurance:**  You will need to obtain event insurance to cover liability and other potential risks.\n",
            "*   **Accessibility:**  Ensure the event is accessible to people with disabilities (ADA compliance).\n",
            "*   **Sustainability:**  Implement sustainable practices (e.g., recycling, compostable materials) to minimize the event's environmental impact.\n",
            "*   **Partnerships:**  Building strong partnerships with local organizations can help to expand your reach and resources.\n",
            "*   **Volunteer Recruitment:**  Recruiting and managing volunteers is crucial for the success of the event.\n",
            "\n",
            "To make this plan more specific, please provide the following information:\n",
            "\n",
            "1.  **Your Estimated Budget:**  This is the MOST important factor in determining the feasibility of this event.\n",
            "2.  **What specific health and wellness resources do you want to showcase?** (e.g., mental health services, cancer screening, diabetes education, etc.)\n",
            "3.  **Are you planning to charge attendees?** (Even a small fee can help offset costs.)\n",
            "4.  **Do you have any existing sponsors or partners?**\n",
            "5.  **What are your key performance indicators (KPIs) for success?** (How will you measure if the event was successful? e.g., number of attendees, vendor satisfaction, media coverage)\n",
            "\n",
            "Once you provide this information, I can refine this plan further and offer more specific recommendations. Good luck!\n"
          ]
        }
      ],
      "source": [
        "# we pass the callback handler to the chain to trace the run in Langfuse\n",
        "response = chain.invoke(input=example_input,config={\"callbacks\":[langfuse_callback_handler]})\n",
        "\n",
        "print(response.content)"
      ]
    },
    {
      "cell_type": "code",
      "execution_count": null,
      "id": "9e3307e9",
      "metadata": {
        "id": "9e3307e9"
      },
      "outputs": [],
      "source": []
    }
  ],
  "metadata": {
    "kernelspec": {
      "display_name": "Python 3",
      "name": "python3"
    },
    "language_info": {
      "codemirror_mode": {
        "name": "ipython",
        "version": 3
      },
      "file_extension": ".py",
      "mimetype": "text/x-python",
      "name": "python",
      "nbconvert_exporter": "python",
      "pygments_lexer": "ipython3",
      "version": "3.13.5"
    },
    "colab": {
      "provenance": [],
      "gpuType": "T4"
    },
    "accelerator": "GPU"
  },
  "nbformat": 4,
  "nbformat_minor": 5
}